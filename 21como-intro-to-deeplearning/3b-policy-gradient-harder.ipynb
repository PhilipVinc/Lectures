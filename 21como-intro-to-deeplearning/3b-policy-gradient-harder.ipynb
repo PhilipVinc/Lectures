{
 "cells": [
  {
   "cell_type": "markdown",
   "id": "a630157d-339d-4588-b2ba-6b01225644e2",
   "metadata": {},
   "source": [
    "# Introduction to Deep Learning\n",
    "\n",
    "## Hands-on 3a: Reinforcement Learning with Policy Gradient\n",
    "Giuseppe Carleo and Filippo Vicentini\n",
    "\n",
    "[![Open in Colab](https://colab.research.google.com/assets/colab-badge.svg)](https://colab.research.google.com/github/PhilipVinc/Lectures/blob/master/21como-intro-to-deeplearning/3b-policy-gradient-harder.ipynb) \n",
    "\n",
    "### Link to the GitHub repository:\n",
    "https://github.com/PhilipVinc/IntroDeepLearning   or  https://bit.ly/3ki90ki"
   ]
  },
  {
   "cell_type": "markdown",
   "id": "ca2c0f0a-6af1-4fbb-8c2f-fc68bcadc8c5",
   "metadata": {},
   "source": [
    "## Intro\n",
    "\n",
    "This is a followup to notebook 3a (policy gradient). It reproduces the same problem but uses a variable map and try to train a policy to solve different environments."
   ]
  },
  {
   "cell_type": "code",
   "execution_count": 1,
   "id": "e291a1fd-b3e2-4d18-920a-e1b36f2519c8",
   "metadata": {},
   "outputs": [],
   "source": [
    "#!pip install gym coax jax haiku flax optax matplotlib pygame"
   ]
  },
  {
   "cell_type": "code",
   "execution_count": 1,
   "id": "eb14da3d-b46c-4c6d-ba9d-5cf930c28597",
   "metadata": {},
   "outputs": [],
   "source": [
    "# Import all things\n",
    "import gym               # defines the problem\n",
    "import coax              # easy to use policy gradient learning\n",
    "import jax               # \n",
    "import jax.numpy as jnp  #\n",
    "import haiku as hk       # easy to define neural networks\n",
    "import optax             # optimisers\n",
    "from matplotlib import pyplot as plt\n",
    "import numpy as np"
   ]
  },
  {
   "cell_type": "code",
   "execution_count": 2,
   "id": "37d55f19-6ed5-4db3-867a-65cb1f1a6d67",
   "metadata": {},
   "outputs": [],
   "source": [
    "# First, we define the problem\n",
    "env = gym.make('FrozenLake-v1')"
   ]
  },
  {
   "cell_type": "code",
   "execution_count": 3,
   "id": "c83bc62b-9151-4f93-9087-50ae06a9daff",
   "metadata": {},
   "outputs": [],
   "source": [
    "# We can initialise a 'trajectory', or the 'state' of the system \n",
    "env.reset()\n",
    "# And then we can 'render' the current state with fancy graphics.\n",
    "env.render()"
   ]
  },
  {
   "cell_type": "code",
   "execution_count": 4,
   "id": "ef794bc0-b008-43d8-849c-4a2f47f501f6",
   "metadata": {},
   "outputs": [],
   "source": [
    "# By the way, we will later see that it's possible to generate other maps\n",
    "import gym\n",
    "\n",
    "from gym.envs.toy_text.frozen_lake import generate_random_map\n",
    "\n",
    "# size is the edge of the map, p is the probability to have ice (so $1-p$ is probability to have an hole)\n",
    "random_map = generate_random_map(size=4, p=0.8)\n",
    "\n",
    "# Then we provide the map object to the environemnt\n",
    "env = gym.make(\"FrozenLake-v1\", desc=random_map, is_slippery=False) # creating the FrozenLake environment\n",
    "env.reset()                     # reseting the environment to its initial state\n",
    "env.render()                    # prints the environment state to the standard output"
   ]
  },
  {
   "cell_type": "code",
   "execution_count": 8,
   "id": "043f14e0-2d34-4ea5-a31e-ab70a4a036b5",
   "metadata": {},
   "outputs": [
    {
     "name": "stdout",
     "output_type": "stream",
     "text": [
      "[ 0 -1  0  0  0  0  0  0  0  0  0 -1  0  0  0  1]\n"
     ]
    }
   ],
   "source": [
    "def val(x):\n",
    "    if x == 'H':\n",
    "        return -1\n",
    "    elif x == 'G':\n",
    "        return 1\n",
    "    else:\n",
    "        return 0\n",
    "data = [[val(tile) for tile in line] for line in random_map]\n",
    "tile_data = np.array(data).flatten()\n",
    "print(tile_data)"
   ]
  },
  {
   "cell_type": "code",
   "execution_count": 9,
   "id": "32147204-8a48-448c-8586-ba69ac5ae9ce",
   "metadata": {},
   "outputs": [],
   "source": [
    "def map_state_values(desc):\n",
    "    data = [[val(tile) for tile in line] for line in random_map]\n",
    "    tile_data = jnp.array(data).flatten()\n",
    "    return tile_data"
   ]
  },
  {
   "cell_type": "markdown",
   "id": "65ae567b-ddd4-423c-8391-1816feafc887",
   "metadata": {},
   "source": [
    "However, how do we store in memory the data representing the position of the elf, that of the target, and how do we encode our possible actions so that we can create a mathematical model of the problem?\n",
    "\n",
    "### Observation Space\n",
    "\n",
    "The observation is a value representing the agent's current position as `current_row * nrows + current_col` (where both the row and col start at 0).\n",
    "For example, the goal position in the $4\\times4$ map can be calculated as follows: $3 \\cdot 4 + 3 = 15$.\n",
    "The number of possible observations is dependent on the size of the map.\n",
    "For example, the $4\\times 4$ map has 16 possible observations.\n",
    "\n",
    "In mathematical terms, \n",
    "$$ s_t \\in [0,15]$$"
   ]
  },
  {
   "cell_type": "code",
   "execution_count": 42,
   "id": "8335768f-037a-487d-91cf-a1eaa84e8bb2",
   "metadata": {},
   "outputs": [
    {
     "name": "stdout",
     "output_type": "stream",
     "text": [
      "The observation state is:  Discrete(16)\n"
     ]
    }
   ],
   "source": [
    "print(\"The observation state is: \", env.observation_space)"
   ]
  },
  {
   "cell_type": "code",
   "execution_count": 43,
   "id": "392a62f8-6225-43ca-b25d-077953c4f1b3",
   "metadata": {},
   "outputs": [
    {
     "name": "stdout",
     "output_type": "stream",
     "text": [
      "And a random cofiguration will be:  3\n"
     ]
    }
   ],
   "source": [
    "print(\"And a random cofiguration will be: \", env.observation_space.sample())"
   ]
  },
  {
   "cell_type": "markdown",
   "id": "ab7d2cac-77de-4bc5-8c2b-d288021e0c57",
   "metadata": {},
   "source": [
    "### Action Space\n",
    "The agent takes a 1-element vector (aka, a scalar) for actions.\n",
    "The action space is `(dir)`, where `dir` decides direction to move in which can be:\n",
    "- 0: LEFT\n",
    "- 1: DOWN\n",
    "- 2: RIGHT\n",
    "- 3: UP\n",
    "\n",
    "In mathematical terms, \n",
    "$$ a_t \\in [0,3]$$"
   ]
  },
  {
   "cell_type": "code",
   "execution_count": 44,
   "id": "c50649e3-29bc-469a-8104-d5e0053c9ca6",
   "metadata": {},
   "outputs": [
    {
     "name": "stdout",
     "output_type": "stream",
     "text": [
      "The action space is:  Discrete(4)\n"
     ]
    }
   ],
   "source": [
    "print(\"The action space is: \", env.action_space)"
   ]
  },
  {
   "cell_type": "markdown",
   "id": "f268ee2d-fdb3-4472-822d-2f762bee8922",
   "metadata": {},
   "source": [
    "### Reward\n",
    "\n",
    "Reward schedule $r_t(s_t)$:\n",
    "- Reach goal(G): +1\n",
    "- Reach hole(H): 0\n",
    "- Reach frozen(F): 0\n",
    "\n",
    "Note that the rewards for a succesful run will therefore be $r_0 = 0$, $r_1=0$ ... $r_T = 1$, so any succesful run will have\n",
    "$$\n",
    "R = \\sum_{t=0}^T r_t = 1,\n",
    "$$\n",
    "because we're giving a reward only when we hit the goa.\n",
    "\n",
    "This means that the reward for solving the puzzle in the smallest amount of moves, or infinitely main moves, is the same. To bias the policy to solve in fewer moves the puzzle, we can add some negative reward at every step."
   ]
  },
  {
   "cell_type": "markdown",
   "id": "e8fbe1b6-cfd9-4b16-930a-24ba591df8e7",
   "metadata": {},
   "source": [
    "## Defining the policy\n",
    "\n",
    "We want to define the policy $ pi(a | s_t) $ that gives the probability of each move $a={0,1,2,3}$ given a current state configuration $s_t$.\n",
    "\n",
    "To have a simpler implentation we will define $\\pi : {0,1\\dots 15} \\rightarrow \\mathbb{R}^4 $, which will return the unnormalized log-probability of every action. "
   ]
  },
  {
   "cell_type": "code",
   "execution_count": 10,
   "id": "080b59ec-3238-4866-9828-4a6b5d6c8e76",
   "metadata": {},
   "outputs": [],
   "source": [
    "def π_fun(S, is_training):\n",
    "    map_values = hk.get_state(\"map\", shape=S.shape, dtype=jnp.int32, init=jnp.zeros)\n",
    "    map_values = map_values.reshape(S.shape)\n",
    "    \n",
    "    state_and_map = jnp.hstack([map_values, S])\n",
    "    logits = hk.Linear(env.action_space.n, w_init=jnp.zeros)\n",
    "    \n",
    "    return {'logits': logits(state_and_map)}"
   ]
  },
  {
   "cell_type": "markdown",
   "id": "b67fefbb-7f72-4418-8594-8a281e9cf165",
   "metadata": {},
   "source": [
    "We can investigate how that works..."
   ]
  },
  {
   "cell_type": "code",
   "execution_count": 11,
   "id": "a0aa8269-300e-40c7-9956-cc7192cd8416",
   "metadata": {},
   "outputs": [
    {
     "name": "stderr",
     "output_type": "stream",
     "text": [
      "WARNING:absl:No GPU/TPU found, falling back to CPU. (Set TF_CPP_MIN_LOG_LEVEL=0 and rerun for more info.)\n"
     ]
    },
    {
     "data": {
      "text/plain": [
       "({'logits': DeviceArray([0., 0., 0., 0.], dtype=float32)},\n",
       " {'~': {'map': DeviceArray([0, 0, 0, 0, 0, 0, 0, 0, 0, 0, 0, 0, 0, 0, 0, 0], dtype=int32)}})"
      ]
     },
     "execution_count": 11,
     "metadata": {},
     "output_type": "execute_result"
    }
   ],
   "source": [
    "# For example, this gives us\n",
    "forward = hk.transform_with_state(π_fun)\n",
    "pars, state = forward.init(jax.random.PRNGKey(1), jax.numpy.zeros(16), True)\n",
    "forward.apply(pars, state, jax.random.PRNGKey(1), jax.numpy.zeros(16), True)"
   ]
  },
  {
   "cell_type": "markdown",
   "id": "97bf721b-1a73-47fc-ae96-24a328d7f764",
   "metadata": {},
   "source": [
    "### Using Coax\n",
    "\n",
    "In principle we'd have to sample from the log-distribution above at every time $t$ to determine a trajectory ${s_1, a_1, s_2, a_2...}$, and we'd have to define the REINFORCE/Policy gradient algorithm ourselves.\n",
    "\n",
    "However, it turns out that somebody already did the hard work for ourselves. See for example https://coax.readthedocs.io/ so we're going to use this package going forward.\n",
    "\n",
    "We can create a Policy from the function `π_fun` and the environment description/state.\n",
    "THis is an object that encapsulates the current parameters of the policy, as well as the current state of the environment. \n",
    "It exposes a few useful functions such as:\n",
    " - `Policy.sample`, which samples a possible configuration given the state the environment is in\n",
    " - `Policy.update`, which updates the weights according to the REINFORCE gradient update"
   ]
  },
  {
   "cell_type": "code",
   "execution_count": 12,
   "id": "85f70e6c-d8b5-4427-9747-1a2f5863fb5a",
   "metadata": {},
   "outputs": [],
   "source": [
    "# First we wrap the environment into a training monitor wrapper, so we can automatically log at every step some information\n",
    "env = coax.wrappers.TrainMonitor(env)"
   ]
  },
  {
   "cell_type": "code",
   "execution_count": 13,
   "id": "620e4cbf-1582-4ef6-a0a3-92199a5094dd",
   "metadata": {},
   "outputs": [],
   "source": [
    "# We create the Policy funciton\n",
    "pi = coax.Policy(π_fun, env)"
   ]
  },
  {
   "cell_type": "code",
   "execution_count": 14,
   "id": "40685cbb-bc83-4e3f-8833-3422d0306fa5",
   "metadata": {},
   "outputs": [],
   "source": [
    "# For example, what move can we have if we are in 0?\n",
    "actions = [pi(0) for i in range(1000)]"
   ]
  },
  {
   "cell_type": "code",
   "execution_count": 15,
   "id": "0565e6e5-4658-4712-9130-0f99d74dd102",
   "metadata": {},
   "outputs": [
    {
     "name": "stdout",
     "output_type": "stream",
     "text": [
      "log probabilities:  {'logits': DeviceArray([0., 0., 0., 0.], dtype=float32)}\n"
     ]
    },
    {
     "data": {
      "image/png": "[encoded data removed]",
      "text/plain": [
       "<Figure size 432x288 with 1 Axes>"
      ]
     },
     "metadata": {
      "needs_background": "light"
     },
     "output_type": "display_data"
    }
   ],
   "source": [
    "print(\"log probabilities: \", pi.dist_params(0))\n",
    "plt.hist(actions);"
   ]
  },
  {
   "cell_type": "markdown",
   "id": "d9fb1623-35e4-4975-bda7-c5f445464746",
   "metadata": {},
   "source": [
    "This is consistent with the fact that our initialisation of the weights is all 0s."
   ]
  },
  {
   "cell_type": "code",
   "execution_count": 20,
   "id": "03a7c668-2e7d-4c20-94cd-5a6b0d453dc5",
   "metadata": {},
   "outputs": [],
   "source": [
    "pi.function_state['~']['map'] = map_state_values(env.desc)"
   ]
  },
  {
   "cell_type": "markdown",
   "id": "9695b8ee-724d-4907-9818-392152b7e5c5",
   "metadata": {},
   "source": [
    "### Reward tracing \n",
    "\n",
    "We create a reward tracing object, which collects at every time $t$ the reward $r_t$ and eventually discounts it by a factor $\\gamma$ so that\n",
    "\n",
    "$$ R = \\sum_{t=0}^T \\gamma^t r_t $$\n",
    "\n",
    "This is basically a smarter version of a list, that we will use later. Using a $\\gamma < 1$ allows us to give higher rewards to shorter trajectories."
   ]
  },
  {
   "cell_type": "code",
   "execution_count": 23,
   "id": "56f18828-48de-4be2-ae9b-d1da27fac46b",
   "metadata": {},
   "outputs": [],
   "source": [
    "# experience tracer\n",
    "tracer = coax.reward_tracing.MonteCarlo(gamma=0.9)"
   ]
  },
  {
   "cell_type": "markdown",
   "id": "f898caa8-e9b9-4c39-a7c1-02d988bc2668",
   "metadata": {},
   "source": [
    "### Policy Gradient objective\n",
    "\n",
    "Coax has several objects functions used to train RL algorithms.\n",
    "`VanillaPG` is a A vanilla policy-gradient objective, a.k.a. REINFORCE-style objective.\n",
    "$$J(\\theta; s,a)\\ =\\ \\mathcal{A}(s,a)\\,\\log\\pi_\\theta(a|s)$$\n"
   ]
  },
  {
   "cell_type": "code",
   "execution_count": 24,
   "id": "73f28490-cc51-44cf-a865-1c6c36a32268",
   "metadata": {},
   "outputs": [],
   "source": [
    "vanilla_pg = coax.policy_objectives.VanillaPG(pi, optimizer=optax.adam(0.01))"
   ]
  },
  {
   "cell_type": "markdown",
   "id": "95e6ed19-b5bc-412b-adb6-244f66d84a1b",
   "metadata": {},
   "source": [
    "### Writing down the 'RL' loop"
   ]
  },
  {
   "cell_type": "code",
   "execution_count": 102,
   "id": "56bf947a-1f11-4092-8e5a-6317224de524",
   "metadata": {},
   "outputs": [
    {
     "name": "stdout",
     "output_type": "stream",
     "text": [
      "0\n"
     ]
    }
   ],
   "source": [
    "# First we reset the environment so we get the initial state\n",
    "s_t = env.reset()\n",
    "print(s_t)"
   ]
  },
  {
   "cell_type": "code",
   "execution_count": 103,
   "id": "aaf4f789-8262-46ab-a3f2-1b3e8699a05e",
   "metadata": {},
   "outputs": [
    {
     "name": "stdout",
     "output_type": "stream",
     "text": [
      "action a_t = 3\n"
     ]
    }
   ],
   "source": [
    "a_t = pi(s_t)\n",
    "print(f\"action a_t = {a_t}\")"
   ]
  },
  {
   "cell_type": "code",
   "execution_count": 104,
   "id": "e27aa9e5-49df-4b89-a4ec-818e88682eb1",
   "metadata": {},
   "outputs": [
    {
     "name": "stdout",
     "output_type": "stream",
     "text": [
      "s_tnext: 0, r_t:0.0, is_done:False, info:{'prob': 1.0, 'monitor': {'T': 1, 'ep': 1}}\n"
     ]
    }
   ],
   "source": [
    "s_tnext, r_t, is_done, info = env.step(a_t)\n",
    "print(f\"s_tnext: {s_tnext}, r_t:{r_t}, is_done:{is_done}, info:{info}\")"
   ]
  },
  {
   "cell_type": "code",
   "execution_count": 105,
   "id": "e94573e8-af9a-4798-a180-1ad5aad08f49",
   "metadata": {},
   "outputs": [],
   "source": [
    "# We add to the reward tracer this last step\n",
    "tracer.add(s_t, a_t, r_t, is_done)"
   ]
  },
  {
   "cell_type": "code",
   "execution_count": 106,
   "id": "080d0a06-3ec0-4956-8def-9771bdf49ce3",
   "metadata": {},
   "outputs": [],
   "source": [
    "# And now, we repeat many times:\n",
    "tracer.reset()\n",
    "s_t = env.reset()\n",
    "for t in range(env.spec.max_episode_steps):\n",
    "    a_t = pi(s_t)\n",
    "    s_tnext, r_t, is_done, info = env.step(a_t)\n",
    "    tracer.add(s_t, a_t, r_t, is_done)\n",
    "    env.render()\n",
    "    \n",
    "    if is_done:\n",
    "        break"
   ]
  },
  {
   "cell_type": "code",
   "execution_count": 107,
   "id": "066b979c-42ef-49e8-b813-2e4d26b98446",
   "metadata": {},
   "outputs": [],
   "source": [
    "# and we then update the weights according to this\n",
    "while tracer:\n",
    "    transition_batch = tracer.pop()\n",
    "    vanilla_pg.update(transition_batch, Adv=transition_batch.Rn)"
   ]
  },
  {
   "cell_type": "code",
   "execution_count": 108,
   "id": "d062d809-89c3-414f-aeb5-3c9dce09aafb",
   "metadata": {},
   "outputs": [],
   "source": [
    "#vanilla_pg.pi.params"
   ]
  },
  {
   "cell_type": "code",
   "execution_count": 109,
   "id": "2afe4726-869a-4d31-a5f6-7b0408087f78",
   "metadata": {},
   "outputs": [],
   "source": [
    "## Finally, we do this many times\n",
    "pi = coax.Policy(π_fun, env)\n",
    "vanilla_pg = coax.policy_objectives.VanillaPG(pi, optimizer=optax.adam(0.01))\n",
    "tracer.reset()"
   ]
  },
  {
   "cell_type": "code",
   "execution_count": null,
   "id": "bda615c7-ebb6-4242-8c14-ca976b214e0c",
   "metadata": {},
   "outputs": [],
   "source": [
    "# You see that this did not work well. It's because there is no signal at the beginning as the reward is always 0!\n",
    "# Let's try to set the reward to non zero. For example, let's make him not take the useless moves such as up when he's at the top already.\n",
    "\n",
    "pi = coax.Policy(π_fun, env)\n",
    "vanilla_pg = coax.policy_objectives.VanillaPG(pi, optimizer=optax.adam(0.01))\n",
    "tracer.reset()"
   ]
  },
  {
   "cell_type": "code",
   "execution_count": null,
   "id": "9f38d438-2eda-4468-8520-b7d70866d3ad",
   "metadata": {},
   "outputs": [
    {
     "data": {
      "text/plain": [
       "[<matplotlib.lines.Line2D at 0x15a3079a0>]"
      ]
     },
     "execution_count": 140,
     "metadata": {},
     "output_type": "execute_result"
    },
    {
     "data": {
      "image/png": "[encoded data removed]",
      "text/plain": [
       "<Figure size 432x288 with 1 Axes>"
      ]
     },
     "metadata": {
      "needs_background": "light"
     },
     "output_type": "display_data"
    }
   ],
   "source": [
    "plt.plot(Rvals*Tsteps)\n",
    "plt.plot(jnp.cumsum(Rvals*Tsteps)/jnp.arange(Rvals.size))"
   ]
  },
  {
   "cell_type": "code",
   "execution_count": 31,
   "id": "9caf6f0c-c481-4d2a-9119-fe596cab0fd4",
   "metadata": {},
   "outputs": [
    {
     "data": {
      "text/plain": [
       "(0, 1)"
      ]
     },
     "execution_count": 31,
     "metadata": {},
     "output_type": "execute_result"
    }
   ],
   "source": []
  },
  {
   "cell_type": "code",
   "execution_count": 33,
   "id": "556bf89f-1651-4473-9b3d-576b3d14cba0",
   "metadata": {},
   "outputs": [],
   "source": [
    "# You see that this did not work well again because he is not learning to get to the objective, and keeps falling on the holes.\n",
    "# Let's give him a penalty if he falls on the holes\n",
    "\n",
    "pi = coax.Policy(π_fun, env)\n",
    "vanilla_pg = coax.policy_objectives.VanillaPG(pi, optimizer=optax.adam(0.01))\n",
    "tracer.reset()"
   ]
  },
  {
   "cell_type": "code",
   "execution_count": 35,
   "id": "5600dd50-5944-4deb-8e3b-ddc6552f6f6b",
   "metadata": {},
   "outputs": [],
   "source": [
    "# train\n",
    "Rvals = []\n",
    "Tsteps = []\n",
    "\n",
    "for ep in range(500):\n",
    "    random_map = generate_random_map(size=4, p=0.8)\n",
    "    env = gym.make(\"FrozenLake-v1\", desc=random_map, is_slippery=False) # creating the FrozenLake environment\n",
    "    env = coax.wrappers.TrainMonitor(env)\n",
    "    pi.function_state['~']['map'] = map_state_values(env.desc)\n",
    "\n",
    "    do_render = ep % 50 == 0\n",
    "\n",
    "    for rep in range(2):\n",
    "        s_t = env.reset()\n",
    "        if do_render:\n",
    "            env.render()\n",
    "\n",
    "        for t in range(env.spec.max_episode_steps):\n",
    "            a_t = pi(s_t)\n",
    "            s_tnext, r_t, is_done, info = env.step(a_t)\n",
    "\n",
    "            if jnp.array_equal(s_tnext, s_t):\n",
    "                r_t = r_t - 0.01\n",
    "            if is_done and s_tnext != 15:\n",
    "                r_t = r_t - 0.05\n",
    "                \n",
    "            xpos, ypos = divmod(s_tnext, 4)\n",
    "            distance = jnp.sqrt((xpos-3)**2 + (ypos-3)**2)\n",
    "            if not is_done:\n",
    "                r_t = r_t + 0.02/distance\n",
    "            \n",
    "            # update\n",
    "            tracer.add(s_t, a_t, r_t, is_done)\n",
    "\n",
    "            while tracer:\n",
    "                transition_batch = tracer.pop()\n",
    "                vanilla_pg.update(transition_batch, Adv=transition_batch.Rn)\n",
    "\n",
    "            if do_render:\n",
    "                env.render()\n",
    "\n",
    "            if is_done:\n",
    "                Rvals.append(env.G)\n",
    "                Tsteps.append(t)\n",
    "                #print(vanilla_pg.pi.params)\n",
    "                break\n",
    "\n",
    "            s_t = s_tnext\n",
    "\n",
    "        # early stopping\n",
    "        if env.avg_G > env.spec.reward_threshold:\n",
    "            break\n",
    "        \n",
    "Rvals = jnp.array(Rvals)\n",
    "Tsteps = jnp.array(Tsteps)"
   ]
  },
  {
   "cell_type": "code",
   "execution_count": 147,
   "id": "48ba603e-2c9a-480a-b923-e3569f220f8b",
   "metadata": {},
   "outputs": [
    {
     "data": {
      "text/plain": [
       "[<matplotlib.lines.Line2D at 0x15a4aa080>]"
      ]
     },
     "execution_count": 147,
     "metadata": {},
     "output_type": "execute_result"
    },
    {
     "data": {
      "image/png": "[encoded data removed]",
      "text/plain": [
       "<Figure size 432x288 with 1 Axes>"
      ]
     },
     "metadata": {
      "needs_background": "light"
     },
     "output_type": "display_data"
    }
   ],
   "source": [
    "plt.plot(Rvals)"
   ]
  },
  {
   "cell_type": "code",
   "execution_count": null,
   "id": "a65c5ebe-affa-405f-8150-6db2359cdfa8",
   "metadata": {},
   "outputs": [],
   "source": []
  }
 ],
 "metadata": {
  "kernelspec": {
   "display_name": "Python (RL)",
   "language": "python",
   "name": "py-rl"
  },
  "language_info": {
   "codemirror_mode": {
    "name": "ipython",
    "version": 3
   },
   "file_extension": ".py",
   "mimetype": "text/x-python",
   "name": "python",
   "nbconvert_exporter": "python",
   "pygments_lexer": "ipython3",
   "version": "3.10.2"
  }
 },
 "nbformat": 4,
 "nbformat_minor": 5
}
