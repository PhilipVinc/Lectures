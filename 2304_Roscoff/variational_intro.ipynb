{
 "cells": [
  {
   "cell_type": "markdown",
   "id": "62474677-5e3d-45de-91cb-06b5e522c1f2",
   "metadata": {
    "tags": []
   },
   "source": [
    "# Tutorial: Introduction to variational calculations. \n",
    "\n",
    "## Finding ground states.\n",
    "\n",
    "[![Open in Colab](https://colab.research.google.com/assets/colab-badge.svg)](https://colab.research.google.com/github/PhilipVinc/Lectures/blob/master/2304_Roscoff/variational_intro.ipynb)\n",
    "\n",
    "Authors: Filippo Vicentini\n",
    "\n",
    "This notebook is based on some classes given by Javier Moreno, Filippo Vicentini and Giuseppe Carleo at Flatiron Institute in 2022. It has been adapted for this website a while later by Filippo Vicentini.\n"
   ]
  },
  {
   "cell_type": "markdown",
   "id": "d1f514a4-7ad8-478a-84c7-b7ace9824a26",
   "metadata": {
    "tags": []
   },
   "source": [
    "## 0. Dependencies \n",
    "\n",
    "To run this tutorial, you will need to install [NetKet](https://www.netket.org/) and some other dependencies.\n",
    "You can do so by removing the leading `#` in the following cell and running it.\n",
    "\n",
    "The cell is commented by default such that if you have already installed all dependencies in your computer, it does not run by default all the time"
   ]
  },
  {
   "cell_type": "code",
   "execution_count": 1,
   "id": "05610326-f05b-418c-8f42-7572cda2c692",
   "metadata": {
    "tags": []
   },
   "outputs": [],
   "source": [
    "# %pip install --quiet netket matplotlib"
   ]
  },
  {
   "cell_type": "markdown",
   "id": "c6ac8d5d-f9fc-4d10-a091-1d7d01b16ae1",
   "metadata": {
    "tags": []
   },
   "source": [
    "We also want make to sure that this notebook is running on the cpu. \n",
    "You can edit the field by changing \"cpu\" to \"gpu\" to make it run on the GPU if you want. \n",
    "But you'll need to use much larger systems to see a benefit in the runtime.\n",
    "For systems with less than 40 spins GPUs slow you down remarkably."
   ]
  },
  {
   "cell_type": "code",
   "execution_count": 2,
   "id": "cdd97003-9cc3-41aa-a28c-59026e88c6e6",
   "metadata": {
    "tags": []
   },
   "outputs": [],
   "source": [
    "import os\n",
    "os.environ[\"JAX_PLATFORM_NAME\"] = \"cpu\""
   ]
  },
  {
   "cell_type": "markdown",
   "id": "7b724ad0-e952-44d5-a74c-dd24cf27d32d",
   "metadata": {
    "tags": []
   },
   "source": [
    "## 1. Introduction to Quantum Mechanics:\n",
    "\n",
    "If you are not very familiar with Quantum Physics, here's the main two postulates that we will be building upon: \n",
    "\n",
    "### 1. Wave-function\n",
    "The state of an isolated physical system is represented, at a fixed time by the quantum state $|\\psi\\rangle$ (for our purposes a column vector) belonging to a Hilbert space $\\mathcal {H}$ called the state space (for our purposes a vector space). \n",
    "$$\n",
    "|\\psi\\rangle:=\\begin{pmatrix}\n",
    "                \\psi_0 \\\\\n",
    "                \\psi_1 \\\\\n",
    "                \\vdots \\\\\n",
    "                \\psi_{M-1} \\\\\n",
    "               \\end{pmatrix}\n",
    "$$\n",
    "#### 1.a Composite Systems \n",
    "The Hilbert space of a composite system is obtained as the tensor product of the Hilbert spaces (Kronecker product for our purposes).\n",
    "\n",
    "### 2. Observables\n",
    "Every measurable physical quantity (position, velocity, energy...) is represented by a Hermitian operator  $O$ (Hermitian matrix has real eigenvalues!) acting on the Hilbert space. The expectation value of the physical quantity is given by the quadratic form [slides 1,2]:\n",
    "$$\n",
    "\\langle\\psi |O|\\psi\\rangle:= \\begin{pmatrix}\n",
    "                \\psi_0^*, \n",
    "                \\psi_1^*, \n",
    "                ..., \n",
    "                \\psi_{M-1}^* \n",
    "               \\end{pmatrix} \n",
    "               \\begin{pmatrix} \n",
    "               O_{00} & O_{01} & ... \\\\\n",
    "               O_{10} & \\ddots & \\vdots \\\\\n",
    "               \\vdots & ... & O_{M-1, M-1} \\\\\n",
    "               \\end{pmatrix}\n",
    "               \\begin{pmatrix}\n",
    "                \\psi_0 \\\\\n",
    "                \\psi_1 \\\\\n",
    "                \\vdots \\\\\n",
    "                \\psi_{M-1} \\\\\n",
    "               \\end{pmatrix}\n",
    "$$\n"
   ]
  },
  {
   "cell_type": "markdown",
   "id": "cedd8d93-9239-4d59-af61-69fcc6d174ea",
   "metadata": {},
   "source": [
    "### 3. A simple example: a Spin-1/2 in a magnetic field\n",
    "\n",
    "Let's consider a single spin-1/2 immersed in a magnetic field.\n",
    "The Hilbert space of this problem has dimension 2, and a valid basis for it is $\\{\\uparrow, \\downarrow\\}$.\n",
    "\n",
    "The hamiltonian for an external magnetic field is the following:\n",
    "\n",
    "$$\n",
    "H = -B \\sigma^z := \\begin{pmatrix}\n",
    "                   -B & 0 \\\\\n",
    "                   0 & B\n",
    "                   \\end{pmatrix}\n",
    "$$\n",
    "\n",
    "The energy of both basis states is thus given by:\n",
    "\n",
    "$$\n",
    "E_{\\uparrow} = \\langle \\uparrow|H| \\uparrow \\rangle = \\begin{pmatrix}\n",
    "                1, \n",
    "                0  \n",
    "               \\end{pmatrix} \n",
    "               \\begin{pmatrix} \n",
    "               -B & 0  \\\\\n",
    "               0 & B \n",
    "               \\end{pmatrix}\n",
    "               \\begin{pmatrix}\n",
    "                1 \\\\\n",
    "                0 \\\\\n",
    "                \\end{pmatrix}= -B \n",
    "$$\n",
    "\n",
    "$$\n",
    "E_{\\downarrow} = \\langle \\downarrow|H| \\downarrow \\rangle = \\begin{pmatrix}\n",
    "                0, \n",
    "                1  \n",
    "               \\end{pmatrix} \n",
    "               \\begin{pmatrix} \n",
    "               -B & 0  \\\\\n",
    "               0 & B \n",
    "               \\end{pmatrix}\n",
    "               \\begin{pmatrix}\n",
    "                0 \\\\\n",
    "                1 \\\\\n",
    "                \\end{pmatrix}= +B \n",
    "$$\n",
    "\n",
    "Thus, the lowest energy state is $|\\uparrow\\rangle $.\n",
    "\n",
    "**In general, the lowest energy state is the eigenvector of the lowest eigenvalue of $H$**."
   ]
  },
  {
   "cell_type": "markdown",
   "id": "cf48d0b0-855a-4776-b8e2-1ca0b7e4b89e",
   "metadata": {},
   "source": [
    "### 4. Open Problems\n",
    "\n",
    "In condensed matter physics we are often concerned with finding the ground-state of an Hamiltonian, which is the lowest-energy eingestate of the Hamiltonian.\n",
    "This is not the **only** relevant problem (even if some people might argue otherwise!), but it is probably the most studied.\n",
    "Some of the reasons why the ground-state is interesting are:\n",
    "\n",
    "* The ground-state determines what is the stable configurations of the constituents of matter (atomic nuclei, molecular structure, reaction pathways...), for example telling us if two atoms form a bond or not.\n",
    "* If you want to study what happens if you 'perturb' a system by turning on a magnetic field or another perturbation, the initial configuration will most likely be the ground-state.\n",
    "* The eigenstate of lowest eigenvalue describes in good measure the physics of low temperatures (superconductivity)."
   ]
  },
  {
   "cell_type": "markdown",
   "id": "3ae15c3a-25ef-425b-a1e3-943f7d122945",
   "metadata": {
    "tags": []
   },
   "source": [
    "## 2. Introduction to Variational Calculations\n",
    "\n",
    "\n",
    "### 1. The problem\n",
    "Consider a single spin-1/2 particle immersed in a magnetic field aligned along the physical $\\hat{x}$ axis. \n",
    "Our task will be to compute the Ground-state energy of this system, whose Hamiltonian is:\n",
    "\n",
    "$$\n",
    "H = -B \\sigma^x := \\begin{pmatrix}\n",
    "                   0 & -B \\\\\n",
    "                   -B & 0\n",
    "                   \\end{pmatrix}\n",
    "$$\n",
    "\n",
    "\n",
    "The two eigenvectors and corresponding eigenvalues are given by:\n",
    "\n",
    "\n",
    "$$\n",
    "|\\rightarrow\\rangle := \\frac{1}{\\sqrt{2}}\\begin{pmatrix}\n",
    "                   1 \\\\\n",
    "                   1\n",
    "                   \\end{pmatrix}; E_{\\rightarrow} = -B\n",
    "$$\n",
    "\n",
    "$$\n",
    "|\\leftarrow\\rangle := \\frac{1}{\\sqrt{2}}\\begin{pmatrix}\n",
    "                   1 \\\\\n",
    "                   -1\n",
    "                   \\end{pmatrix}; E_{\\leftarrow} = B\n",
    "$$\n",
    "\n",
    "\n",
    "Thus, the lowest energy of the system is given by:\n",
    "\n",
    "\n",
    "$$\n",
    "|\\rightarrow\\rangle := \\frac{1}{\\sqrt{2}}\\begin{pmatrix}\n",
    "                   1 \\\\\n",
    "                   1\n",
    "                   \\end{pmatrix}\n",
    "$$\n",
    "\n",
    "Which is the state where the spin is aligned with the $\\hat{x}$ axis. The lowest energy configuration (stable configuration) of a spin on an external magnetic field is the configuration where the spin is aligned with the magnetic field.\n",
    "\n",
    "We can find the eigenvalues numerically by constructing the Hamiltonian 'by hand' as a matrix"
   ]
  },
  {
   "cell_type": "code",
   "execution_count": 3,
   "id": "db9dbacb-aee4-4eac-b15a-cffff821ee66",
   "metadata": {
    "tags": []
   },
   "outputs": [],
   "source": [
    "# Numpy is used to work with 'dense' matrices, where we store all entries\n",
    "import numpy as np\n",
    "\n",
    "# magnetic field intensity\n",
    "B = 3.\n",
    "# The sigma_x operator acting on the single spin\n",
    "sigma_x = np.array([[0,1], [1,0]])\n",
    "\n",
    "# The resulting Hamiltonian\n",
    "H = -B*sigma_x"
   ]
  },
  {
   "cell_type": "markdown",
   "id": "3d558dc7-985c-45c3-86b4-8bdc78670a46",
   "metadata": {},
   "source": [
    "And then by diagonalising the _dense_ matrix by using numpy:"
   ]
  },
  {
   "cell_type": "code",
   "execution_count": 4,
   "id": "9f1aa5d0-ffb3-471e-87f6-8244a6d817b7",
   "metadata": {
    "tags": []
   },
   "outputs": [
    {
     "name": "stdout",
     "output_type": "stream",
     "text": [
      "The resulting energies are: [-3.  3.]\n",
      "And the corresponding eigenvectors:\n",
      "|-> > :=  [-0.70710678 -0.70710678]\n",
      "|<- > :=  [-0.70710678  0.70710678]\n"
     ]
    }
   ],
   "source": [
    "# Diagonalise the matrix\n",
    "Es, Vs = np.linalg.eigh(H)\n",
    "# Es are the eigenvalues, Vs is a matrix whose columns Vs[:,i]\n",
    "# correspond to the eigenvalues Es[i], and they are 'vectors'\n",
    "# in the Hilbert space\n",
    "\n",
    "print ('The resulting energies are: ' + str(Es))\n",
    "print ('And the corresponding eigenvectors:')\n",
    "print ('|-> > := ', Vs[:,0])\n",
    "print ('|<- > := ', Vs[:,1])"
   ]
  },
  {
   "cell_type": "markdown",
   "id": "49ba63af-7f60-40d4-8c3a-cd6f5d699eb1",
   "metadata": {},
   "source": [
    "So the ground-state is:"
   ]
  },
  {
   "cell_type": "code",
   "execution_count": 5,
   "id": "b42edb18-f51a-4f78-9d43-e80b71e2852a",
   "metadata": {
    "tags": []
   },
   "outputs": [],
   "source": [
    "psi_gs_dense = Vs[:,0]"
   ]
  },
  {
   "cell_type": "markdown",
   "id": "8f5c6583-9ffb-4cc2-a31d-b6822c0f885b",
   "metadata": {},
   "source": [
    "and it is a vector, as can be seen by inspecting its shape:"
   ]
  },
  {
   "cell_type": "code",
   "execution_count": 6,
   "id": "d5e5392f-ae5c-480b-84fe-875482ea4391",
   "metadata": {
    "tags": []
   },
   "outputs": [
    {
     "data": {
      "text/plain": [
       "(2,)"
      ]
     },
     "execution_count": 6,
     "metadata": {},
     "output_type": "execute_result"
    }
   ],
   "source": [
    "psi_gs_dense.shape"
   ]
  },
  {
   "cell_type": "markdown",
   "id": "fb2b426f-ead3-4fa7-a337-521c9810c460",
   "metadata": {
    "tags": []
   },
   "source": [
    "### 2. The wave-function as a lookup table\n",
    "\n",
    "You can see above that we printed the entries of the ground-state and of the excited state. \n",
    "The representation of the wave-function that we obtained by diagonalising the hamiltonian is a dense representation where the wave-funciton amplitude for every basis element ($\\{\\uparrow, \\downarrow\\}$) is stored, and you can _query_ those entries by calling"
   ]
  },
  {
   "cell_type": "code",
   "execution_count": 7,
   "id": "092a8eed-ea8b-4538-b216-bc4fc8fd3c0a",
   "metadata": {
    "tags": []
   },
   "outputs": [
    {
     "data": {
      "text/plain": [
       "-0.7071067811865475"
      ]
     },
     "execution_count": 7,
     "metadata": {},
     "output_type": "execute_result"
    }
   ],
   "source": [
    "psi_gs_dense[0]"
   ]
  },
  {
   "cell_type": "code",
   "execution_count": 8,
   "id": "df72b354-da5c-4932-9752-3b10d9097ab9",
   "metadata": {
    "tags": []
   },
   "outputs": [
    {
     "data": {
      "text/plain": [
       "-0.7071067811865475"
      ]
     },
     "execution_count": 8,
     "metadata": {},
     "output_type": "execute_result"
    }
   ],
   "source": [
    "psi_gs_dense[1]"
   ]
  },
  {
   "cell_type": "markdown",
   "id": "02dd8d5d-6499-41f4-9a62-dacf747e9510",
   "metadata": {},
   "source": [
    "It might be 'redundant', but we could now construct a 'query function' that  returns the wave-funciton amplitude for a given configuration $i$.\n",
    "This is a simple rewriting of what we just did in the two cells above, but you will later understand why it's important to think in terms of a function.\n",
    "\n",
    "The query function for the ground-state will be:"
   ]
  },
  {
   "cell_type": "code",
   "execution_count": 9,
   "id": "adfec8ad-1735-4d88-b295-231a913dd1e7",
   "metadata": {
    "tags": []
   },
   "outputs": [],
   "source": [
    "def psi_gs(index: int) -> float:\n",
    "    \"\"\"\n",
    "    Returns the i-th entry of the ground-state amplitude \n",
    "    along the sigma-z basis.\n",
    "    \"\"\"\n",
    "    return psi_gs_dense[index]"
   ]
  },
  {
   "cell_type": "markdown",
   "id": "05450efc-7547-4ab9-ba1a-816c8eae5593",
   "metadata": {},
   "source": [
    "According to the ordering we chose for our basis (see the first example), we have that the first element corresponds to $|\\uparrow\\rangle$ and the last element corresponds to $|\\downarrow\\rangle$.\n",
    "\n",
    "So if we want to query $\\langle\\uparrow|\\psi_{gs}\\rangle$ we will have to execute `psi_gs(0)` and if we want to query $\\langle\\downarrow|\\psi_{gs}\\rangle$ we will have to execute `psi_gs(1)`\n",
    "\n",
    "**This choice is completely arbitrary!**"
   ]
  },
  {
   "cell_type": "markdown",
   "id": "ce4ead18-e9b7-48b1-9fc5-203575520540",
   "metadata": {},
   "source": [
    "### 3. The wave-function as a variational function:\n",
    "\n",
    "Imagine that now we don't want to explicitly define each of the coordinates of my quantum vector (we will soon see why this might be useful). Instead of a lookup table, we define a function that takes as an input a numerical representation of the axis along we want a coordinate and returns the returns the corresponding coordinate:\n",
    "\n",
    "$$\n",
    "\\psi(\\sigma) = \\cos\\big(\\theta(1-\\sigma)\\big),\n",
    "$$\n",
    "\n",
    "where we use the convention $\\sigma = 1$ to signify the $\\uparrow$ state and $\\sigma = -1$ the $\\downarrow$ state.\n",
    "\n",
    "Therefore: \n",
    "$$\n",
    "|\\psi_\\theta\\rangle  := \\frac{1}{N} \\begin{pmatrix}\n",
    "                   \\cos\\big(\\theta(1-1)\\big) \\\\\n",
    "                   \\cos\\big(\\theta(1-(-1))\\big)\n",
    "                   \\end{pmatrix} = \\frac{1}{\\sqrt{1+\\cos^2\\big(2\\theta\\big)}} \\begin{pmatrix} 1 \\\\\n",
    "                   \\cos\\big(2\\theta\\big)\n",
    "                   \\end{pmatrix}                   \n",
    "$$"
   ]
  },
  {
   "cell_type": "code",
   "execution_count": 10,
   "id": "e50e82fc-538f-4307-b7fa-7e639a1d8844",
   "metadata": {
    "tags": []
   },
   "outputs": [],
   "source": [
    "# To be able to compute gradients, we will be using jax.numpy\n",
    "# In practice, write your formulas by replacing np.**** with jnp.****\n",
    "import jax.numpy as jnp\n",
    "\n",
    "def psi(sigma, theta):\n",
    "    return jnp.cos(theta*(1-sigma))"
   ]
  },
  {
   "cell_type": "markdown",
   "id": "3c8c8ca5-180e-4655-a2cd-5e1302e22a87",
   "metadata": {},
   "source": [
    "This is very similar to the previous look-up table, but if our angles are _fewer_ than the total number of complex amplitudes that I would have to store, I am saving up memory at the expense of not being able to represent _all_ possible states.\n",
    "\n",
    "In a sense, you can think that $\\theta$ identifies a specific wavefunction:\n",
    "$$\n",
    "    \\Psi : \\theta \\rightarrow |\\psi_\\theta\\rangle\n",
    "$$\n",
    "and once we have the wave-function $|\\psi_\\theta\\rangle$ identified by a certain angle we can query it's entries even if we have not stored them anywhere."
   ]
  },
  {
   "cell_type": "markdown",
   "id": "a842215c-c6b1-4f4a-bcf2-c08d8b5c85ae",
   "metadata": {},
   "source": [
    "#### Variational Energy \n",
    "\n",
    "Now the goal is to find the optimal value of $\\theta$ such that the expectation value of the Hamiltonian is minimized. We will do a gradient based optimization using Jax.\n",
    "\n",
    "To do this, first we must build the \"energy\" function that takes the angles identifying the current state and the hamiltonian and computes the energy:"
   ]
  },
  {
   "cell_type": "code",
   "execution_count": 11,
   "id": "60dff8ad-1c1f-4558-b9c2-8c748022ac17",
   "metadata": {
    "tags": []
   },
   "outputs": [],
   "source": [
    "def energy(theta, H):\n",
    "    sigma_1 = 1\n",
    "    sigma_2 = -1\n",
    "    \n",
    "    psi_vec = jnp.array([[psi(sigma_1, theta)], [psi(sigma_2, theta)]])\n",
    "    # note we are normalizing the wave function here!\n",
    "    psi_vec = psi_vec/jnp.sqrt(jnp.sum(psi_vec**2)) \n",
    "        \n",
    "    return jnp.dot(jnp.transpose(psi_vec), jnp.dot(H, psi_vec))[0,0]"
   ]
  },
  {
   "cell_type": "markdown",
   "id": "10464f05-e7c4-4d60-98f0-bea96e0d6e1e",
   "metadata": {},
   "source": [
    "Then we evaluate the energy for many possible values of $\\theta\\in[0,2\\pi]$"
   ]
  },
  {
   "cell_type": "code",
   "execution_count": 12,
   "id": "e4049ca6-e160-4793-bde7-c3ef2a5d13c2",
   "metadata": {
    "tags": []
   },
   "outputs": [],
   "source": [
    "thetas = np.linspace(0, 2*np.pi, 100)\n",
    "energies = [energy(θ, H) for θ in thetas]"
   ]
  },
  {
   "cell_type": "markdown",
   "id": "73ac56a4-8167-4e7e-858b-3e5375454e06",
   "metadata": {},
   "source": [
    "And finally we plot the energy as a function of the parameter $\\theta$"
   ]
  },
  {
   "cell_type": "code",
   "execution_count": 13,
   "id": "bc0b72d3-786d-4041-ba24-58f0bde65a0a",
   "metadata": {
    "tags": []
   },
   "outputs": [
    {
     "data": {
      "image/png": "[encoded data removed]",
      "text/plain": [
       "<Figure size 640x480 with 1 Axes>"
      ]
     },
     "metadata": {},
     "output_type": "display_data"
    }
   ],
   "source": [
    "import matplotlib.pyplot as plt\n",
    "\n",
    "plt.plot(thetas, energies, label=\"Variational Energy\")\n",
    "plt.xlabel(r'$\\theta$')\n",
    "plt.ylabel(r'$E_\\theta$')\n",
    "plt.hlines(Es[0], 0, thetas[-1], label=\"Exact GS energy\", color='red')\n",
    "plt.legend();"
   ]
  },
  {
   "cell_type": "markdown",
   "id": "2f292077-20e0-47e8-a734-52528348ac00",
   "metadata": {},
   "source": [
    "### 4. Optimising the energy\n",
    "\n",
    "Now the goal is to find the optimal value of $\\theta$ such that the expectation value of the Hamiltonian is minimized. We will do a gradient based optimization using Jax.\n",
    "\n",
    "The gradient of a function in Jax can be computed by using the `jax.grad` function, which essentially does the following:\n",
    "\n",
    "$$\n",
    "    \\text{jax.grad} : f \\rightarrow \\nabla f\n",
    "$$\n",
    "\n",
    "and in our particular case we can do the following:\n"
   ]
  },
  {
   "cell_type": "code",
   "execution_count": 14,
   "id": "8e95ae10-90fb-451d-a9e4-13ff2a6c2fcd",
   "metadata": {
    "tags": []
   },
   "outputs": [],
   "source": [
    "import jax\n",
    "from tqdm import tqdm\n",
    "\n",
    "#argnums=0 determines the index of the arguments w.r.t which the derivative is computed.\n",
    "# We want the gradient w.r.t the parameters, which is the first argument, so we put 0.\n",
    "# if we wanted the derivative w.r.t the hamiltonian we would have to put `argnums=1`\n",
    "energy_derivative = jax.grad(energy, argnums=0)"
   ]
  },
  {
   "cell_type": "markdown",
   "id": "6051704a-7be9-4315-9f82-165476f7fd39",
   "metadata": {},
   "source": [
    "And now we can try a sample optimisation starting from the initial value of $\\theta_0 = 2.$ and updating the angle according to the formula\n",
    "\n",
    "$$\n",
    "    \\theta_{i+1} = \\theta_i - \\eta \\nabla_\\theta E(\\theta_i)\n",
    "$$\n",
    "\n",
    "where $\\nabla$ is the so-called learning rate"
   ]
  },
  {
   "cell_type": "code",
   "execution_count": 15,
   "id": "825a54ce-cd80-437e-9343-297a6b942e14",
   "metadata": {
    "tags": []
   },
   "outputs": [
    {
     "name": "stderr",
     "output_type": "stream",
     "text": [
      "100%|██████████████████████████████████████████████████████████████████████████████████████████████████████████████| 100/100 [00:00<00:00, 106.39it/s]\n"
     ]
    }
   ],
   "source": [
    "#learning rate\n",
    "nabla = 0.01\n",
    "\n",
    "#number of steps\n",
    "n_steps = 100\n",
    "\n",
    "#initial value for the variational parameter\n",
    "theta = 2.\n",
    "\n",
    "#To store the value of the energy and the valiarional paramter during the optimization\n",
    "energy_history = np.zeros(n_steps)\n",
    "theta_history = np.zeros(n_steps)\n",
    "for i in tqdm(range(n_steps)):\n",
    "    \n",
    "    # log the variational parameter and the energy\n",
    "    theta_history[i] = theta\n",
    "    energy_history[i] = energy(theta, H)\n",
    "    \n",
    "    # update the variational parameter according to gradient descent\n",
    "    theta -= nabla * energy_derivative(theta, H)"
   ]
  },
  {
   "cell_type": "markdown",
   "id": "81221b48-c437-4a15-9e45-1f61c28c21d8",
   "metadata": {},
   "source": [
    "And by plotting, we can see that the energy goes down as we continue to apply our algorithm."
   ]
  },
  {
   "cell_type": "code",
   "execution_count": 16,
   "id": "c538543f-80b1-44cb-b0e8-9678afd11407",
   "metadata": {
    "tags": []
   },
   "outputs": [
    {
     "data": {
      "image/png": "[encoded data removed]",
      "text/plain": [
       "<Figure size 640x480 with 2 Axes>"
      ]
     },
     "metadata": {},
     "output_type": "display_data"
    }
   ],
   "source": [
    "f, (ax1, ax2) = plt.subplots(2, 1, sharex = True)\n",
    "\n",
    "ax1.hlines(Es[0], 0, 100, label=\"Exact GS energy\", color='red')\n",
    "ax1.plot(energy_history)\n",
    "ax1.set_ylabel(r'$E_\\theta$')\n",
    "ax1.legend()\n",
    "\n",
    "ax2.plot(theta_history)\n",
    "ax2.set_ylabel(r'$\\theta$')\n",
    "ax2.set_xlabel(r'epoch');"
   ]
  },
  {
   "cell_type": "markdown",
   "id": "577d0627-2326-4d9b-bad5-6dcafb79a68c",
   "metadata": {},
   "source": [
    "### 5. More complex ansatz: 2 parameters\n",
    "\n",
    "Let's now try with a more complex Ansatz\n",
    "\n",
    "$$\n",
    "\\psi_\\theta(\\sigma) = \\cos\\big(\\theta_1(1+\\sigma)\\big) + \\exp\\big(\\theta_2(1-\\sigma)\\big)\n",
    "$$\n",
    "\n",
    "Therefore: \n",
    "\n",
    "$$\n",
    "|\\psi_\\theta\\rangle  := \\frac{1}{N} \\begin{pmatrix}\n",
    "                   \\cos\\big(\\theta_1(1+1)\\big) + \\exp\\big(\\theta_2(1-1)\\big) \\\\\n",
    "                   \\cos\\big(\\theta_1(1-1)\\big) + \\exp\\big(\\theta_2(1+1)\\big)\n",
    "                       \\end{pmatrix} = \\frac{1}{N} \\begin{pmatrix}\\cos\\big(2\\theta_1\\big) + 1 \\\\\n",
    "                   1 + \\exp\\big(2\\theta_2\\big)\n",
    "                   \\end{pmatrix}                   \n",
    "$$"
   ]
  },
  {
   "cell_type": "code",
   "execution_count": 17,
   "id": "fa8f1146-acd5-46d7-b945-257a720ed373",
   "metadata": {
    "tags": []
   },
   "outputs": [],
   "source": [
    "import jax.numpy as jnp\n",
    "\n",
    "def psi(sigma, theta):\n",
    "    psi = (jnp.cos(theta[0]*(1+sigma))+jnp.exp(theta[1]*(1-sigma))) \n",
    "    return psi"
   ]
  },
  {
   "cell_type": "markdown",
   "id": "de9eedc8-9d68-4b1a-b676-24b5135d5ed7",
   "metadata": {},
   "source": [
    "As we wrote the energy function carefully, we can recycle it. \n",
    "Let's explore the energy landscape by computing the energy for every possible value of the parameters."
   ]
  },
  {
   "cell_type": "code",
   "execution_count": 18,
   "id": "113ed22c-a0c3-45e9-ab67-705d7bda717a",
   "metadata": {
    "tags": []
   },
   "outputs": [],
   "source": [
    "# First we discretise a grid for theta_1 and theta_2\n",
    "thetas_1 = np.linspace(0, 2*np.pi, 50)\n",
    "thetas_2 = np.linspace(-10, 2, 50)\n",
    "# We pre-allocate the output array\n",
    "energies = np.empty((50, 50))\n",
    "\n",
    "for i in range(len(thetas_2)):\n",
    "    for j in range(len(thetas_1)):\n",
    "        energies[i, j] = energy(jnp.array([thetas_1[j], thetas_2[i]]), H)"
   ]
  },
  {
   "cell_type": "markdown",
   "id": "3860e21d-c6a6-4c8a-b4e4-3d917ad810a9",
   "metadata": {},
   "source": [
    "And we plot the surface"
   ]
  },
  {
   "cell_type": "code",
   "execution_count": 19,
   "id": "ad14d112-dd1e-49a6-b9af-44bea1f80deb",
   "metadata": {
    "tags": []
   },
   "outputs": [
    {
     "data": {
      "image/png": "[encoded data removed]",
      "text/plain": [
       "<Figure size 640x480 with 2 Axes>"
      ]
     },
     "metadata": {},
     "output_type": "display_data"
    }
   ],
   "source": [
    "x, y = np.meshgrid(thetas_1, thetas_2)\n",
    "\n",
    "c = plt.pcolormesh(x, y, energies, cmap = 'viridis', vmax = 3, vmin = -3)\n",
    "\n",
    "cbar = plt.colorbar(c)\n",
    "cbar.set_label(r'$E$')\n",
    "plt.xlabel(r'$\\theta_1$')\n",
    "plt.ylabel(r'$\\theta_2$');"
   ]
  },
  {
   "cell_type": "markdown",
   "id": "3c9dd888-b13c-498c-8039-845aa6eaaf66",
   "metadata": {},
   "source": [
    "or in 3D"
   ]
  },
  {
   "cell_type": "code",
   "execution_count": 20,
   "id": "d4640a01-69a5-4b89-9ef5-c81ccf9e15d8",
   "metadata": {
    "tags": []
   },
   "outputs": [
    {
     "data": {
      "image/png": "[encoded data removed]",
      "text/plain": [
       "<Figure size 640x480 with 2 Axes>"
      ]
     },
     "metadata": {},
     "output_type": "display_data"
    }
   ],
   "source": [
    "x, y = np.meshgrid(thetas_1, thetas_2)\n",
    "\n",
    "fig, ax = plt.subplots(subplot_kw={\"projection\": \"3d\"})\n",
    "c = ax.plot_surface(x, y, energies, cmap = 'viridis', vmax = 3, vmin = -3)\n",
    "\n",
    "cbar = plt.colorbar(c)\n",
    "cbar.set_label(r'$E$')\n",
    "plt.xlabel(r'$\\theta_1$')\n",
    "plt.ylabel(r'$\\theta_2$');"
   ]
  },
  {
   "cell_type": "markdown",
   "id": "d9fd9fea-9335-422a-a80c-3993608f8e9c",
   "metadata": {},
   "source": [
    "In general, however, we cannot look at the potential energy surface. In this case we will be using an iterative\n",
    "optimisation scheme to find the ground-state energy, like we did before"
   ]
  },
  {
   "cell_type": "code",
   "execution_count": 21,
   "id": "00e6153f-6b44-46d2-80cd-1c9eef17e623",
   "metadata": {
    "tags": []
   },
   "outputs": [
    {
     "name": "stderr",
     "output_type": "stream",
     "text": [
      "100%|███████████████████████████████████████████████████████████████████████████████████████████████████████████████| 200/200 [00:02<00:00, 85.65it/s]\n"
     ]
    }
   ],
   "source": [
    "#compute energy derivative for the new ansatz\n",
    "energy_derivative = jax.grad(energy, 0) #zero because we only want derivative with respect to 1st positional argument\n",
    "\n",
    "#learning rate\n",
    "lr = 0.01\n",
    "\n",
    "#number of steps\n",
    "n_steps = 200\n",
    "\n",
    "#initial value for the variational parameter\n",
    "theta = jnp.array([1.6, 1.])\n",
    "\n",
    "#To store the value of the energy and the valiarional paramter during the optimization\n",
    "energy_history = np.zeros(n_steps)\n",
    "theta_history = np.zeros((n_steps, 2))\n",
    "for i in tqdm(range(n_steps)):\n",
    "    \n",
    "    #log the variational parameter and the energy\n",
    "    theta_history[i, :] = theta\n",
    "    energy_history[i] = energy(theta, H)\n",
    "    \n",
    "    #update the variational parameter according to gradient descent\n",
    "    theta -= lr * energy_derivative(theta, H)"
   ]
  },
  {
   "cell_type": "markdown",
   "id": "4ae19bda-0855-4ba3-bd4f-e2bf51309057",
   "metadata": {},
   "source": [
    "And plotting the energy as a function of the iteration"
   ]
  },
  {
   "cell_type": "code",
   "execution_count": 22,
   "id": "9b9427cb-6e4f-4dca-b21b-ccea4285a196",
   "metadata": {
    "tags": []
   },
   "outputs": [
    {
     "data": {
      "image/png": "[encoded data removed]",
      "text/plain": [
       "<Figure size 640x480 with 1 Axes>"
      ]
     },
     "metadata": {},
     "output_type": "display_data"
    }
   ],
   "source": [
    "plt.plot(energy_history, label='Energy')\n",
    "plt.ylabel(r'$E_\\theta$')\n",
    "plt.xlabel(r'epoch')\n",
    "plt.hlines(Es[0], 0, thetas[-1], label=\"Exact GS energy\", color='red')\n",
    "plt.legend();"
   ]
  },
  {
   "cell_type": "markdown",
   "id": "90785f50-6819-4827-a6dc-fd04716bda78",
   "metadata": {},
   "source": [
    "We can also investigate how it looks like in the parameter space"
   ]
  },
  {
   "cell_type": "code",
   "execution_count": 23,
   "id": "dee1a69b-2cc0-48f9-aad7-7217336dc525",
   "metadata": {
    "tags": []
   },
   "outputs": [
    {
     "data": {
      "image/png": "[encoded data removed]",
      "text/plain": [
       "<Figure size 640x480 with 2 Axes>"
      ]
     },
     "metadata": {},
     "output_type": "display_data"
    }
   ],
   "source": [
    "x, y = np.meshgrid(thetas_1, thetas_2)\n",
    "\n",
    "c = plt.pcolormesh(x, y, energies, cmap = 'viridis', vmax = 3, vmin = -3)\n",
    "plt.plot(theta_history[::4, 0], theta_history[::4, 1], marker = '.', c = 'w')\n",
    "plt.plot(theta_history[0, 0], theta_history[0, 1], marker = '.', markersize = 15, c = 'tab:red')\n",
    "plt.plot(theta_history[-1, 0], theta_history[-1, 1], marker = 'x', c = 'tab:red')\n",
    "\n",
    "cbar = plt.colorbar(c)\n",
    "cbar.set_label(r'$E$')\n",
    "plt.xlabel(r'$\\theta_1$')\n",
    "plt.ylabel(r'$\\theta_2$');"
   ]
  },
  {
   "cell_type": "markdown",
   "id": "09c2f2c0-e6b7-46d4-a578-dff1412e68a2",
   "metadata": {
    "tags": []
   },
   "source": [
    "### 3. Going towards Monte-Carlo sampling of the Energy\n",
    "\n",
    "Until now we have computed the energy as the _full summation_\n",
    "$$\n",
    "E(\\theta) = \\sum_{\\sigma, \\eta} \\psi^\\star(\\sigma) \\langle \\sigma|H|\\eta\\rangle \\psi(\\eta)\n",
    "$$\n",
    "\n",
    "But let's try to rewrite those estimators as \n",
    "$$\n",
    "E(\\theta) = \\sum_\\sigma p(\\sigma) E^{loc}(\\sigma)\n",
    "$$\n",
    "where\n",
    "$$\n",
    "p(\\sigma) =  \\frac{|\\psi(\\sigma)|^2}{\\sum_\\sigma|\\psi(\\sigma)|^2} \\,\\,\\,\\,\\,\\,\\,\\, E^{loc}(\\sigma)=\\sum_\\eta \\langle \\sigma|H|\\eta\\rangle\\frac{\\psi(\\eta)}{\\psi(\\sigma)}\n",
    "$$"
   ]
  },
  {
   "cell_type": "markdown",
   "id": "8d3552ca-e59b-4011-bf21-feee6cfb436a",
   "metadata": {
    "tags": []
   },
   "source": [
    "Specifically, we will study the transverse-field Ising model in one dimension: \n",
    "\n",
    "$$ \n",
    "\\mathcal{H}=\\Gamma\\sum_{i}\\sigma_{i}^{(x)}+V\\sum_{i}\\sigma_{i}^{(z)}\\sigma_{i+1}^{(z)}. \n",
    "$$\n",
    "\n",
    "In the following we assume periodic boundary conditions and we will count lattice sites starting from $ 0 $, such that $ i=0,1\\dots L-1 $ and $i=L=0$. "
   ]
  },
  {
   "cell_type": "markdown",
   "id": "d42e31d8-aeeb-4ad5-abd5-41bc90c6e320",
   "metadata": {},
   "source": [
    "### 1. Defining The Hamiltonian\n",
    "\n",
    "The first step in our journey consists in defining the Hamiltonian we are interested in. \n",
    "For this purpose, we first need to define the kind of degrees of freedom we are dealing with (i.e. if we have spins, bosons, fermions etc). \n",
    "This is done specifying the Hilbert space of the problem. For example, let us concentrate on a problem with 20 spins-1/2.\n",
    "\n",
    "When building hilbert spaces, in general, the first argument determines the size of the local basis and the latter defines how many modes you have."
   ]
  },
  {
   "cell_type": "code",
   "execution_count": 24,
   "id": "cd983fae-8733-4eb9-ab81-e994b57ac70c",
   "metadata": {
    "tags": []
   },
   "outputs": [],
   "source": [
    "import netket as nk\n",
    "\n",
    "N = 20\n",
    "hi = nk.hilbert.Spin(s=1 / 2, N=N)"
   ]
  },
  {
   "cell_type": "markdown",
   "id": "96d80f6c-3a86-4532-96a1-fd90d4c50ddd",
   "metadata": {
    "tags": []
   },
   "source": [
    "NetKet's Hilbert spaces define the computational basis of the calculation, and are used to label and generate elements from it. \n",
    "The standard Spin-basis implicitly selects the `z` basis and elements of that basis will be elements $ v\\in\\{\\pm 1\\}^N $.\n",
    "\n",
    "It's possible to enumerate the elements in the basis by calling `hi.all_states`"
   ]
  },
  {
   "cell_type": "code",
   "execution_count": 25,
   "id": "7175cc4d-0900-476b-bfb1-6a9525e7d63c",
   "metadata": {
    "tags": []
   },
   "outputs": [
    {
     "name": "stdout",
     "output_type": "stream",
     "text": [
      "(1048576, 20)\n"
     ]
    },
    {
     "data": {
      "text/plain": [
       "array([[-1., -1., -1., ..., -1., -1., -1.],\n",
       "       [-1., -1., -1., ..., -1., -1.,  1.],\n",
       "       [-1., -1., -1., ..., -1.,  1., -1.],\n",
       "       ...,\n",
       "       [ 1.,  1.,  1., ...,  1., -1.,  1.],\n",
       "       [ 1.,  1.,  1., ...,  1.,  1., -1.],\n",
       "       [ 1.,  1.,  1., ...,  1.,  1.,  1.]])"
      ]
     },
     "execution_count": 25,
     "metadata": {},
     "output_type": "execute_result"
    }
   ],
   "source": [
    "print(hi.all_states().shape)\n",
    "hi.all_states()"
   ]
  },
  {
   "cell_type": "markdown",
   "id": "efa8ea9c-4715-48f0-a0f6-cacc738b0840",
   "metadata": {
    "tags": []
   },
   "source": [
    "And you can always convert those configurations to an index:"
   ]
  },
  {
   "cell_type": "code",
   "execution_count": 26,
   "id": "0e0b7478-0c90-4d2a-94ab-c4cdfade909f",
   "metadata": {
    "tags": []
   },
   "outputs": [
    {
     "data": {
      "text/plain": [
       "array([      0,       1,       2, ..., 1048573, 1048574, 1048575])"
      ]
     },
     "execution_count": 26,
     "metadata": {},
     "output_type": "execute_result"
    }
   ],
   "source": [
    "hi.states_to_numbers(hi.all_states())"
   ]
  },
  {
   "cell_type": "markdown",
   "id": "a9723a2d-dd68-42f3-8493-573eb24a1af6",
   "metadata": {},
   "source": [
    "We now need to specify the Hamiltonian. For this purpose, we will use NetKet's ```LocalOperator``` (see details [here](https://www.netket.org/docs/_generated/operator/netket.operator.LocalOperator.html#netket.operator.LocalOperator)) which is the sum of arbitrary k-local operators. \n",
    "\n",
    "In this specific case, we have a 1-local operator, $ \\sigma^{(x)}_i $ and a 2-local operator, $ \\sigma^{(z)}_i \\sigma^{(z)}_j $. We then start importing the pauli operators. \n",
    "\n"
   ]
  },
  {
   "cell_type": "code",
   "execution_count": 27,
   "id": "02590f44-6510-47cf-bcaa-dc10abc79206",
   "metadata": {
    "tags": []
   },
   "outputs": [],
   "source": [
    "from netket.operator.spin import sigmax,sigmaz "
   ]
  },
  {
   "cell_type": "markdown",
   "id": "e699e55c-83ef-455c-9d76-a40d52474f1b",
   "metadata": {},
   "source": [
    "We now take $ \\Gamma=-1 $ and start defining the 1-local parts of the Hamiltonian "
   ]
  },
  {
   "cell_type": "code",
   "execution_count": 28,
   "id": "60be3fce-ed2b-40ca-969f-e6fa0e8afa37",
   "metadata": {
    "tags": []
   },
   "outputs": [],
   "source": [
    "Gamma = -1\n",
    "H = sum([Gamma*sigmax(hi,i) for i in range(N)])"
   ]
  },
  {
   "cell_type": "markdown",
   "id": "d0180989-4e35-4c76-8496-dc423395e68c",
   "metadata": {},
   "source": [
    "Here we have used a list comprehension to (mildly) show off our ability to write one-liners, however you could have just added the terms one by one in an explicit loop instead (though you'd end up with a whopping 3 lines of code). \n",
    "\n",
    "We now also add the interaction terms, using the fact that NetKet automatically recognizes products of local operators as tensor products. "
   ]
  },
  {
   "cell_type": "code",
   "execution_count": 29,
   "id": "6f25b853-53c2-408e-a3ac-3c940be5d622",
   "metadata": {
    "tags": []
   },
   "outputs": [],
   "source": [
    "V=-1\n",
    "H += sum([V*sigmaz(hi,i)*sigmaz(hi,(i+1)%N) for i in range(N)])"
   ]
  },
  {
   "cell_type": "markdown",
   "id": "3e5e3df5-e62f-4af8-be64-812c5c073366",
   "metadata": {},
   "source": [
    "### 2. Exact Diagonalization\n",
    "\n",
    "Now that we have defined the Hamiltonian, we can already start playing with it. For example, since the number of spins is large but still manageable for exact diagonalization, we can give it a try. \n",
    "\n",
    "In NetKet this is easily done converting our Hamiltonian operator into a sparse matrix of size $ 2^N \\times 2^ N $. "
   ]
  },
  {
   "cell_type": "code",
   "execution_count": 30,
   "id": "f4cc95e8-cb33-4de8-a650-6d2e9ba79920",
   "metadata": {
    "tags": []
   },
   "outputs": [
    {
     "data": {
      "text/plain": [
       "(1048576, 1048576)"
      ]
     },
     "execution_count": 30,
     "metadata": {},
     "output_type": "execute_result"
    }
   ],
   "source": [
    "sp_h=H.to_sparse()\n",
    "sp_h.shape"
   ]
  },
  {
   "cell_type": "markdown",
   "id": "bad6ff23-24ba-4724-9fa2-c8a84fa2d1f9",
   "metadata": {},
   "source": [
    "Since this is just a regular scipy sparse matrix, we can just use any sparse diagonalization routine in there to find the eigenstates. For example, this will find the two lowest eigenstates  "
   ]
  },
  {
   "cell_type": "code",
   "execution_count": 31,
   "id": "6c4b18fc-35f5-4ba1-9b85-2aec0e404a99",
   "metadata": {
    "tags": []
   },
   "outputs": [
    {
     "name": "stdout",
     "output_type": "stream",
     "text": [
      "eigenvalues with scipy sparse: [-25.49098969 -25.41240947]\n"
     ]
    }
   ],
   "source": [
    "from scipy.sparse.linalg import eigsh\n",
    "\n",
    "eig_vals, eig_vecs = eigsh(sp_h, k=2, which=\"SA\")\n",
    "\n",
    "print(\"eigenvalues with scipy sparse:\", eig_vals)\n",
    "\n",
    "E_gs = eig_vals[0]"
   ]
  },
  {
   "cell_type": "markdown",
   "id": "6eca3827-5c42-470c-bc65-fb5460145c37",
   "metadata": {},
   "source": [
    "### 3. Mean-Field Ansatz\n",
    "\n",
    "We now would like to find a variational approximation of the ground state of this Hamiltonian. As a first step, we can try to use a very simple mean field ansatz: \n",
    "\n",
    "$$ \\langle \\sigma^{z}_1,\\dots \\sigma^{z}_N| \\Psi_{\\mathrm{mf}} \\rangle = \\Pi_{i=1}^{N} \\Phi(\\sigma^{z}_i), $$\n",
    "\n",
    "where the variational parameters are the single-spin wave functions, which we can further take to be normalized: \n",
    "\n",
    "$$ |\\Phi(\\uparrow)|^2 + |\\Phi(\\downarrow)|^2 =1, $$\n",
    "\n",
    "and we can further write $ \\Phi(\\sigma^z) = \\sqrt{P(\\sigma^z)}e^{i \\phi(\\sigma^z)}$. In order to simplify the presentation, we take here and in the following examples the phase $ \\phi=0 $. In this specific model this is without loss of generality, since it is known that the ground state is real and positive. \n",
    "\n",
    "For the normalized single-spin probability we will take a sigmoid form: \n",
    "\n",
    "$$ P(\\sigma_z; \\lambda) = 1/(1+\\exp(-\\lambda \\sigma_z)), $$\n",
    "\n",
    "thus depending on the real-valued variational parameter $\\lambda$. \n",
    "In NetKet one has to define a variational function approximating the **logarithm** of the wave-function amplitudes (or density-matrix values).\n",
    "We call this variational function _the Model_ (yes, caps on the M).\n",
    "\n",
    "$$ \\langle \\sigma^{z}_1,\\dots \\sigma^{z}_N| \\Psi_{\\mathrm{mf}} \\rangle = \\exp\\left[\\mathrm{Model}(\\sigma^{z}_1,\\dots \\sigma^{z}_N ; \\theta ) \\right], $$\n",
    "\n",
    "where $\\theta$ is a set of parameters. \n",
    "In this case, the parameter of the model will be just one: $\\gamma$.  \n",
    "\n",
    "The Model can be defined using one of the several *functional* jax frameworks such as Jax/Stax, Flax or Haiku. \n",
    "NetKet includes several pre-built models and layers built with [Flax](https://github.com/google/flax), so we will be using it for the rest of the notebook. "
   ]
  },
  {
   "cell_type": "code",
   "execution_count": 32,
   "id": "031a993f-5cd6-49e7-b235-157e808df2c0",
   "metadata": {
    "tags": []
   },
   "outputs": [],
   "source": [
    "# numerical operations in the model should always use jax.numpy \n",
    "# instead of numpy because jax supports computing derivatives. \n",
    "# If you want to better understand the difference between the two, check\n",
    "# https://flax.readthedocs.io/en/latest/notebooks/jax_for_the_impatient.html\n",
    "import jax.numpy as jnp\n",
    "\n",
    "# Flax is a framework to define models using jax\n",
    "import flax\n",
    "# we refer to `flax.linen` as `nn`. It's a repository of \n",
    "# layers, initializers and nonlinear functions.\n",
    "import flax.linen as nn\n",
    "\n",
    "# A Flax model must be a class subclassing `nn.Module`\n",
    "class MF(nn.Module):\n",
    "    \n",
    "    # The most compact way to define the model is this.\n",
    "    # The __call__(self, x) function should take as \n",
    "    # input a batch of states x.shape = (n_samples, L)\n",
    "    # and should return a vector of n_samples log-amplitudes\n",
    "    @nn.compact\n",
    "    def __call__(self, x):\n",
    "        \n",
    "        # A tensor of variational parameters is defined by calling\n",
    "        # the method `self.param` where the arguments will be:\n",
    "        # - arbitrary name used to refer to this set of parameters\n",
    "        # - an initializer used to provide the initial values. \n",
    "        # - The shape of the tensor\n",
    "        # - The dtype of the tensor.\n",
    "        lam = self.param(\n",
    "            \"lambda\", nn.initializers.normal(), (1,), float\n",
    "        )\n",
    "        \n",
    "        # compute the probabilities\n",
    "        p = nn.log_sigmoid(lam*x)\n",
    "\n",
    "        # sum the output\n",
    "        return 0.5 * jnp.sum(p, axis=-1)"
   ]
  },
  {
   "cell_type": "markdown",
   "id": "71226de1-1ae3-4f1d-b190-1c98002e61c2",
   "metadata": {},
   "source": [
    "The model itself is only a set of instructions on how to initialise the parameters and how to compute the result. \n",
    "\n",
    "To actually create a variational state with its parameters, the easiest way is to construct a Monte-Carlo-sampled Variational State. \n",
    "To do this, we first need to define a sampler."
   ]
  },
  {
   "cell_type": "code",
   "execution_count": 33,
   "id": "aeae4f95-42cc-4666-b5ba-b0ccd8f8c194",
   "metadata": {
    "tags": []
   },
   "outputs": [],
   "source": [
    "# Create an instance of the model. \n",
    "# Notice that this does not create the parameters, but only the specification of how the model is constructed and acts upon inputs/.\n",
    "mf_model = MF()"
   ]
  },
  {
   "cell_type": "code",
   "execution_count": 34,
   "id": "7d357cbc-30d9-461a-9999-a17dfb6c4d65",
   "metadata": {
    "tags": []
   },
   "outputs": [],
   "source": [
    "init_rng = jax.random.PRNGKey(0)\n",
    "pars = mf_model.init(init_rng, hi.numbers_to_states(2))"
   ]
  },
  {
   "cell_type": "markdown",
   "id": "729695f8-ce3d-47a4-a968-7b34decdc595",
   "metadata": {},
   "source": [
    "The parameters are stored as a set of nested dictionaries. In this case, the single parameter $\\lambda$ is stored inside a (frozen) dictionary.\n",
    "(The reason why the dictionary is frozen is a detail of Flax)."
   ]
  },
  {
   "cell_type": "code",
   "execution_count": 35,
   "id": "b2d535ad-61b7-4a08-bb42-248ee3b7af37",
   "metadata": {
    "tags": []
   },
   "outputs": [
    {
     "data": {
      "text/plain": [
       "FrozenDict({\n",
       "    params: {\n",
       "        lambda: Array([-0.02033396], dtype=float64),\n",
       "    },\n",
       "})"
      ]
     },
     "execution_count": 35,
     "metadata": {},
     "output_type": "execute_result"
    }
   ],
   "source": [
    "pars"
   ]
  },
  {
   "cell_type": "markdown",
   "id": "b5fe9615-c8db-4a7e-a2a1-d9045e299e12",
   "metadata": {},
   "source": [
    "The wave-function can be queried for every possible value in the Hilbert space by using the following syntax:"
   ]
  },
  {
   "cell_type": "code",
   "execution_count": 36,
   "id": "8e40f043-e781-4413-bb9e-91db7ead2bde",
   "metadata": {
    "tags": []
   },
   "outputs": [],
   "source": [
    "sigmas = hi.all_states()\n",
    "\n",
    "log_wf_amplitudes = mf_model.apply(pars, sigmas)\n",
    "\n",
    "wf_amplitudes = jnp.exp(log_wf_amplitudes)"
   ]
  },
  {
   "cell_type": "markdown",
   "id": "b5914c74-8de0-40ff-955f-200d98e94889",
   "metadata": {},
   "source": [
    "And this is not normally normalized, but for the particular ansatz we picked it is:"
   ]
  },
  {
   "cell_type": "code",
   "execution_count": 37,
   "id": "b191f2dd-1292-4602-974d-6a57593c6622",
   "metadata": {
    "tags": []
   },
   "outputs": [
    {
     "data": {
      "text/plain": [
       "Array(1., dtype=float64)"
      ]
     },
     "execution_count": 37,
     "metadata": {},
     "output_type": "execute_result"
    }
   ],
   "source": [
    "jnp.linalg.norm(wf_amplitudes)"
   ]
  },
  {
   "cell_type": "markdown",
   "id": "7efe7fd6-0724-4e57-9144-8194659b6951",
   "metadata": {},
   "source": [
    "We can also make the function to construct the full wavefunction:"
   ]
  },
  {
   "cell_type": "code",
   "execution_count": 38,
   "id": "f91a6b3b-55f7-4854-8161-462f04812f8a",
   "metadata": {
    "tags": []
   },
   "outputs": [],
   "source": [
    "def dense_wavefunction(params):\n",
    "    sigmas = hi.all_states()\n",
    "    log_wf_amplitudes = mf_model.apply(pars, hi.all_states())\n",
    "    return jnp.exp(log_wf_amplitudes)/jnp.linalg.norm(wf_amplitudes)"
   ]
  },
  {
   "cell_type": "markdown",
   "id": "9e718ea1-c6f1-47ef-aa70-ffef1d55bb80",
   "metadata": {
    "tags": []
   },
   "source": [
    "### 4. Compute the Born Probability Amplitude\n",
    "\n",
    "We want to compute \n",
    "$$\n",
    "p(\\sigma) =  \\frac{|\\psi(\\sigma)|^2}{\\sum_\\sigma|\\psi(\\sigma)|^2}\n",
    "$$"
   ]
  },
  {
   "cell_type": "code",
   "execution_count": 39,
   "id": "788c462f-48e1-47cd-b9f1-e306ad697984",
   "metadata": {
    "tags": []
   },
   "outputs": [],
   "source": [
    "def born_amplitude(pars, x):\n",
    "    log_wf_amplitudes = mf_model.apply(pars, x)\n",
    "    probs = jnp.exp(2*log_wf_amplitudes.real)\n",
    "    return probs/probs.sum()"
   ]
  },
  {
   "cell_type": "markdown",
   "id": "4dae6ae0-89dd-49ed-9097-77f981a77bda",
   "metadata": {},
   "source": [
    "And we can check that it works:"
   ]
  },
  {
   "cell_type": "code",
   "execution_count": 40,
   "id": "b370adce-0999-4644-a9f9-129462b1ceb0",
   "metadata": {
    "tags": []
   },
   "outputs": [
    {
     "data": {
      "text/plain": [
       "Array([1.16750958e-06, 1.14400922e-06, 1.14400922e-06, ...,\n",
       "       7.93364614e-07, 7.93364614e-07, 7.77395278e-07], dtype=float64)"
      ]
     },
     "execution_count": 40,
     "metadata": {},
     "output_type": "execute_result"
    }
   ],
   "source": [
    "born_amplitude(pars, sigmas)"
   ]
  },
  {
   "cell_type": "code",
   "execution_count": 41,
   "id": "598537ef-596b-4bb3-b64c-17a1d7e7cb77",
   "metadata": {
    "tags": []
   },
   "outputs": [
    {
     "data": {
      "text/plain": [
       "Array(1., dtype=float64)"
      ]
     },
     "execution_count": 41,
     "metadata": {},
     "output_type": "execute_result"
    }
   ],
   "source": [
    "born_amplitude(pars, hi.all_states()).sum()"
   ]
  },
  {
   "cell_type": "markdown",
   "id": "0f6a097e-92c2-4141-ba82-88e883419e51",
   "metadata": {
    "tags": []
   },
   "source": [
    "### 5. Compute the Local Energies\n",
    "\n",
    "We want to compute \n",
    "$$\n",
    " E^{loc}(\\sigma)=\\sum_\\eta \\langle \\sigma|H|\\eta\\rangle\\frac{\\psi(\\eta)}{\\psi(\\sigma)}\n",
    "$$"
   ]
  },
  {
   "cell_type": "code",
   "execution_count": 42,
   "id": "ea98fbcc-1a83-4457-a1d3-1abbc0b77570",
   "metadata": {
    "tags": []
   },
   "outputs": [
    {
     "name": "stdout",
     "output_type": "stream",
     "text": [
      "(20, 20)\n"
     ]
    }
   ],
   "source": [
    "# First we identify the non-zero elements\n",
    "sigmas = hi.numbers_to_states(np.arange(20))\n",
    "print(sigmas.shape)"
   ]
  },
  {
   "cell_type": "code",
   "execution_count": 43,
   "id": "0f013c5a-1f7f-4acc-9e18-afb48c5cd2ca",
   "metadata": {
    "tags": []
   },
   "outputs": [
    {
     "name": "stdout",
     "output_type": "stream",
     "text": [
      "eta shape: (20, 21, 20)\n",
      "mels shape: (20, 21)\n"
     ]
    }
   ],
   "source": [
    "# then we use:\n",
    "etas, mels = H.get_conn_padded(sigmas)\n",
    "print(\"eta shape:\", etas.shape)\n",
    "print(\"mels shape:\", mels.shape)"
   ]
  },
  {
   "cell_type": "code",
   "execution_count": 44,
   "id": "00ab333e-2de0-4d33-8d27-585902b5ca68",
   "metadata": {
    "tags": []
   },
   "outputs": [
    {
     "name": "stdout",
     "output_type": "stream",
     "text": [
      "(20, 21)\n",
      "(20,)\n",
      "(20, 1)\n"
     ]
    }
   ],
   "source": [
    "# We compute the local energy as:\n",
    "logpsi_eta = mf_model.apply(pars, etas)\n",
    "print(logpsi_eta.shape)\n",
    "\n",
    "logpsi_sigma = mf_model.apply(pars, sigmas)\n",
    "print(logpsi_sigma.shape)\n",
    "logpsi_sigma = jnp.expand_dims(logpsi_sigma, axis=-1)\n",
    "print(logpsi_sigma.shape)"
   ]
  },
  {
   "cell_type": "code",
   "execution_count": 45,
   "id": "a9a36fc2-c03f-4a34-bc2d-f5302e15ca8e",
   "metadata": {
    "tags": []
   },
   "outputs": [
    {
     "name": "stdout",
     "output_type": "stream",
     "text": [
      "(20,)\n"
     ]
    }
   ],
   "source": [
    "Eloc = jnp.sum(mels*jnp.exp(logpsi_eta - logpsi_sigma), axis=-1)\n",
    "print(Eloc.shape)"
   ]
  },
  {
   "cell_type": "markdown",
   "id": "cca9d0c3-238a-4948-9702-7bea4302102c",
   "metadata": {},
   "source": [
    "And we try to put those elements together in a single function:"
   ]
  },
  {
   "cell_type": "code",
   "execution_count": 46,
   "id": "c29fd980-a032-4e05-a261-b3b20b19f6e6",
   "metadata": {
    "tags": []
   },
   "outputs": [],
   "source": [
    "def local_energy(pars, sigmas):\n",
    "    etas, mels = H.get_conn_padded(sigmas)\n",
    "    logpsi_eta = mf_model.apply(pars, etas)\n",
    "    logpsi_sigma = mf_model.apply(pars, sigmas)\n",
    "    logpsi_sigma = jnp.expand_dims(logpsi_sigma, axis=-1)\n",
    "    Eloc = jnp.sum(mels*jnp.exp(logpsi_eta - logpsi_sigma), axis=-1)\n",
    "    return Eloc"
   ]
  },
  {
   "cell_type": "markdown",
   "id": "14397bdd-a1ad-47c6-a52d-64a3aa12f45c",
   "metadata": {
    "tags": []
   },
   "source": [
    "### 6. Compute the Energy with a _full summation_\n",
    "\n",
    "But let's try to rewrite those estimators as \n",
    "$$\n",
    "E(\\theta) = \\sum_\\sigma p(\\sigma) E^{loc}(\\sigma)\n",
    "$$"
   ]
  },
  {
   "cell_type": "code",
   "execution_count": 47,
   "id": "14926a9a-32fc-4de6-a111-f2fee504af5d",
   "metadata": {
    "tags": []
   },
   "outputs": [
    {
     "name": "stdout",
     "output_type": "stream",
     "text": [
      "Full summation energy: -20.00103357712735\n"
     ]
    }
   ],
   "source": [
    "all_sigmas = hi.all_states()\n",
    "energy_fullsum = jnp.sum(born_amplitude(pars, all_sigmas) * local_energy(pars, all_sigmas))\n",
    "print(\"Full summation energy:\", energy_fullsum)"
   ]
  },
  {
   "cell_type": "markdown",
   "id": "4aa8752a-9dce-4b96-9829-36a56859c917",
   "metadata": {
    "tags": []
   },
   "source": [
    "And we can compare against the exact 'energy'"
   ]
  },
  {
   "cell_type": "code",
   "execution_count": 48,
   "id": "62837b3e-6ccd-4d51-9713-8adf0c121487",
   "metadata": {
    "tags": []
   },
   "outputs": [
    {
     "name": "stdout",
     "output_type": "stream",
     "text": [
      "Full summation energy: -20.001033577108004\n"
     ]
    }
   ],
   "source": [
    "psi = dense_wavefunction(pars)\n",
    "hmat = H.to_sparse()\n",
    "energy_exact = psi.conj().T@hmat@psi\n",
    "print(\"Full summation energy:\", energy_exact)"
   ]
  },
  {
   "cell_type": "markdown",
   "id": "dc6f5f8d-e39b-43f9-8894-e2a5dc9737eb",
   "metadata": {},
   "source": [
    "### 7. Using Monte Carlo sampling\n",
    "\n",
    "Now let's try to reduce the computational cost by using stochastic sampling.\n",
    "To do that we will use NetKet's samplers..."
   ]
  },
  {
   "cell_type": "markdown",
   "id": "5fa702d4-39e1-4b0a-84bd-614406df0d55",
   "metadata": {},
   "source": [
    "In `netket.sampler` several samplers are defined, each with its own peculiarities. \n",
    "In the following example, we will be using a simple sampler that flips the spins in the configurations one by one.\n",
    "\n",
    "You can read more about how the sampler works by checking the documentation with `?nk.sampler.MetropolisLocal`"
   ]
  },
  {
   "cell_type": "code",
   "execution_count": 49,
   "id": "5f64219e-5203-4ab6-9e22-93b153370088",
   "metadata": {
    "tags": []
   },
   "outputs": [],
   "source": [
    "# Create the local sampler on the hilbert space\n",
    "sampler = nk.sampler.MetropolisLocal(hi)"
   ]
  },
  {
   "cell_type": "code",
   "execution_count": 50,
   "id": "04ccd37e-8157-4bfd-902a-af89794f48b6",
   "metadata": {
    "tags": []
   },
   "outputs": [],
   "source": [
    "# Initialize the sampler\n",
    "sampler_state = sampler.reset(mf_model, pars)"
   ]
  },
  {
   "cell_type": "code",
   "execution_count": 51,
   "id": "dbfe1106-3cd9-4153-9e7f-b57f7603b042",
   "metadata": {
    "tags": []
   },
   "outputs": [],
   "source": [
    "# generate samples\n",
    "samples, sampler_state_2 = sampler.sample(mf_model, pars, state=sampler_state, chain_length=100)"
   ]
  },
  {
   "cell_type": "code",
   "execution_count": 52,
   "id": "e79d5a47-f419-4896-8dec-aa0d130a74c5",
   "metadata": {
    "tags": []
   },
   "outputs": [
    {
     "name": "stdout",
     "output_type": "stream",
     "text": [
      "(100, 16, 20)\n"
     ]
    }
   ],
   "source": [
    "print(samples.shape)"
   ]
  },
  {
   "cell_type": "markdown",
   "id": "84cb9abc-3170-4f43-b1d1-03a553c6cc14",
   "metadata": {
    "tags": []
   },
   "source": [
    "And now we use\n",
    "\n",
    "$$\n",
    "E(\\theta) = \\sum_\\sigma p(\\sigma) E^{loc}(\\sigma) \\approx \\frac{1}{N_s}\\sum_{\\sigma\\in\\{...\\}} E^{loc}(\\sigma)\n",
    "$$\n"
   ]
  },
  {
   "cell_type": "code",
   "execution_count": 53,
   "id": "4d203ac8-a65b-4ae9-adf2-0c2892413d6b",
   "metadata": {
    "tags": []
   },
   "outputs": [
    {
     "name": "stdout",
     "output_type": "stream",
     "text": [
      "Full summation energy: -20.086649097794574\n"
     ]
    }
   ],
   "source": [
    "samples, sampler_state_2 = sampler.sample(mf_model, pars, state=sampler_state, chain_length=100)\n",
    "energy_sampled = jnp.mean(local_energy(pars, samples))\n",
    "print(\"Full summation energy:\", energy_sampled)"
   ]
  },
  {
   "cell_type": "code",
   "execution_count": 57,
   "id": "1e9590fb-0b2d-413d-944d-c25f4b5b4fc7",
   "metadata": {
    "tags": []
   },
   "outputs": [],
   "source": [
    "N_samples = [ 10,50, 100,250, 500,800, 1000,2000, 3000, 5000]\n",
    "energies = []\n",
    "for Ns in N_samples:\n",
    "    samples, sampler_state_2 = sampler.sample(mf_model, pars, state=sampler_state, chain_length=Ns)\n",
    "    energy_sampled = jnp.mean(local_energy(pars, samples))\n",
    "    energies.append(energy_sampled)"
   ]
  },
  {
   "cell_type": "code",
   "execution_count": 58,
   "id": "655c0d9a-5db0-4989-b3d3-5925f55654df",
   "metadata": {
    "tags": []
   },
   "outputs": [
    {
     "data": {
      "text/plain": [
       "<matplotlib.collections.LineCollection at 0x16ba1c580>"
      ]
     },
     "execution_count": 58,
     "metadata": {},
     "output_type": "execute_result"
    },
    {
     "data": {
      "image/png": "[encoded data removed]",
      "text/plain": [
       "<Figure size 640x480 with 1 Axes>"
      ]
     },
     "metadata": {},
     "output_type": "display_data"
    }
   ],
   "source": [
    "plt.plot(N_samples, energies)\n",
    "plt.hlines(energy_fullsum, 0, N_samples[-1], color='red')"
   ]
  },
  {
   "cell_type": "markdown",
   "id": "5da5d68f-d5c9-439f-81a3-df8bd35fe61c",
   "metadata": {},
   "source": [
    "## 3. Easier Interface\n",
    "\n",
    "What you've seen above is complex, and often we don't want to deal with all that...\n",
    "For that reason netket implements a 'variational state' interface that hides all those details (and more)"
   ]
  },
  {
   "cell_type": "code",
   "execution_count": 59,
   "id": "b76e4eeb-bdb8-4ed2-852f-811fb694fa91",
   "metadata": {},
   "outputs": [],
   "source": [
    "# Create an instance of the model. \n",
    "# Notice that this does not create the parameters, but only the specification of how the model is constructed and acts upon inputs/.\n",
    "mf_model = MF()\n",
    "\n",
    "# Create the local sampler on the hilbert space\n",
    "sampler = nk.sampler.MetropolisLocal(hi)\n",
    "\n",
    "# Construct the variational state using the model and the sampler above.\n",
    "# n_samples specifies how many samples should be used to compute expectation\n",
    "# values.\n",
    "vstate = nk.vqs.MCState(sampler, mf_model, n_samples=512)"
   ]
  },
  {
   "cell_type": "markdown",
   "id": "92c41695-1106-41cb-bcd9-e5de125cf36b",
   "metadata": {},
   "source": [
    "You can play around with the variational state: for example, you can compute expectation values yourself or inspect it's parameters.\n",
    "The parameters are stored as a set of nested dictionaries. In this case, the single parameter $\\lambda$ is stored inside a (frozen) dictionary.\n",
    "(The reason why the dictionary is frozen is a detail of Flax)."
   ]
  },
  {
   "cell_type": "code",
   "execution_count": 60,
   "id": "2bf353cf-cea6-432b-9d12-ea944ccfe3e8",
   "metadata": {},
   "outputs": [
    {
     "name": "stdout",
     "output_type": "stream",
     "text": [
      "FrozenDict({\n",
      "    lambda: Array([0.01302737], dtype=float64),\n",
      "})\n"
     ]
    }
   ],
   "source": [
    "print(vstate.parameters)"
   ]
  },
  {
   "cell_type": "markdown",
   "id": "f061c6f2-1553-4a5b-9e24-edbdc7a863f6",
   "metadata": {},
   "source": [
    "With a variational state, you can compute expectation values of operators. \n",
    "Notice that it also provides an error estimate and the variance of this estimator. \n",
    "If you are close to an eigenstate of the operators, the variance should be 0 or close to 0. \n",
    "\n",
    "The $\\hat{R}$ value is a Monte-Carlo convergence estimator. It will be $\\hat{R}\\approx 1$ if the Markov Chain is converged, while it will be far from $1$ if your sampling has not converged.\n",
    "As a rule of thumb, look out for $|\\hat{R}| > 1.1$, and check if your sampling scheme or sampler is consistent with your system specification.\n",
    "\n",
    "You can also investigate the correlation time of your estimator, $\\tau$. If $\\tau\\gg1$ then your samples are very correlated and you most likely have some issues with your sampling scheme."
   ]
  },
  {
   "cell_type": "code",
   "execution_count": 61,
   "id": "d2a2e2b6-cfbf-45d2-b1f1-d39342ade5ed",
   "metadata": {},
   "outputs": [
    {
     "name": "stdout",
     "output_type": "stream",
     "text": [
      "-19.67 ± 0.18 [σ²=19.58, R̂=1.0151, τ=0.8<3.6]\n"
     ]
    }
   ],
   "source": [
    "E = vstate.expect(H)\n",
    "print(E)"
   ]
  },
  {
   "cell_type": "markdown",
   "id": "b302abb1-1167-4e4a-95d0-3928aa013ad0",
   "metadata": {},
   "source": [
    "You can also access the fields individually:\n",
    "Note that if you run your calculation using MPI on different processes/machines, those estimators will return the mean, error and estimators of all the samples across all the processes."
   ]
  },
  {
   "cell_type": "code",
   "execution_count": 62,
   "id": "a6419a1f-72bd-4d80-9388-f5cb8f8ebbf8",
   "metadata": {},
   "outputs": [
    {
     "name": "stdout",
     "output_type": "stream",
     "text": [
      "Mean                  : -19.6715613988669\n",
      "Error                 : 0.1764822181784137\n",
      "Variance              : 19.576092552811293\n",
      "Convergence indicator : 1.0151073782385118\n",
      "Correlation time      : 0.7922668561088076\n"
     ]
    }
   ],
   "source": [
    "print(\"Mean                  :\", E.mean)\n",
    "print(\"Error                 :\", E.error_of_mean)\n",
    "print(\"Variance              :\", E.variance)\n",
    "print(\"Convergence indicator :\", E.R_hat)\n",
    "print(\"Correlation time      :\", E.tau_corr)"
   ]
  },
  {
   "cell_type": "code",
   "execution_count": 63,
   "id": "ec69b155-1838-45b0-ad4e-adeaadfe63c0",
   "metadata": {},
   "outputs": [
    {
     "data": {
      "text/plain": [
       "(-19.67 ± 0.18 [σ²=19.58, R̂=1.0151, τ=0.8<3.6],\n",
       " FrozenDict({\n",
       "     lambda: Array([-0.11236042], dtype=float64),\n",
       " }))"
      ]
     },
     "execution_count": 63,
     "metadata": {},
     "output_type": "execute_result"
    }
   ],
   "source": [
    "vstate.expect_and_grad(H)"
   ]
  },
  {
   "cell_type": "markdown",
   "id": "40d7a1aa-505e-4b68-a9ff-be5fabc55eb6",
   "metadata": {
    "tags": []
   },
   "source": [
    "## 4. Variational Monte Carlo"
   ]
  },
  {
   "cell_type": "markdown",
   "id": "654fb4be-45c1-484d-bcda-4e64ef1ed03f",
   "metadata": {},
   "source": [
    "We will now try to optimise $ \\lambda $ in order to best approximate the ground state of the hamiltonian.\n",
    "\n",
    "At first, we'll try to do this by ourselves by writing the training loop, but then we'll switch to using a pre-made\n",
    "solution provided by netket for simplicity."
   ]
  },
  {
   "cell_type": "markdown",
   "id": "bcfe044c-d7eb-4b30-89c3-73cdcc5ee7ad",
   "metadata": {},
   "source": [
    "### 4a. DIY Optimisation loop\n",
    "\n",
    "The optimisation (or training) loop must do a very simple thing: at every iteration it must compute the energy and it's gradient, then multiply the gradient by a certain learning rate $\\lambda = 0.05$ and lastly it must update the parameters with this rescaled gradient.\n",
    "You can do so as follows:"
   ]
  },
  {
   "cell_type": "code",
   "execution_count": 64,
   "id": "f6a390a1-a3eb-4ffa-a036-e888948b14ec",
   "metadata": {},
   "outputs": [
    {
     "name": "stderr",
     "output_type": "stream",
     "text": [
      "100%|███████████████████████████████████████████████████████████████████████████████████████████████████████████████| 100/100 [00:01<00:00, 67.12it/s]\n"
     ]
    }
   ],
   "source": [
    "from tqdm import tqdm\n",
    "\n",
    "energy_history = []\n",
    "n_steps = 100\n",
    "\n",
    "# For every iteration (tqdm is just a progress bar)\n",
    "for i in tqdm(range(n_steps)):\n",
    "    # compute energy and gradient of the energy\n",
    "    E, E_grad = vstate.expect_and_grad(H)\n",
    "    # log the energy to a list\n",
    "    energy_history.append(E.mean.real)\n",
    "    # equivalent to vstate.parameters - 0.05*E_grad , but it performs this\n",
    "    # function on every leaf of the dictionaries containing the set of parameters\n",
    "    new_pars = jax.tree_map(lambda x,y: x-0.05*y, vstate.parameters, E_grad)\n",
    "    # actually update the parameters\n",
    "    vstate.parameters = new_pars"
   ]
  },
  {
   "cell_type": "markdown",
   "id": "f0e9c282-87de-480c-ab65-283be2114033",
   "metadata": {},
   "source": [
    "We now can plot the energy during those optimisation steps:\n"
   ]
  },
  {
   "cell_type": "code",
   "execution_count": 65,
   "id": "45b7ac61-8690-48b3-a333-bdaf63b57552",
   "metadata": {},
   "outputs": [
    {
     "data": {
      "text/plain": [
       "[<matplotlib.lines.Line2D at 0x40023ab00>]"
      ]
     },
     "execution_count": 65,
     "metadata": {},
     "output_type": "execute_result"
    },
    {
     "data": {
      "image/png": "[encoded data removed]",
      "text/plain": [
       "<Figure size 640x480 with 1 Axes>"
      ]
     },
     "metadata": {},
     "output_type": "display_data"
    }
   ],
   "source": [
    "import matplotlib.pyplot as plt\n",
    "\n",
    "plt.plot(energy_history)"
   ]
  },
  {
   "cell_type": "markdown",
   "id": "3add6b6e-14ca-44c7-aee2-62eaebc6b774",
   "metadata": {},
   "source": [
    "### 4b. Use NetKet's optimisation driver \n",
    "\n",
    "As writing the whole optimisation loop by yourself every time is.. boring, we can make use of a coupled of NetKet's built-in utilities."
   ]
  },
  {
   "cell_type": "code",
   "execution_count": 66,
   "id": "ac9d7814-e9d0-458e-b866-cab6f2e09970",
   "metadata": {},
   "outputs": [
    {
     "name": "stdout",
     "output_type": "stream",
     "text": [
      "No output specified (out=[apath|nk.logging.JsonLogger(...)]).Running the optimization but not saving the output.\n"
     ]
    },
    {
     "name": "stderr",
     "output_type": "stream",
     "text": [
      "100%|██████████████████████████████████████████████████████| 300/300 [00:04<00:00, 64.02it/s, Energy=-24.984 ± 0.028 [σ²=1.040, R̂=1.0163, τ=0.9<2.3]]\n"
     ]
    },
    {
     "name": "stdout",
     "output_type": "stream",
     "text": [
      "Optimized energy and relative error:  -24.974 ± 0.039 [σ²=0.985, R̂=1.0140, τ=0.6<1.9] 0.02026359317628221\n"
     ]
    }
   ],
   "source": [
    "# First we reset the parameters to run the optimisation again\n",
    "vstate.init_parameters()\n",
    "\n",
    "# Then we create an optimiser from the standard library.\n",
    "# You can also use optax.\n",
    "optimizer = nk.optimizer.Sgd(learning_rate=0.05)\n",
    "\n",
    "# build the optimisation driver\n",
    "gs = nk.driver.VMC(H, optimizer, variational_state=vstate)\n",
    "\n",
    "# run the driver for 300 iterations. This will display a progress bar\n",
    "# by default.\n",
    "gs.run(n_iter=300)\n",
    "\n",
    "mf_energy=vstate.expect(H)\n",
    "error=abs((mf_energy.mean-eig_vals[0])/eig_vals[0])\n",
    "print(\"Optimized energy and relative error: \",mf_energy,error)"
   ]
  },
  {
   "cell_type": "code",
   "execution_count": 67,
   "id": "d6897bac-3132-4518-b8f0-102d67d52e3e",
   "metadata": {},
   "outputs": [
    {
     "name": "stdout",
     "output_type": "stream",
     "text": [
      "Final optimized parameter:  [-2.6384457]\n"
     ]
    }
   ],
   "source": [
    "# we can also inspect the parameter:\n",
    "print(\"Final optimized parameter: \",vstate.parameters[\"lambda\"])"
   ]
  },
  {
   "cell_type": "code",
   "execution_count": 68,
   "id": "62208280-8251-4327-9d62-602baffecac9",
   "metadata": {},
   "outputs": [
    {
     "data": {
      "text/plain": [
       "-25.490989686364735"
      ]
     },
     "execution_count": 68,
     "metadata": {},
     "output_type": "execute_result"
    }
   ],
   "source": [
    "eig_vals[0]"
   ]
  },
  {
   "cell_type": "markdown",
   "id": "8c436553-139e-4708-ae7c-b79b72d170a2",
   "metadata": {},
   "source": [
    "## 5. Jastrow Ansatz\n",
    "\n",
    "We have seen that the mean field ansatz yields about 2% error on the ground-state energy. Let's now try to do better, using a more correlated ansatz. \n",
    "\n",
    "We will now take a short-range Jastrow ansatz, entangling nearest and next-to nearest neighbors, of the form \n",
    "\n",
    "$$ \\langle \\sigma^{z}_1,\\dots \\sigma^{z}_N| \\Psi_{\\mathrm{jas}} \\rangle = \\exp \\left( \\sum_i J_1 \\sigma^{z}_i\\sigma^{z}_{i+1} + J_2 \\sigma^{z}_i\\sigma^{z}_{i+2} \\right),$$\n",
    "\n",
    "where the parameters $J_1$ and $J_2$ are to be learned. \n",
    "\n",
    "Again we can write the model using flax. "
   ]
  },
  {
   "cell_type": "code",
   "execution_count": 69,
   "id": "2fc66f3a-1154-44e6-85fc-985f5e2d40ef",
   "metadata": {},
   "outputs": [],
   "source": [
    "class JasShort(nn.Module):\n",
    "    @nn.compact\n",
    "    def __call__(self, x):\n",
    "        \n",
    "        # Define the two variational parameters J1 and J2\n",
    "        j1 = self.param(\n",
    "            \"j1\", nn.initializers.normal(), (1,), float\n",
    "        )\n",
    "        j2 =self.param(\n",
    "            \"j2\", nn.initializers.normal(), (1,), float\n",
    "        )\n",
    "\n",
    "        # compute the nearest-neighbor correlations\n",
    "        corr1=x*jnp.roll(x,-1,axis=-1)\n",
    "        corr2=x*jnp.roll(x,-2,axis=-1)\n",
    "\n",
    "        # sum the output\n",
    "        return jnp.sum(j1*corr1+j2*corr2,axis=-1)\n",
    "    \n",
    "model=JasShort()\n",
    "\n",
    "vstate = nk.vqs.MCState(sampler, model, n_samples=1008)"
   ]
  },
  {
   "cell_type": "markdown",
   "id": "9f527967-7e9f-4ebe-bd3b-0bdb61e80391",
   "metadata": {},
   "source": [
    "We then optimize it, however this time we also introduce a stochastic reconfiguration (natural gradient) preconditioner. Also, we now log the intermediate results of the optimization, so that we can visualize them at a later stage. \n",
    "\n",
    "Loggers that work together with optimisation drivers are defined in `nk.logging`. In this example we use `RuntimeLog`, which keeps the metrics in memory. You could also use `JsonLog`, which stores data to a json file which can be later read as a dict or `TensorBoardLog` which connects to [TensorBoard](https://www.tensorflow.org/tensorboard)."
   ]
  },
  {
   "cell_type": "code",
   "execution_count": 70,
   "id": "6645be25-b762-4436-94ba-fb8dd91562c7",
   "metadata": {},
   "outputs": [
    {
     "name": "stderr",
     "output_type": "stream",
     "text": [
      "100%|██████████████████████████████████████████████████████| 300/300 [00:03<00:00, 81.00it/s, Energy=-25.306 ± 0.026 [σ²=0.369, R̂=1.0178, τ=1.5<2.9]]\n"
     ]
    },
    {
     "name": "stdout",
     "output_type": "stream",
     "text": [
      "Final optimized parameters: j1=[0.2335846], j2=[0.08119685]\n",
      "Optimized energy : -25.293 ± 0.028 [σ²=0.413, R̂=1.0193, τ=1.5<3.0]\n",
      "relative error   : 0.007764053809496511\n"
     ]
    }
   ],
   "source": [
    "optimizer = nk.optimizer.Sgd(learning_rate=0.05)\n",
    "\n",
    "gs = nk.driver.VMC(H, optimizer, variational_state=vstate, preconditioner=nk.optimizer.SR(diag_shift=0.1))\n",
    "\n",
    "# construct the logger\n",
    "log=nk.logging.RuntimeLog()\n",
    "\n",
    "# One or more logger objects must be passed to the keyword argument `out`.\n",
    "gs.run(n_iter=300, out=log)\n",
    "\n",
    "print(f\"Final optimized parameters: j1={vstate.parameters['j1']}, j2={vstate.parameters['j2']}\")\n",
    "\n",
    "jas_energy=vstate.expect(H)\n",
    "error=abs((jas_energy.mean-eig_vals[0])/eig_vals[0])\n",
    "print(f\"Optimized energy : {jas_energy}\")\n",
    "print(f\"relative error   : {error}\")"
   ]
  },
  {
   "cell_type": "markdown",
   "id": "97cea8e3-07fb-47de-bb58-172e42d8c2ef",
   "metadata": {},
   "source": [
    "You can now see that this ansatz is almost one order of magnitude more accurate than the mean field! \n",
    "\n",
    "In order to visualize what happened during the optimization, we can use the data that has been stored by the logger. There are several available loggers in NetKet, here we have just used a simple one that stores the intermediate results as values in a dictionary. "
   ]
  },
  {
   "cell_type": "code",
   "execution_count": 71,
   "id": "fcb5b2dc-17eb-4a87-ac08-658d26128772",
   "metadata": {},
   "outputs": [
    {
     "name": "stdout",
     "output_type": "stream",
     "text": [
      "{'Energy': History(\n",
      "   keys  = ['Mean', 'Variance', 'Sigma', 'R_hat', 'TauCorr', 'TauCorrMax'], \n",
      "   iters = [0, 1, ... 298, 299] (300 steps),\n",
      ")}\n"
     ]
    }
   ],
   "source": [
    "data_jastrow = log.data\n",
    "print(data_jastrow)"
   ]
  },
  {
   "cell_type": "markdown",
   "id": "f5f6f3cd-def1-41ed-a95a-e5d2c38f2072",
   "metadata": {},
   "source": [
    "These report several intermediate quantities, that can be easily plotted. For example we can plot the value of the energy (with its error bar) at each optimization step.  "
   ]
  },
  {
   "cell_type": "code",
   "execution_count": 72,
   "id": "91b7bc92-6e58-4cbe-9d60-c4de8ef604ec",
   "metadata": {
    "scrolled": true
   },
   "outputs": [
    {
     "data": {
      "text/plain": [
       "Text(0, 0.5, 'Energy')"
      ]
     },
     "execution_count": 72,
     "metadata": {},
     "output_type": "execute_result"
    },
    {
     "data": {
      "image/png": "[encoded data removed]",
      "text/plain": [
       "<Figure size 640x480 with 1 Axes>"
      ]
     },
     "metadata": {},
     "output_type": "display_data"
    }
   ],
   "source": [
    "from matplotlib import pyplot as plt\n",
    "\n",
    "plt.errorbar(data_jastrow[\"Energy\"].iters, data_jastrow[\"Energy\"].Mean, yerr=data_jastrow[\"Energy\"].Sigma)\n",
    "plt.xlabel('Iterations')\n",
    "plt.ylabel('Energy')"
   ]
  },
  {
   "cell_type": "markdown",
   "id": "14fdf4d8-21e1-4f34-ad44-651711bb52e1",
   "metadata": {},
   "source": [
    "## 6. Neural-Network Quantum State \n",
    "\n",
    "We now want to use a more sophisticated ansatz, based on a neural network representation of the wave function. At this point, this is quite straightforward, since we can again take advantage of automatic differentiation. \n",
    "\n",
    "Let us define a simple fully-connected feed-forward network with a ReLu activation function and a sum layer. "
   ]
  },
  {
   "cell_type": "code",
   "execution_count": 73,
   "id": "de32c625-7118-4582-b692-618c9bc9dfa0",
   "metadata": {},
   "outputs": [],
   "source": [
    "class FFN(nn.Module):\n",
    "    \n",
    "    # You can define attributes at the module-level\n",
    "    # with a default. This allows you to easily change\n",
    "    # some hyper-parameter without redefining the whole \n",
    "    # flax module.\n",
    "    alpha : int = 1\n",
    "            \n",
    "    @nn.compact\n",
    "    def __call__(self, x):\n",
    "\n",
    "        # here we construct the first dense layer using a\n",
    "        # pre-built implementation in flax.\n",
    "        # features is the number of output nodes\n",
    "        # WARNING: Won't work with complex hamiltonians because\n",
    "        # of a bug in flax. Use nk.nn.Dense otherwise. \n",
    "        dense = nn.Dense(features=self.alpha * x.shape[-1])\n",
    "        \n",
    "        # we apply the dense layer to the input\n",
    "        y = dense(x)\n",
    "\n",
    "        # the non-linearity is a simple ReLu\n",
    "        y = nn.relu(y)\n",
    "                \n",
    "        # sum the output\n",
    "        return jnp.sum(y, axis=-1)\n",
    "    \n",
    "model = FFN(alpha=1)\n",
    "\n",
    "vstate = nk.vqs.MCState(sampler, model, n_samples=1008)"
   ]
  },
  {
   "cell_type": "markdown",
   "id": "e0628a5f-9eba-4b71-9ce2-b0f2a28e38f4",
   "metadata": {},
   "source": [
    "We then proceed to the optimization as before. "
   ]
  },
  {
   "cell_type": "code",
   "execution_count": 74,
   "id": "eb5c87c6-e188-4b9f-b5c2-df4ca95ff8a5",
   "metadata": {},
   "outputs": [
    {
     "name": "stderr",
     "output_type": "stream",
     "text": [
      "100%|██████████████████████████████████████████████████████| 300/300 [00:06<00:00, 46.53it/s, Energy=-25.471 ± 0.012 [σ²=0.102, R̂=1.0135, τ=1.0<2.6]]\n"
     ]
    },
    {
     "name": "stdout",
     "output_type": "stream",
     "text": [
      "Optimized energy and relative error:  -25.479 ± 0.011 [σ²=0.095, R̂=1.0133, τ=1.1<3.5] 0.00045109957224080465\n"
     ]
    }
   ],
   "source": [
    "optimizer = nk.optimizer.Sgd(learning_rate=0.1)\n",
    "\n",
    "# Notice the use, again of Stochastic Reconfiguration, which considerably improves the optimisation\n",
    "gs = nk.driver.VMC(H, optimizer, variational_state=vstate,preconditioner=nk.optimizer.SR(diag_shift=0.1))\n",
    "\n",
    "log=nk.logging.RuntimeLog()\n",
    "gs.run(n_iter=300,out=log)\n",
    "\n",
    "ffn_energy=vstate.expect(H)\n",
    "error=abs((ffn_energy.mean-eig_vals[0])/eig_vals[0])\n",
    "print(\"Optimized energy and relative error: \",ffn_energy,error)"
   ]
  },
  {
   "cell_type": "markdown",
   "id": "d4cab5e4-888d-45d1-9403-a843a0fee290",
   "metadata": {},
   "source": [
    "And we can compare the results between the two different Ansätze:"
   ]
  },
  {
   "cell_type": "code",
   "execution_count": 75,
   "id": "ef54f818-bc15-46f7-9bc0-51f5a5807bd7",
   "metadata": {},
   "outputs": [
    {
     "data": {
      "text/plain": [
       "Text(0, 0.5, 'Energy')"
      ]
     },
     "execution_count": 75,
     "metadata": {},
     "output_type": "execute_result"
    },
    {
     "data": {
      "image/png": "[encoded data removed]",
      "text/plain": [
       "<Figure size 640x480 with 1 Axes>"
      ]
     },
     "metadata": {},
     "output_type": "display_data"
    }
   ],
   "source": [
    "data_FFN = log.data\n",
    "\n",
    "plt.errorbar(data_jastrow[\"Energy\"].iters, data_jastrow[\"Energy\"].Mean, yerr=data_jastrow[\"Energy\"].Sigma, label=\"Jastrow\")\n",
    "plt.errorbar(data_FFN[\"Energy\"].iters, data_FFN[\"Energy\"].Mean, yerr=data_FFN[\"Energy\"].Sigma, label=\"FFN\")\n",
    "plt.hlines([E_gs], xmin=0, xmax=300, color='black', label=\"Exact\")\n",
    "plt.legend()\n",
    "\n",
    "plt.xlabel('Iterations')\n",
    "plt.ylabel('Energy')"
   ]
  },
  {
   "cell_type": "markdown",
   "id": "1c1b7470-7b3e-42c9-b6ef-0537f83182ca",
   "metadata": {},
   "source": [
    "## 7. Translation Symmetry \n",
    "\n",
    "In order to enforce spatial symmetries we can use some built-in functionalities of NetKet, in conjunction with equivariant layers. \n",
    "\n",
    "The first step is to construct explicitly a graph that contains the edges of our interactions, in this case this is a simple chain with periodic boundaries. NetKet has builtin several symmetry groups that can be used to target specific spatial symmetries. In this case for example after constructing the graph we can also print its translation group. \n"
   ]
  },
  {
   "cell_type": "code",
   "execution_count": 76,
   "id": "2b9e623e-dbf1-45c7-8b12-ef6378ce4ec8",
   "metadata": {},
   "outputs": [
    {
     "name": "stdout",
     "output_type": "stream",
     "text": [
      "PermutationGroup(elems=[Id(), Translation([1]), Translation([2]), Translation([3]), Translation([4]), Translation([5]), Translation([6]), Translation([7]), Translation([8]), Translation([9]), Translation([10]), Translation([11]), Translation([12]), Translation([13]), Translation([14]), Translation([15]), Translation([16]), Translation([17]), Translation([18]), Translation([19])], degree=20)\n"
     ]
    }
   ],
   "source": [
    "graph=nk.graph.Chain(length=N, pbc=True)\n",
    "\n",
    "print(graph.translation_group())"
   ]
  },
  {
   "cell_type": "markdown",
   "id": "8d148943-beb5-4201-bd39-61251b7187dd",
   "metadata": {},
   "source": [
    "Graphs are in general quite handy when defining hamiltonian terms on their edges. For example we can define our Hamiltonian as "
   ]
  },
  {
   "cell_type": "code",
   "execution_count": 77,
   "id": "da3d0920-0a42-48c6-837e-3c8f3de07404",
   "metadata": {},
   "outputs": [],
   "source": [
    "Gamma=-1\n",
    "H = sum([Gamma*sigmax(hi,i) for i in range(N)])\n",
    "\n",
    "V=-1\n",
    "H += sum([V*sigmaz(hi,i)*sigmaz(hi,j) for (i,j) in graph.edges()])"
   ]
  },
  {
   "cell_type": "markdown",
   "id": "27dd6162-7b74-49db-a90c-7e0db0133f91",
   "metadata": {},
   "source": [
    "We now write a model with an invariant transformation given by the translation group. Notice that we will now use NetKet's own ```nn``` module, instead of Flax, since it contains several additions and also an extended and seamless support for complex layers/parameters.  "
   ]
  },
  {
   "cell_type": "code",
   "execution_count": 78,
   "id": "0e8d9c27-9e0e-4ef0-87b3-045b45d10c4f",
   "metadata": {},
   "outputs": [
    {
     "data": {
      "text/plain": [
       "84"
      ]
     },
     "execution_count": 78,
     "metadata": {},
     "output_type": "execute_result"
    }
   ],
   "source": [
    "import flax.linen as nn\n",
    "import netket.nn as nknn\n",
    "\n",
    "class SymmModel(nn.Module):\n",
    "    alpha: int\n",
    "\n",
    "    @nn.compact\n",
    "    def __call__(self, x):\n",
    "        # add an extra dimension with size 1, because DenseSymm requires rank-3 tensors as inputs.\n",
    "        # the shape will now be (batches, 1, Nsites)\n",
    "        x = x.reshape(-1, 1, x.shape[-1])\n",
    "        \n",
    "        x = nknn.DenseSymm(symmetries=graph.translation_group(),\n",
    "                           features=self.alpha,\n",
    "                           kernel_init=nn.initializers.normal(stddev=0.01))(x)\n",
    "        x = nn.relu(x)\n",
    "\n",
    "        # sum the output\n",
    "        return jnp.sum(x,axis=(-1,-2))\n",
    "\n",
    "\n",
    "sampler = nk.sampler.MetropolisLocal(hi)\n",
    "\n",
    "#Let us define a model with 4 features per symmetry\n",
    "model=SymmModel(alpha=4)\n",
    "\n",
    "vstate = nk.vqs.MCState(sampler, model, n_samples=1008)\n",
    "\n",
    "vstate.n_parameters"
   ]
  },
  {
   "cell_type": "markdown",
   "id": "2902517c-8120-4abe-b29c-473b00af7e4c",
   "metadata": {},
   "source": [
    "As it can be seen, the number of parameters of this model is greatly reduced, because of the symmetries that impose constraints on the weights of the dense layers. We can now optimize the model, using a few more optimization steps than before.  "
   ]
  },
  {
   "cell_type": "code",
   "execution_count": 79,
   "id": "18e499e7-249d-4717-89af-733955382c66",
   "metadata": {},
   "outputs": [
    {
     "name": "stderr",
     "output_type": "stream",
     "text": [
      "100%|███████████████████████████████████████████████████| 600/600 [00:27<00:00, 21.53it/s, Energy=-25.4886 ± 0.0014 [σ²=0.0025, R̂=1.0082, τ=0.9<2.1]]\n"
     ]
    },
    {
     "name": "stdout",
     "output_type": "stream",
     "text": [
      "Optimized energy and relative error:  -25.4903 ± 0.0016 [σ²=0.0025, R̂=1.0143, τ=1.0<4.6] 2.7001155950290246e-05\n"
     ]
    }
   ],
   "source": [
    "optimizer = nk.optimizer.Sgd(learning_rate=0.1)\n",
    "\n",
    "gs = nk.driver.VMC(H, optimizer, variational_state=vstate,preconditioner=nk.optimizer.SR(diag_shift=0.1))\n",
    "\n",
    "log=nk.logging.RuntimeLog()\n",
    "gs.run(n_iter=600,out=log)\n",
    "\n",
    "symm_energy=vstate.expect(H)\n",
    "error=abs((symm_energy.mean-eig_vals[0])/eig_vals[0])\n",
    "print(\"Optimized energy and relative error: \",symm_energy,error)"
   ]
  },
  {
   "cell_type": "code",
   "execution_count": 80,
   "id": "f27a7975-c69f-4e4a-b8f8-6d0bfe0b92da",
   "metadata": {},
   "outputs": [
    {
     "data": {
      "text/plain": [
       "<matplotlib.legend.Legend at 0x43518f940>"
      ]
     },
     "execution_count": 80,
     "metadata": {},
     "output_type": "execute_result"
    },
    {
     "data": {
      "image/png": "[encoded data removed]",
      "text/plain": [
       "<Figure size 640x480 with 1 Axes>"
      ]
     },
     "metadata": {},
     "output_type": "display_data"
    }
   ],
   "source": [
    "plt.errorbar(log.data[\"Energy\"].iters[50:],log.data[\"Energy\"].Mean[50:],yerr=log.data[\"Energy\"].Sigma[50:],label=\"SymmModel\")\n",
    "\n",
    "plt.axhline(y=eig_vals[0], xmin=0, xmax=log.data[\"Energy\"].iters[-1], linewidth=2, color=\"k\", label=\"Exact\")\n",
    "plt.xlabel('Iterations')\n",
    "plt.ylabel('Energy')\n",
    "plt.legend(frameon=False)"
   ]
  },
  {
   "cell_type": "markdown",
   "id": "50bf2ac8-6924-4cca-8b8b-37918ca0b317",
   "metadata": {},
   "source": [
    "## 8. Measuring Other Properties\n",
    "\n",
    "Once the model has been optimized, we can of course measure also other observables that are not the energy. For example, we could decide to measure the value of the nearest-neighbor $X-X$ correlator. \n",
    "Notice that since correlators do not enjoy the zero-variance principle as the Hamiltonian instead does, it is important to use a larger number of samples to have a sufficiently low error bar on their measurement. \n"
   ]
  },
  {
   "cell_type": "code",
   "execution_count": 81,
   "id": "fb580245-7d05-4705-8d3c-5ebbd0d8129e",
   "metadata": {},
   "outputs": [],
   "source": [
    "corr = sum([sigmax(hi,i)*sigmax(hi,j) for (i,j) in graph.edges()])"
   ]
  },
  {
   "cell_type": "code",
   "execution_count": 82,
   "id": "e71a22d1-3f6f-4390-8d9a-b761cae7b1ad",
   "metadata": {},
   "outputs": [],
   "source": [
    "vstate.n_samples=400000"
   ]
  },
  {
   "cell_type": "code",
   "execution_count": 83,
   "id": "5eaa382a-62ce-4cbb-973f-47f8a2511e82",
   "metadata": {},
   "outputs": [
    {
     "data": {
      "text/plain": [
       "10.909 ± 0.021 [σ²=31.497, R̂=1.0002, τ=3.8<4.0]"
      ]
     },
     "execution_count": 83,
     "metadata": {},
     "output_type": "execute_result"
    }
   ],
   "source": [
    "vstate.expect(corr)"
   ]
  },
  {
   "cell_type": "markdown",
   "id": "2c904f59-cbd7-47d3-8d56-5f1b8f9faa0f",
   "metadata": {},
   "source": [
    "And we can further compare this to the exact ED result. "
   ]
  },
  {
   "cell_type": "code",
   "execution_count": 84,
   "id": "8ddb1da2-7a80-45d0-ad87-365feacb6989",
   "metadata": {},
   "outputs": [
    {
     "name": "stdout",
     "output_type": "stream",
     "text": [
      "10.852248713127992\n"
     ]
    }
   ],
   "source": [
    "psi = eig_vecs[:, 0]\n",
    "exact_corr=psi@(corr@psi)\n",
    "print(exact_corr)"
   ]
  },
  {
   "cell_type": "code",
   "execution_count": null,
   "id": "da543c13-098a-4800-abe1-778dbbad6a11",
   "metadata": {},
   "outputs": [],
   "source": []
  }
 ],
 "metadata": {
  "kernelspec": {
   "display_name": "Python (Netket development)",
   "language": "python",
   "name": "dev-netket"
  },
  "language_info": {
   "codemirror_mode": {
    "name": "ipython",
    "version": 3
   },
   "file_extension": ".py",
   "mimetype": "text/x-python",
   "name": "python",
   "nbconvert_exporter": "python",
   "pygments_lexer": "ipython3",
   "version": "3.10.9"
  }
 },
 "nbformat": 4,
 "nbformat_minor": 5
}
