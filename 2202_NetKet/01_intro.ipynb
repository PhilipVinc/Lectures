{
 "cells": [
  {
   "cell_type": "markdown",
   "id": "bcc1a161",
   "metadata": {},
   "source": [
    "# Ground-State Variational Search with NetKet\n",
    "\n",
    "## Filippo Vicentini (EPFL-CQSL)\n",
    "\n",
    "### Lemanic Quantum Science School, Geneva\n",
    "\n",
    "17 November, 2021\n",
    "\n",
    "[![Open in Colab](https://colab.research.google.com/assets/colab-badge.svg)](https://colab.research.google.com/github/PhilipVinc/Lectures/blob/master/2202_Netket/01_intro.ipynb)\n"
   ]
  },
  {
   "cell_type": "markdown",
   "id": "ae721781-2989-46c5-a92b-ca528b145e6c",
   "metadata": {},
   "source": [
    "In this Tutorial we will introduce the open-source package [NetKet](https://www.netket.org/), and show some of its functionalities. We will guide you through a relatively simple quantum problem, that however will be a good guide also to address more complex situations. \n",
    "\n",
    "Specifically, we will study the transverse-field Ising model in one dimension: \n",
    "\n",
    "$$ \n",
    "\\mathcal{H}=\\Gamma\\sum_{i}\\sigma_{i}^{(x)}+V\\sum_{i}\\sigma_{i}^{(z)}\\sigma_{i+1}^{(z)}. \n",
    "$$\n",
    "\n",
    "In the following we assume periodic boundary conditions and we will count lattice sites starting from $ 0 $, such that $ i=0,1\\dots L-1 $ and $i=L=0$. "
   ]
  },
  {
   "cell_type": "markdown",
   "id": "39bddf19",
   "metadata": {},
   "source": [
    "## 0. Installing Netket \n",
    "\n",
    "Installing NetKet is relatively straightforward. For this Tutorial, if you are running it locally on your machine, we recommend that you create a clean virtual environment and install NetKet within: \n",
    "\n",
    "```bash\n",
    "python3 -m venv netket\n",
    "source netket/bin/activate\n",
    "pip install --upgrade \"netket>=3.2\"\n",
    "```\n",
    "\n",
    "**If you are on Google Colab**, uncomment the following cell and run it to install the required packages."
   ]
  },
  {
   "cell_type": "code",
   "execution_count": 1,
   "id": "43e97750",
   "metadata": {},
   "outputs": [],
   "source": [
    "#!pip install --upgrade netket"
   ]
  },
  {
   "cell_type": "markdown",
   "id": "f15de72d-9454-4873-a88f-a02ec10459ed",
   "metadata": {},
   "source": [
    "We also want to sure that this notebook is running on the cpu. \n",
    "You can edit the field by changing \"cpu\" to \"gpu\" to make it runa on the GPU if you want. \n",
    "But you'll need to use much larger systems to see a benefit in the runtime.\n",
    "For systems with less than 40 spins GPUs slow you down remarkably."
   ]
  },
  {
   "cell_type": "code",
   "execution_count": 2,
   "id": "f752288d-caf4-4f53-a104-d4b2efe6e0fd",
   "metadata": {},
   "outputs": [],
   "source": [
    "import os\n",
    "os.environ[\"JAX_PLATFORM_NAME\"] = \"cpu\""
   ]
  },
  {
   "cell_type": "markdown",
   "id": "7f424667",
   "metadata": {},
   "source": [
    "You can check that the installation was succesfull doing "
   ]
  },
  {
   "cell_type": "code",
   "execution_count": 3,
   "id": "5a4c83c9",
   "metadata": {},
   "outputs": [],
   "source": [
    "import netket as nk"
   ]
  },
  {
   "cell_type": "markdown",
   "id": "7deb0afe-29e4-40e0-b650-b6480a46a8ae",
   "metadata": {},
   "source": [
    "You should also check that your version of netket is at least 3.1"
   ]
  },
  {
   "cell_type": "code",
   "execution_count": 4,
   "id": "53d59c56-3a27-4f8b-a4fb-a9dde50e9bc5",
   "metadata": {},
   "outputs": [
    {
     "name": "stdout",
     "output_type": "stream",
     "text": [
      "NetKet version: 3.3.dev8+gd1eb9e981f.d20211202\n"
     ]
    }
   ],
   "source": [
    "print(f\"NetKet version: {nk.__version__}\")"
   ]
  },
  {
   "cell_type": "markdown",
   "id": "d8b7effe",
   "metadata": {},
   "source": [
    "## 1. Defining The Hamiltonian\n",
    "\n",
    "The first step in our journey consists in defining the Hamiltonian we are interested in. \n",
    "For this purpose, we first need to define the kind of degrees of freedom we are dealing with (i.e. if we have spins, bosons, fermions etc). This is done specifying the Hilbert space of the problem. For example, let us concentrate on a problem with 20 spins. "
   ]
  },
  {
   "cell_type": "code",
   "execution_count": 5,
   "id": "65e5273d",
   "metadata": {},
   "outputs": [],
   "source": [
    "N = 20\n",
    "\n",
    "hi = nk.hilbert.Spin(s=1 / 2, N=N)"
   ]
  },
  {
   "cell_type": "code",
   "execution_count": 6,
   "id": "4b2bf39c-ae7f-4cb0-b141-093c448138e5",
   "metadata": {},
   "outputs": [
    {
     "data": {
      "text/plain": [
       "DeviceArray([[ 1., -1., -1.,  1., -1.,  1.,  1., -1., -1., -1., -1., -1.,\n",
       "              -1., -1., -1., -1.,  1.,  1., -1., -1.],\n",
       "             [ 1., -1.,  1.,  1., -1.,  1.,  1., -1.,  1., -1., -1., -1.,\n",
       "               1.,  1.,  1.,  1., -1.,  1., -1.,  1.],\n",
       "             [-1.,  1.,  1.,  1.,  1., -1., -1.,  1.,  1.,  1., -1.,  1.,\n",
       "               1.,  1.,  1.,  1., -1.,  1., -1.,  1.]], dtype=float32)"
      ]
     },
     "execution_count": 6,
     "metadata": {},
     "output_type": "execute_result"
    }
   ],
   "source": [
    "import jax\n",
    "hi.random_state(jax.random.PRNGKey(0), 3)"
   ]
  },
  {
   "cell_type": "markdown",
   "id": "fc2e67ac",
   "metadata": {},
   "source": [
    "We now need to specify the Hamiltonian. For this purpose, we will use NetKet's ```LocalOperator``` (see details [here](https://www.netket.org/docs/_generated/operator/netket.operator.LocalOperator.html#netket.operator.LocalOperator)) which is the sum of arbitrary k-local operators. \n",
    "\n",
    "In this specifc case, we have a 1-local operator, $ \\sigma^{(x)}_i $ and a 2-local operator, $ \\sigma^{(z)}_i \\sigma^{(z)}_j $. We then start importing the pauli operators. \n",
    "\n"
   ]
  },
  {
   "cell_type": "code",
   "execution_count": 7,
   "id": "b018e4d4",
   "metadata": {},
   "outputs": [],
   "source": [
    "from netket.operator.spin import sigmax, sigmaz"
   ]
  },
  {
   "cell_type": "markdown",
   "id": "89c35665",
   "metadata": {},
   "source": [
    "We now take $ \\Gamma=-1 $ and start defining the 1-local parts of the Hamiltonian "
   ]
  },
  {
   "cell_type": "code",
   "execution_count": 8,
   "id": "b35bde0c",
   "metadata": {},
   "outputs": [],
   "source": [
    "Gamma = -1\n",
    "H = sum([Gamma*sigmax(hi, i) for i in range(N)])"
   ]
  },
  {
   "cell_type": "markdown",
   "id": "5b41d740",
   "metadata": {},
   "source": [
    "Here we have used a list comprehension to (mildly) show off our ability to write one-liners, however you could have just added the terms one by one in an explicit loop instead (though you'd end up with a whopping 3 lines of code). \n",
    "\n",
    "We now also add the interaction terms, using the fact that NetKet automatically recognizes products of local operators as tensor products. "
   ]
  },
  {
   "cell_type": "code",
   "execution_count": 9,
   "id": "eb378d9c",
   "metadata": {},
   "outputs": [],
   "source": [
    "V = -1\n",
    "H += sum([V*sigmaz(hi, i)*sigmaz(hi, (i+1) % N) for i in range(N)])"
   ]
  },
  {
   "cell_type": "markdown",
   "id": "59025d8c-dede-496f-b2f0-6ad63966be1d",
   "metadata": {},
   "source": [
    "In general, when manipulating NetKet objects, you should always assume that you can safely operate on them like \n",
    "you would in mathematical equations, therefore you can sum and multiply them with ease."
   ]
  },
  {
   "cell_type": "markdown",
   "id": "65581d8b",
   "metadata": {},
   "source": [
    "## 2. Exact Diagonalization\n",
    "\n",
    "Now that we have defined the Hamiltonian, we can already start playing with it. For example, since the number of spins is large but still manageable for exact diagonalization, we can give it a try. \n",
    "\n",
    "In NetKet this is easily done converting our Hamiltonian operator into a sparse matrix of size $ 2^N \\times 2^ N $. "
   ]
  },
  {
   "cell_type": "code",
   "execution_count": 10,
   "id": "d36dd96c",
   "metadata": {},
   "outputs": [
    {
     "data": {
      "text/plain": [
       "(1048576, 1048576)"
      ]
     },
     "execution_count": 10,
     "metadata": {},
     "output_type": "execute_result"
    }
   ],
   "source": [
    "sp_h = H.to_sparse()\n",
    "sp_h.shape"
   ]
  },
  {
   "cell_type": "markdown",
   "id": "e0b786e6",
   "metadata": {},
   "source": [
    "Since this is just a regular scipy sparse matrix, we can just use any sparse diagonalization routine in there to find the eigenstates. For example, this will find the two lowest eigenstates  "
   ]
  },
  {
   "cell_type": "code",
   "execution_count": 11,
   "id": "1123bc8c",
   "metadata": {},
   "outputs": [
    {
     "name": "stdout",
     "output_type": "stream",
     "text": [
      "eigenvalues with scipy sparse: [-25.49098969 -25.41240947]\n"
     ]
    }
   ],
   "source": [
    "from scipy.sparse.linalg import eigsh\n",
    "\n",
    "eig_vals, eig_vecs = eigsh(sp_h, k=2, which=\"SA\")\n",
    "\n",
    "print(\"eigenvalues with scipy sparse:\", eig_vals)\n",
    "\n",
    "E_gs = eig_vals[0]"
   ]
  },
  {
   "cell_type": "markdown",
   "id": "8e51cc79",
   "metadata": {},
   "source": [
    "## 3. Mean-Field Ansatz\n",
    "\n",
    "We now would like to find a variational approximation of the ground state of this Hamiltonian. As a first step, we can try to use a very simple mean field ansatz: \n",
    "\n",
    "$$ \\langle \\sigma^{z}_1,\\dots \\sigma^{z}_N| \\Psi_{\\mathrm{mf}} \\rangle = \\Pi_{i=1}^{N} \\Phi(\\sigma^{z}_i), $$\n",
    "\n",
    "where the variational parameters are the single-spin wave functions, which we can further take to be normalized: \n",
    "\n",
    "$$ |\\Phi(\\uparrow)|^2 + |\\Phi(\\downarrow)|^2 =1, $$\n",
    "\n",
    "and we can further write $ \\Phi(\\sigma^z) = \\sqrt{P(\\sigma^z)}e^{i \\phi(\\sigma^z)}$. In order to simplify the presentation, we take here and in the following examples the phase $ \\phi=0 $. In this specific model this is without loss of generality, since it is known that the ground state is real and positive. \n",
    "\n",
    "For the normalized single-spin probability we will take a sigmoid form: \n",
    "\n",
    "$$ P(\\sigma_z; \\lambda) = 1/(1+\\exp(-\\lambda \\sigma_z)), $$ thus depending on the real-valued variational parameter $\\lambda$. \n",
    "\n",
    "In NetKet one has to define a variational function approximating the **logarithm** of the wave-function amplitudes (or density-matrix values).\n",
    "We call this variational function _the Model_ (yes, caps on the M).\n",
    "\n",
    "$$ \\langle \\sigma^{z}_1,\\dots \\sigma^{z}_N| \\Psi_{\\mathrm{mf}} \\rangle = \\exp\\left[\\mathrm{Model}(\\sigma^{z}_1,\\dots \\sigma^{z}_N ; \\theta ) \\right], $$ where $\\theta$ is a set of parameters. \n",
    "\n",
    "In this case, the parameter of the model will be just one: $\\gamma$.  \n",
    "\n",
    "The Model can be defined using one of the several *functional* jax frameworks such as Jax/Stax, Flax or Haiku. \n",
    "NetKet includes several pre-built models and layers built with [Flax](https://github.com/google/flax), so we will be using it for the rest of the notebook. "
   ]
  },
  {
   "cell_type": "code",
   "execution_count": 12,
   "id": "967e1611",
   "metadata": {},
   "outputs": [],
   "source": [
    "# numerical operations in the model should always use jax.numpy\n",
    "# instead of numpy because jax supports computing derivatives.\n",
    "# If you want to better understand the difference between the two, check\n",
    "# https://flax.readthedocs.io/en/latest/notebooks/jax_for_the_impatient.html\n",
    "import jax.numpy as jnp\n",
    "\n",
    "# Flax is a framework to define models using jax\n",
    "import flax\n",
    "# we refer to `flax.linen` as `nn`. It's a repository of\n",
    "# layers, initializers and nonlinear functions.\n",
    "import flax.linen as nn\n",
    "\n",
    "\n",
    "# A Flax model must be a class subclassing `nn.Module`\n",
    "class MF(nn.Module):\n",
    "\n",
    "    # The most compact way to define the model is this.\n",
    "    # The __call__(self, x) function should take as\n",
    "    # input a batch of states x.shape = (n_samples, L)\n",
    "    # and should return a vector of n_samples log-amplitudes\n",
    "    @nn.compact\n",
    "    def __call__(self, x):\n",
    "\n",
    "        # A tensor of variational parameters is defined by calling\n",
    "        # the method `self.param` where the arguments will be:\n",
    "        # - arbitrary name used to refer to this set of parameters\n",
    "        # - an initializer used to provide the initial values.\n",
    "        # - The shape of the tensor\n",
    "        # - The dtype of the tensor.\n",
    "        lam = self.param(\n",
    "            \"lambda\", nn.initializers.normal(), (1,), float\n",
    "        )\n",
    "\n",
    "        # compute the probabilities\n",
    "        p = nn.log_sigmoid(lam*x)\n",
    "\n",
    "        # sum the output\n",
    "        return 0.5 * jnp.sum(p, axis=-1)"
   ]
  },
  {
   "cell_type": "markdown",
   "id": "c1ccb969-487e-43e6-ac87-50cde68c68e1",
   "metadata": {},
   "source": [
    "The model itself is only a set of instructions on how to initialise the parameters and how to compute the result. \n",
    "\n",
    "To actually create a variational state with its parameters, the easiest way is to construct a Monte-Carlo-sampled Variational State. \n",
    "To do this, we first need to define a sampler.\n",
    "\n",
    "In `netket.sampler` several samplers are defined, each with its own peculiarities. \n",
    "In the following example, we will be using a simple sampler that flips the spins in the configurations one by one.\n",
    "\n",
    "You can read more about how the sampler works by checking the documentation with `?nk.sampler.MetropolisLocal`"
   ]
  },
  {
   "cell_type": "code",
   "execution_count": 13,
   "id": "c2cb0ac3-bc4c-4743-adec-03bb4e2d7c55",
   "metadata": {},
   "outputs": [],
   "source": [
    "# Create an instance of the model.\n",
    "# Notice that this does not create the parameters.\n",
    "mf_model = MF()\n",
    "\n",
    "# Create the local sampler on the hilbert space\n",
    "sampler = nk.sampler.MetropolisLocal(hi)\n",
    "\n",
    "# Construct the variational state using the model and the sampler above.\n",
    "# n_samples specifies how many samples should be used to compute expectation\n",
    "# values.\n",
    "vstate = nk.vqs.MCState(sampler, mf_model, n_samples=512)"
   ]
  },
  {
   "cell_type": "raw",
   "id": "57cfd849-40f7-4d44-b563-4f0a749f0687",
   "metadata": {},
   "source": [
    "You can play around with the variational state: for example, you can compute expectation values yourself or inspect it's parameters"
   ]
  },
  {
   "cell_type": "code",
   "execution_count": 14,
   "id": "578fae25-6b39-41c1-a25e-51de791b7aa3",
   "metadata": {},
   "outputs": [
    {
     "name": "stdout",
     "output_type": "stream",
     "text": [
      "FrozenDict({\n",
      "    lambda: DeviceArray([0.01556348], dtype=float64),\n",
      "})\n"
     ]
    }
   ],
   "source": [
    "# you can inspect the parameters which contain the single\n",
    "# variational parameter `lambda`\n",
    "print(vstate.parameters)"
   ]
  },
  {
   "cell_type": "code",
   "execution_count": 15,
   "id": "0ea20c03-dcfa-4cda-8f2f-b1d86a95872b",
   "metadata": {},
   "outputs": [
    {
     "name": "stdout",
     "output_type": "stream",
     "text": [
      "-19.77 ± 0.19 [σ²=19.40, R̂=0.9995]\n"
     ]
    }
   ],
   "source": [
    "# Expectation value: notice that it also provides an error estimate.\n",
    "E = vstate.expect(H)\n",
    "print(E)"
   ]
  },
  {
   "cell_type": "code",
   "execution_count": 16,
   "id": "df25e787-deb1-4c3c-a6a8-5150948a6f3f",
   "metadata": {},
   "outputs": [
    {
     "name": "stdout",
     "output_type": "stream",
     "text": [
      "Mean                  : -19.774195046540363\n",
      "Error                 : 0.1946632634109754\n",
      "Variance              : 19.40161849436712\n",
      "Convergence indicator : 0.9994552457867388\n",
      "Correlation time      : 1.1102230246251565e-16\n"
     ]
    }
   ],
   "source": [
    "# the energy (expectation value) is a structure with a lot of fields:\n",
    "print(\"Mean                  :\", E.mean)\n",
    "print(\"Error                 :\", E.error_of_mean)\n",
    "print(\"Variance              :\", E.variance)\n",
    "print(\"Convergence indicator :\", E.R_hat)\n",
    "print(\"Correlation time      :\", E.tau_corr)"
   ]
  },
  {
   "cell_type": "code",
   "execution_count": 17,
   "id": "c161f0a6-3f95-4f6e-9dd2-d2a71527efce",
   "metadata": {},
   "outputs": [
    {
     "data": {
      "text/plain": [
       "(-19.77 ± 0.19 [σ²=19.40, R̂=0.9995],\n",
       " FrozenDict({\n",
       "     lambda: DeviceArray([-0.23529235], dtype=float64),\n",
       " }))"
      ]
     },
     "execution_count": 17,
     "metadata": {},
     "output_type": "execute_result"
    }
   ],
   "source": [
    "vstate.expect_and_grad(H)"
   ]
  },
  {
   "cell_type": "markdown",
   "id": "1b5b6302",
   "metadata": {
    "tags": []
   },
   "source": [
    "## 4. Variational Monte Carlo"
   ]
  },
  {
   "cell_type": "markdown",
   "id": "8ab77267-892e-48d2-97e2-eee6c8eae796",
   "metadata": {},
   "source": [
    "We will now try to optimise $ \\lambda $ in order to best approximate the ground state of the hamiltonian.\n",
    "\n",
    "At first, we'll try to do this by ourself by writing the training loop, but then we'll switch to using a pre-made\n",
    "solution provided by netket for simplicity."
   ]
  },
  {
   "cell_type": "markdown",
   "id": "d103e357-f079-4816-8323-d9a606748a04",
   "metadata": {},
   "source": [
    "### 4a. DIY Optimisation loop\n",
    "\n",
    "The optimisation (or training) loop must do a very simple thing: at every iteration it must compute the energy and it's gradient, then multiply the gradient by a certain learning rate $\\lambda = 0.05$ and lastly it must update the parameters with this rescaled gradient.\n",
    "\n",
    "You can do so as follows:"
   ]
  },
  {
   "cell_type": "code",
   "execution_count": 18,
   "id": "ef4b0687-1f78-4c2e-9f17-16c3fac2f064",
   "metadata": {},
   "outputs": [
    {
     "name": "stderr",
     "output_type": "stream",
     "text": [
      "100%|██████████| 100/100 [00:01<00:00, 75.10it/s]\n"
     ]
    }
   ],
   "source": [
    "from tqdm import tqdm\n",
    "\n",
    "energy_history = []\n",
    "n_steps = 100\n",
    "\n",
    "# For every iteration (tqdm is just a progress bar)\n",
    "for i in tqdm(range(n_steps)):\n",
    "    # compute energy and gradient of the energy\n",
    "    E, E_grad = vstate.expect_and_grad(H)\n",
    "    # log the energy to a list\n",
    "    energy_history.append(E.mean.real)\n",
    "    # equivalent to vstate.parameters - 0.05*E_grad , but it performs this\n",
    "    # function on every leaf of the dictionaries containing the set of parameters\n",
    "    new_pars = jax.tree_map(lambda x, y: x-0.05*y, vstate.parameters, E_grad)\n",
    "    # actually update the paramters\n",
    "    vstate.parameters = new_pars"
   ]
  },
  {
   "cell_type": "code",
   "execution_count": 19,
   "id": "747f2a0e-3408-443d-8f9b-13f70db15231",
   "metadata": {},
   "outputs": [
    {
     "data": {
      "text/plain": [
       "[<matplotlib.lines.Line2D at 0x7f85f8164910>]"
      ]
     },
     "execution_count": 19,
     "metadata": {},
     "output_type": "execute_result"
    },
    {
     "data": {
      "image/png": "[encoded data removed]",
      "text/plain": [
       "<Figure size 432x288 with 1 Axes>"
      ]
     },
     "metadata": {
      "needs_background": "light"
     },
     "output_type": "display_data"
    }
   ],
   "source": [
    "# We now can plot the energy during those optimisation steps:\n",
    "import matplotlib.pyplot as plt\n",
    "\n",
    "plt.plot(energy_history)"
   ]
  },
  {
   "cell_type": "markdown",
   "id": "a10ade91-7ad7-4a8c-997d-e4ee9098b2d7",
   "metadata": {},
   "source": [
    "### 4b. Use NetKet's optimisation driver \n",
    "\n",
    "As writing the whole optimisation loop by yourself every time is.. boring, we can make use of a coupled of NetKet's built-in utilities."
   ]
  },
  {
   "cell_type": "code",
   "execution_count": 20,
   "id": "4572b5c5",
   "metadata": {},
   "outputs": [
    {
     "name": "stdout",
     "output_type": "stream",
     "text": [
      "No output specified (out=[apath|nk.logging.JsonLogger(...)]).Running the optimization but not saving the output.\n"
     ]
    },
    {
     "name": "stderr",
     "output_type": "stream",
     "text": [
      "100%|██████████| 300/300 [00:04<00:00, 72.51it/s, Energy=-25.056 ± 0.053 [σ²=1.435, R̂=1.0001]]\n"
     ]
    },
    {
     "name": "stdout",
     "output_type": "stream",
     "text": [
      "Optimized energy and relative error:  -25.018 ± 0.048 [σ²=1.171, R̂=1.0089] 0.018562865344048777\n"
     ]
    }
   ],
   "source": [
    "# First we reset the parameters to run the optimisation again\n",
    "vstate.init_parameters()\n",
    "\n",
    "# Then we create an optimiser from the standard library.\n",
    "# You can also use optax.\n",
    "optimizer = nk.optimizer.Sgd(learning_rate=0.05)\n",
    "\n",
    "# build the optimisation driver\n",
    "gs = nk.driver.VMC(H, optimizer, variational_state=vstate)\n",
    "\n",
    "# run the driver for 300 iterations. This will display a progress bar\n",
    "# by default.\n",
    "gs.run(n_iter=300)\n",
    "\n",
    "mf_energy = vstate.expect(H)\n",
    "error = abs((mf_energy.mean-eig_vals[0])/eig_vals[0])\n",
    "print(\"Optimized energy and relative error: \", mf_energy, error)"
   ]
  },
  {
   "cell_type": "code",
   "execution_count": 21,
   "id": "4f4b1a2d-fcbf-4248-ae18-d0f527ac67e5",
   "metadata": {},
   "outputs": [
    {
     "name": "stdout",
     "output_type": "stream",
     "text": [
      "Final optimized parameter:  [2.63226906]\n"
     ]
    }
   ],
   "source": [
    "# we can also inspect the parameter:\n",
    "print(\"Final optimized parameter: \", vstate.parameters[\"lambda\"])"
   ]
  },
  {
   "cell_type": "code",
   "execution_count": 22,
   "id": "5bb5976b-da47-45af-88e8-690afb3980b1",
   "metadata": {},
   "outputs": [
    {
     "data": {
      "text/plain": [
       "-25.49098968636478"
      ]
     },
     "execution_count": 22,
     "metadata": {},
     "output_type": "execute_result"
    }
   ],
   "source": [
    "eig_vals[0]"
   ]
  },
  {
   "cell_type": "markdown",
   "id": "d9f0e656",
   "metadata": {},
   "source": [
    "## 5. Jastrow Ansatz\n",
    "\n",
    "We have seen that the mean field ansatz yields about 2% error on the ground-state energy. Let's now try to do better, using a more correlated ansatz. \n",
    "\n",
    "We will now take a short-range Jastrow ansatz, entangling nearest and next-to nearest neighbors, of the form \n",
    "\n",
    "$$ \\langle \\sigma^{z}_1,\\dots \\sigma^{z}_N| \\Psi_{\\mathrm{jas}} \\rangle = \\exp \\left( \\sum_i J_1 \\sigma^{z}_i\\sigma^{z}_{i+1} + J_2 \\sigma^{z}_i\\sigma^{z}_{i+2} \\right),$$\n",
    "\n",
    "where the parameters $J_1$ and $J_2$ are to be learned. \n",
    "\n",
    "Again we can write the model using flax. "
   ]
  },
  {
   "cell_type": "code",
   "execution_count": 23,
   "id": "4b390e0a",
   "metadata": {},
   "outputs": [],
   "source": [
    "class JasShort(nn.Module):\n",
    "    @nn.compact\n",
    "    def __call__(self, x):\n",
    "\n",
    "        # Define the two variational parameters J1 and J2\n",
    "        j1 = self.param(\n",
    "            \"j1\", nn.initializers.normal(), (1,), float\n",
    "        )\n",
    "        j2 = self.param(\n",
    "            \"j2\", nn.initializers.normal(), (1,), float\n",
    "        )\n",
    "\n",
    "        # compute the nearest-neighbor correlations\n",
    "        corr1 = x*jnp.roll(x, -1, axis=-1)\n",
    "        corr2 = x*jnp.roll(x, -2, axis=-1)\n",
    "\n",
    "        # sum the output\n",
    "        return jnp.sum(j1*corr1+j2*corr2, axis=-1)\n",
    "\n",
    "\n",
    "model = JasShort()\n",
    "\n",
    "vstate = nk.vqs.MCState(sampler, model, n_samples=1008)"
   ]
  },
  {
   "cell_type": "markdown",
   "id": "1616acc8",
   "metadata": {},
   "source": [
    "We then optimize it, however this time we also introduce a stochastic reconfiguration (natural gradient) preconditioner. Also, we now log the intermediate results of the optimization, so that we can visualize them at a later stage. "
   ]
  },
  {
   "cell_type": "code",
   "execution_count": 24,
   "id": "11db148b",
   "metadata": {},
   "outputs": [
    {
     "name": "stderr",
     "output_type": "stream",
     "text": [
      "100%|██████████| 300/300 [00:04<00:00, 70.02it/s, Energy=-25.298 ± 0.019 [σ²=0.374, R̂=1.0126]]\n"
     ]
    },
    {
     "name": "stdout",
     "output_type": "stream",
     "text": [
      "Final optimized parameters: j1=[0.23400646], j2=[0.08184639]\n",
      "Optimized energy : -25.337 ± 0.020 [σ²=0.418, R̂=1.0026]\n",
      "relative error   : 0.006027448868855777\n"
     ]
    }
   ],
   "source": [
    "optimizer = nk.optimizer.Sgd(learning_rate=0.05)\n",
    "\n",
    "gs = nk.driver.VMC(H, optimizer, variational_state=vstate, preconditioner=nk.optimizer.SR(diag_shift=0.1))\n",
    "\n",
    "# Loggers that work together with optimisation drivers are defined in nk.logging.\n",
    "# RuntimeLog keeps the metrics in memory, JsonLog stores them to a json file which can be read\n",
    "# as a dict, TensorBoardLog can be used to log to TensorBoard.\n",
    "log = nk.logging.RuntimeLog()\n",
    "\n",
    "# One or more logger objects must be passed to the keyword argument `out`.\n",
    "gs.run(n_iter=300, out=log)\n",
    "\n",
    "print(f\"Final optimized parameters: j1={vstate.parameters['j1']}, j2={vstate.parameters['j2']}\")\n",
    "\n",
    "jas_energy = vstate.expect(H)\n",
    "error = abs((jas_energy.mean-eig_vals[0])/eig_vals[0])\n",
    "print(f\"Optimized energy : {jas_energy}\")\n",
    "print(f\"relative error   : {error}\")"
   ]
  },
  {
   "cell_type": "markdown",
   "id": "e9b18a6a",
   "metadata": {},
   "source": [
    "You can now see that this ansatz is almost one order of magnitude more accurate than the mean field! \n",
    "\n",
    "In order to visualize what happened during the optimization, we can use the data that has been stored by the logger. There are several available loggers in NetKet, here we have just used a simple one that stores the intermediate results as values in a dictionary. "
   ]
  },
  {
   "cell_type": "code",
   "execution_count": 25,
   "id": "4b34166d-92eb-4ad8-a43f-cffc3bb717be",
   "metadata": {},
   "outputs": [
    {
     "name": "stdout",
     "output_type": "stream",
     "text": [
      "{'Energy': History(\n",
      "   keys  = ['Mean', 'Variance', 'Sigma', 'R_hat', 'TauCorr'], \n",
      "   iters = [0, 1, ... 298, 299] (300 steps),\n",
      ")}\n"
     ]
    }
   ],
   "source": [
    "data_jastrow = log.data\n",
    "print(data_jastrow)"
   ]
  },
  {
   "cell_type": "markdown",
   "id": "00670bd1",
   "metadata": {},
   "source": [
    "These report several intermediate quantities, that can be easily plotted. For example we can plot the value of the energy (with its error bar) at each optimization step.  "
   ]
  },
  {
   "cell_type": "code",
   "execution_count": 26,
   "id": "6d5c22fb",
   "metadata": {
    "scrolled": true
   },
   "outputs": [
    {
     "data": {
      "text/plain": [
       "Text(0, 0.5, 'Energy')"
      ]
     },
     "execution_count": 26,
     "metadata": {},
     "output_type": "execute_result"
    },
    {
     "data": {
      "image/png": "[encoded data removed]",
      "text/plain": [
       "<Figure size 432x288 with 1 Axes>"
      ]
     },
     "metadata": {
      "needs_background": "light"
     },
     "output_type": "display_data"
    }
   ],
   "source": [
    "from matplotlib import pyplot as plt\n",
    "\n",
    "plt.errorbar(data_jastrow[\"Energy\"].iters, data_jastrow[\"Energy\"].Mean, yerr=data_jastrow[\"Energy\"].Sigma)\n",
    "plt.xlabel('Iterations')\n",
    "plt.ylabel('Energy')"
   ]
  },
  {
   "cell_type": "markdown",
   "id": "d216a4d6",
   "metadata": {},
   "source": [
    "## 6. Neural-Network Quantum State \n",
    "\n",
    "We now want to use a more sofisticated ansatz, based on a neural network representation of the wave function. At this point, this is quite straightforward, since we can again take advantage of automatic differentiation. \n",
    "\n",
    "Let us define a simple fully-connected feed-forward network with a ReLu activation function and a sum layer. "
   ]
  },
  {
   "cell_type": "code",
   "execution_count": 27,
   "id": "2b5c30e7",
   "metadata": {},
   "outputs": [],
   "source": [
    "class FFN(nn.Module):\n",
    "\n",
    "    # You can define attributes at the module-level\n",
    "    # with a default. This allows you to easily change\n",
    "    # some hyper-parameter without redefining the whole\n",
    "    # flax module.\n",
    "    alpha: int = 1\n",
    "\n",
    "    @nn.compact\n",
    "    def __call__(self, x):\n",
    "\n",
    "        # here we construct the first dense layer using a\n",
    "        # pre-built implementation in flax.\n",
    "        # features is the number of output nodes\n",
    "        # WARNING: Won't work with complex hamiltonians because\n",
    "        # of a bug in flax. Use nk.nn.Dense otherwise.\n",
    "        dense = nn.Dense(features=self.alpha * x.shape[-1])\n",
    "\n",
    "        # we apply the dense layer to the input\n",
    "        y = dense(x)\n",
    "\n",
    "        # the non-linearity is a simple ReLu\n",
    "        y = nn.relu(y)\n",
    "\n",
    "        # sum the output\n",
    "        return jnp.sum(y, axis=-1)\n",
    "\n",
    "\n",
    "model = FFN(alpha=1)\n",
    "\n",
    "vstate = nk.vqs.MCState(sampler, model, n_samples=1008)"
   ]
  },
  {
   "cell_type": "markdown",
   "id": "76a17a81-31cd-44c7-8e5a-d7d8743df8c7",
   "metadata": {},
   "source": [
    "*Warning*: Flax has a bug with its layers, where they drop the imaginary part\n",
    "of complex numbers if the layer has real weights.\n",
    "This is not a problem in the above example, but if you try to work on more complex\n",
    "problems where you work with complex numbers you should rather use the equivalent \n",
    "`nk.nn.Dense` which contains a fix for this bug."
   ]
  },
  {
   "cell_type": "markdown",
   "id": "f29016f4",
   "metadata": {},
   "source": [
    "We then proceed to the optimization as before. "
   ]
  },
  {
   "cell_type": "code",
   "execution_count": 28,
   "id": "279c052e",
   "metadata": {},
   "outputs": [
    {
     "name": "stderr",
     "output_type": "stream",
     "text": [
      "100%|██████████| 300/300 [00:05<00:00, 55.24it/s, Energy=-25.434 ± 0.012 [σ²=0.140, R̂=0.9989]]\n"
     ]
    },
    {
     "name": "stdout",
     "output_type": "stream",
     "text": [
      "Optimized energy and relative error:  -25.420 ± 0.012 [σ²=0.145, R̂=0.9973] 0.0027729382276211805\n"
     ]
    }
   ],
   "source": [
    "optimizer = nk.optimizer.Sgd(learning_rate=0.1)\n",
    "\n",
    "# Notice the use, again of Stochastic Reconfiguration, which considerably improves the optimisation\n",
    "gs = nk.driver.VMC(H, optimizer, variational_state=vstate, preconditioner=nk.optimizer.SR(diag_shift=0.1))\n",
    "\n",
    "log = nk.logging.RuntimeLog()\n",
    "gs.run(n_iter=300, out=log)\n",
    "\n",
    "ffn_energy = vstate.expect(H)\n",
    "error = abs((ffn_energy.mean-eig_vals[0])/eig_vals[0])\n",
    "print(\"Optimized energy and relative error: \", ffn_energy, error)"
   ]
  },
  {
   "cell_type": "markdown",
   "id": "26014bdc-f72b-466f-b7d7-761a7499ce25",
   "metadata": {},
   "source": [
    "And we can compare the results between the two different ansatze:"
   ]
  },
  {
   "cell_type": "code",
   "execution_count": 29,
   "id": "10580934-c128-47ef-beb4-315420d63b9a",
   "metadata": {},
   "outputs": [
    {
     "data": {
      "text/plain": [
       "Text(0, 0.5, 'Energy')"
      ]
     },
     "execution_count": 29,
     "metadata": {},
     "output_type": "execute_result"
    },
    {
     "data": {
      "image/png": "[encoded data removed]",
      "text/plain": [
       "<Figure size 432x288 with 1 Axes>"
      ]
     },
     "metadata": {
      "needs_background": "light"
     },
     "output_type": "display_data"
    }
   ],
   "source": [
    "data_FFN = log.data\n",
    "\n",
    "plt.errorbar(data_jastrow[\"Energy\"].iters, data_jastrow[\"Energy\"].Mean, yerr=data_jastrow[\"Energy\"].Sigma, label=\"Jastrow\")\n",
    "plt.errorbar(data_FFN[\"Energy\"].iters, data_FFN[\"Energy\"].Mean, yerr=data_FFN[\"Energy\"].Sigma, label=\"FFN\")\n",
    "plt.hlines([E_gs], xmin=0, xmax=300, color='black', label=\"Exact\")\n",
    "plt.legend()\n",
    "\n",
    "plt.xlabel('Iterations')\n",
    "plt.ylabel('Energy')"
   ]
  },
  {
   "cell_type": "markdown",
   "id": "5ff286a6",
   "metadata": {},
   "source": [
    "## 7. Translation Symmetry \n",
    "\n",
    "In order to enforce spatial symmetries we can use some built-in functionalities of NetKet, in conjunction with equivariant layers. \n",
    "\n",
    "The first step is to construct explicitly a graph that contains the edges of our interactions, in this case this is a simple chain with periodic boundaries. NetKet has builtin several symmetry groups that can be used to target specific spatial symmetries. In this case for example after constructing the graph we can also print its translation group. \n"
   ]
  },
  {
   "cell_type": "code",
   "execution_count": 30,
   "id": "72f147d6",
   "metadata": {},
   "outputs": [
    {
     "name": "stdout",
     "output_type": "stream",
     "text": [
      "PermutationGroup(elems=[Id(), Translation([1]), Translation([2]), Translation([3]), Translation([4]), Translation([5]), Translation([6]), Translation([7]), Translation([8]), Translation([9]), Translation([10]), Translation([11]), Translation([12]), Translation([13]), Translation([14]), Translation([15]), Translation([16]), Translation([17]), Translation([18]), Translation([19])], degree=20)\n"
     ]
    }
   ],
   "source": [
    "graph = nk.graph.Chain(length=N, pbc=True)\n",
    "\n",
    "print(graph.translation_group())"
   ]
  },
  {
   "cell_type": "markdown",
   "id": "64cabe68",
   "metadata": {},
   "source": [
    "Graphs are in general quite handy when defining hamiltonian terms on their edges. For example we can define our Hamiltonian as "
   ]
  },
  {
   "cell_type": "code",
   "execution_count": 31,
   "id": "ae71872a",
   "metadata": {},
   "outputs": [],
   "source": [
    "Gamma = -1\n",
    "H = sum([Gamma*sigmax(hi, i) for i in range(N)])\n",
    "\n",
    "V = -1\n",
    "H += sum([V*sigmaz(hi, i)*sigmaz(hi, j) for (i, j) in graph.edges()])"
   ]
  },
  {
   "cell_type": "markdown",
   "id": "e0196f9f",
   "metadata": {},
   "source": [
    "We now write a model with an invariant transformation given by the translation group. Notice that we will now use NetKet's own ```nn``` module, instead of Flax, since it contains several additions and also an extended and seamless support for complex layers/parameters.  "
   ]
  },
  {
   "cell_type": "code",
   "execution_count": 32,
   "id": "a0f65b95",
   "metadata": {},
   "outputs": [
    {
     "data": {
      "text/plain": [
       "84"
      ]
     },
     "execution_count": 32,
     "metadata": {},
     "output_type": "execute_result"
    }
   ],
   "source": [
    "import netket.nn as nknn\n",
    "\n",
    "\n",
    "class SymmModel(nn.Module):\n",
    "    alpha: int\n",
    "\n",
    "    @nn.compact\n",
    "    def __call__(self, x):\n",
    "\n",
    "        x = nknn.DenseSymm(symmetries=graph.translation_group(),\n",
    "                           features=self.alpha,\n",
    "                           kernel_init=nn.initializers.normal(stddev=0.01))(x)\n",
    "        x = nn.relu(x)\n",
    "\n",
    "        # sum the output\n",
    "        return jnp.sum(x, axis=(-1, -2))\n",
    "\n",
    "\n",
    "sampler = nk.sampler.MetropolisLocal(hi)\n",
    "\n",
    "# Let us define a model with 4 features per symmetry\n",
    "model = SymmModel(alpha=4)\n",
    "\n",
    "vstate = nk.vqs.MCState(sampler, model, n_samples=1008)\n",
    "\n",
    "vstate.n_parameters"
   ]
  },
  {
   "cell_type": "markdown",
   "id": "7e0ca35d",
   "metadata": {},
   "source": [
    "As it can be seen, the number of parameters of this model is greatly reduced, because of the symmetries that impose constraints on the weights of the dense layers. We can now optimize the model, using a few more optimization steps than before.  "
   ]
  },
  {
   "cell_type": "code",
   "execution_count": 33,
   "id": "16a45cf8",
   "metadata": {},
   "outputs": [
    {
     "name": "stderr",
     "output_type": "stream",
     "text": [
      "100%|██████████| 600/600 [00:31<00:00, 19.19it/s, Energy=-25.4934 ± 0.0014 [σ²=0.0020, R̂=1.0011]]\n"
     ]
    },
    {
     "name": "stdout",
     "output_type": "stream",
     "text": [
      "Optimized energy and relative error:  -25.4906 ± 0.0016 [σ²=0.0027, R̂=1.0003] 1.5732015642812893e-05\n"
     ]
    }
   ],
   "source": [
    "optimizer = nk.optimizer.Sgd(learning_rate=0.1)\n",
    "\n",
    "gs = nk.driver.VMC(H, optimizer, variational_state=vstate, preconditioner=nk.optimizer.SR(diag_shift=0.1))\n",
    "\n",
    "log = nk.logging.RuntimeLog()\n",
    "gs.run(n_iter=600, out=log)\n",
    "\n",
    "symm_energy = vstate.expect(H)\n",
    "error = abs((symm_energy.mean-eig_vals[0])/eig_vals[0])\n",
    "print(\"Optimized energy and relative error: \", symm_energy, error)"
   ]
  },
  {
   "cell_type": "code",
   "execution_count": 34,
   "id": "0e2ed895",
   "metadata": {},
   "outputs": [
    {
     "data": {
      "text/plain": [
       "<matplotlib.legend.Legend at 0x7f85b8188c70>"
      ]
     },
     "execution_count": 34,
     "metadata": {},
     "output_type": "execute_result"
    },
    {
     "data": {
      "image/png": "[encoded data removed]",
      "text/plain": [
       "<Figure size 432x288 with 1 Axes>"
      ]
     },
     "metadata": {
      "needs_background": "light"
     },
     "output_type": "display_data"
    }
   ],
   "source": [
    "plt.errorbar(log.data[\"Energy\"].iters[50:], log.data[\"Energy\"].Mean[50:], yerr=log.data[\"Energy\"].Sigma[50:], label=\"SymmModel\")\n",
    "\n",
    "plt.axhline(y=eig_vals[0], xmin=0, xmax=log.data[\"Energy\"].iters[-1], linewidth=2, color=\"k\", label=\"Exact\")\n",
    "plt.xlabel('Iterations')\n",
    "plt.ylabel('Energy')\n",
    "plt.legend(frameon=False)"
   ]
  },
  {
   "cell_type": "markdown",
   "id": "68f501c7",
   "metadata": {},
   "source": [
    "## 8. Measuring Other Properties\n",
    "\n",
    "Once the model has been optimized, we can of course measure also other observables that are not the energy. For example, we could decide to measure the value of the nearest-neighbor $X-X$ correlator. \n",
    "Notice that since correlators do not enjoy the zero-variance principle as the Hamiltonian instead does, it is important to use a larger number of samples to have a sufficiently low error bar on their measurement. \n"
   ]
  },
  {
   "cell_type": "code",
   "execution_count": 35,
   "id": "6cf7a569",
   "metadata": {},
   "outputs": [],
   "source": [
    "corr = sum([sigmax(hi, i)*sigmax(hi, j) for (i, j) in graph.edges()])"
   ]
  },
  {
   "cell_type": "code",
   "execution_count": 36,
   "id": "10fb783e",
   "metadata": {},
   "outputs": [],
   "source": [
    "vstate.n_samples=400000"
   ]
  },
  {
   "cell_type": "code",
   "execution_count": 37,
   "id": "e3b3b4ab",
   "metadata": {},
   "outputs": [
    {
     "data": {
      "text/plain": [
       "10.851 ± 0.017 [σ²=31.585, R̂=1.0000]"
      ]
     },
     "execution_count": 37,
     "metadata": {},
     "output_type": "execute_result"
    }
   ],
   "source": [
    "vstate.expect(corr)"
   ]
  },
  {
   "cell_type": "markdown",
   "id": "1daae42d",
   "metadata": {},
   "source": [
    "And we can further compare this to the exact ED result. "
   ]
  },
  {
   "cell_type": "code",
   "execution_count": 38,
   "id": "c89a3597",
   "metadata": {},
   "outputs": [
    {
     "name": "stdout",
     "output_type": "stream",
     "text": [
      "10.852248713127903\n"
     ]
    }
   ],
   "source": [
    "psi = eig_vecs[:, 0]\n",
    "exact_corr = psi@(corr.to_sparse()@psi)\n",
    "print(exact_corr)"
   ]
  },
  {
   "cell_type": "markdown",
   "id": "5a02b475-eff7-49f3-8406-8913d62194f7",
   "metadata": {},
   "source": [
    "# Extra: Assignment"
   ]
  }
 ],
 "metadata": {
  "kernelspec": {
   "display_name": "Python (Netket development)",
   "language": "python",
   "name": "dev-netket"
  },
  "language_info": {
   "codemirror_mode": {
    "name": "ipython",
    "version": 3
   },
   "file_extension": ".py",
   "mimetype": "text/x-python",
   "name": "python",
   "nbconvert_exporter": "python",
   "pygments_lexer": "ipython3",
   "version": "3.9.12"
  }
 },
 "nbformat": 4,
 "nbformat_minor": 5
}