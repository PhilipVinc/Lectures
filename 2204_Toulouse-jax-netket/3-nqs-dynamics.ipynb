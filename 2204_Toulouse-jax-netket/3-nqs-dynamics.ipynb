{
 "cells": [
  {
   "cell_type": "markdown",
   "id": "2cb283d3-2996-4cae-9253-22df9292c723",
   "metadata": {
    "id": "2cb283d3-2996-4cae-9253-22df9292c723"
   },
   "source": [
    "# Toulouse School on Machine Learning in Quantum Many-Body Physics\n",
    "\n",
    "## Tutorial: Dynamics with neural quantum states\n",
    "\n",
    "Damian Hofmann\n",
    "\n",
    "[![Open in Colab](https://colab.research.google.com/assets/colab-badge.svg)](https://colab.research.google.com/github/PhilipVinc/Lectures/blob/main/2204_Toulouse-jax-netket/3-nqs-dynamics.ipynb) \n",
    "\n",
    "In this short tutorial session, we will follow up on the previous sessions and lectures on neural quantum states and demonstrate how to compute quantum dynamics using time-dependent variational Monte Carlo in NetKet."
   ]
  },
  {
   "cell_type": "markdown",
   "id": "176b97f1-2c29-4690-a238-6afc5bb40191",
   "metadata": {
    "id": "176b97f1-2c29-4690-a238-6afc5bb40191",
    "tags": []
   },
   "source": [
    "## 0. Setup\n",
    "\n",
    "To run this notebook, please install the following packages:\n",
    "```\n",
    "jax==0.3.4\n",
    "jaxlib==0.3.2\n",
    "numpy==1.21.5\n",
    "netket==3.4.0\n",
    "matplotlib==3.5.1\n",
    "```\n",
    " \n",
    "You can run this notebook in Google Colab during the class using the link above.\n",
    "\n",
    "To install the packages in Colab you need to run the cell below. (If you are running in your own environment, you do not need to run that cell.)"
   ]
  },
  {
   "cell_type": "code",
   "execution_count": null,
   "id": "9d8ac809-9148-4316-afb2-4bd884ae3f16",
   "metadata": {
    "id": "9d8ac809-9148-4316-afb2-4bd884ae3f16",
    "tags": []
   },
   "outputs": [],
   "source": [
    "!pip install jax==0.3.4 jaxlib==0.3.2 numpy==1.21.5 netket==3.4.0 matplotlib==3.5.1"
   ]
  },
  {
   "cell_type": "markdown",
   "id": "7214ffe3-e1bc-4ff9-8bc6-2d0b67b37ef6",
   "metadata": {
    "id": "7214ffe3-e1bc-4ff9-8bc6-2d0b67b37ef6"
   },
   "source": [
    "## 1. System\n",
    "\n",
    "As in the previous tutorial, we take the transverse-field Ising model as an example:\n",
    "$$\n",
    "    \\hat H = \\sum_{ij} \\hat\\sigma^z_i\\hat\\sigma^z_j - h \\sum_i \\sigma^x_i.\n",
    "$$"
   ]
  },
  {
   "cell_type": "code",
   "execution_count": null,
   "id": "288bdeb8-305f-4181-8fad-d7d944845be4",
   "metadata": {
    "colab": {
     "base_uri": "https://localhost:8080/"
    },
    "id": "288bdeb8-305f-4181-8fad-d7d944845be4",
    "outputId": "5deff0b3-c937-4714-f8e3-45a25bab9928"
   },
   "outputs": [],
   "source": [
    "# import some modules\n",
    "import netket as nk\n",
    "import flax.linen as nn\n",
    "\n",
    "import jax\n",
    "import jax.numpy as jnp\n",
    "import numpy as np\n",
    "\n",
    "import matplotlib.pyplot as plt\n",
    "from tqdm import tqdm\n",
    "\n",
    "from functools import partial\n",
    "\n",
    "rng = nk.jax.PRNGSeq(123)"
   ]
  },
  {
   "cell_type": "markdown",
   "id": "d4a746f0-c15f-4f87-b5de-e9ffff6a5542",
   "metadata": {
    "id": "d05cc62a-6cc4-43f9-b9d5-b7dbb65a5c8f"
   },
   "source": [
    "First, let's setup the model and a simple variational ansatz. For demonstration purposes, let's use a very small spin system with an Ising Hamiltonian:"
   ]
  },
  {
   "cell_type": "code",
   "execution_count": null,
   "id": "5ec4b666-ba2f-485e-9312-d236f7636ea4",
   "metadata": {},
   "outputs": [],
   "source": [
    "L = 8\n",
    "hilbert = nk.hilbert.Spin(1/2, N=L)"
   ]
  },
  {
   "cell_type": "code",
   "execution_count": null,
   "id": "a693d896-22e2-4b0b-8fab-6fb297e455d7",
   "metadata": {},
   "outputs": [],
   "source": [
    "print(hilbert)"
   ]
  },
  {
   "cell_type": "code",
   "execution_count": null,
   "id": "15471ff0-c997-4c6c-89f1-bcbba91fc85a",
   "metadata": {},
   "outputs": [],
   "source": [
    "lat = nk.graph.Chain(length=L, pbc=True)\n",
    "lat.draw()"
   ]
  },
  {
   "cell_type": "markdown",
   "id": "29842de5-7524-4dc8-9773-7a8856c53abf",
   "metadata": {},
   "source": [
    "Define two Ising Hamiltonians (to perform quenches later) as well as an observable, the magnetization along x."
   ]
  },
  {
   "cell_type": "code",
   "execution_count": null,
   "id": "7d63f23f-fcee-4bfd-8647-92aff8099e18",
   "metadata": {},
   "outputs": [],
   "source": [
    "ham = nk.operator.Ising(hilbert, lat, h=1.0)\n",
    "ham"
   ]
  },
  {
   "cell_type": "code",
   "execution_count": null,
   "id": "8c76e339-3b83-49c4-a342-8fa1822840cb",
   "metadata": {},
   "outputs": [],
   "source": [
    "ham1 = nk.operator.Ising(hilbert, lat, h=0.5)\n",
    "ham1"
   ]
  },
  {
   "cell_type": "code",
   "execution_count": null,
   "id": "06a2d86f-2f68-4b1b-925e-a7c01f333c00",
   "metadata": {},
   "outputs": [],
   "source": [
    "mag_x = sum(nk.operator.spin.sigmax(hilbert, i) for i in range(lat.n_nodes))\n",
    "mag_x"
   ]
  },
  {
   "cell_type": "markdown",
   "id": "9c0419f2-d674-4e83-af77-2b3f31e8a25e",
   "metadata": {},
   "source": [
    "We use the Jastrow ansatz from yesterday as a first example:\n",
    "$$ \\langle \\sigma^{z}_1,\\dots \\sigma^{z}_N| \\Psi_{\\mathrm{jas}} \\rangle = \\cdot \\exp \\left( \\sum_i J_1 \\sigma^{z}_i\\sigma^{z}_{i+1} + J_2 \\sigma^{z}_i\\sigma^{z}_{i+2} \\right).$$"
   ]
  },
  {
   "cell_type": "code",
   "execution_count": null,
   "id": "1324202c-2cf2-4c3f-ac88-75ac5c2bf38a",
   "metadata": {},
   "outputs": [],
   "source": [
    "class JasShort(nn.Module):\n",
    "    @nn.compact\n",
    "    def __call__(self, x):\n",
    "        \n",
    "        # Define the two variational parameters J1 and J2\n",
    "        j1 = self.param(\n",
    "            \"j1\", nn.initializers.normal(), (1,), complex\n",
    "        )\n",
    "        j2 =self.param(\n",
    "            \"j2\", nn.initializers.normal(), (1,), complex\n",
    "        )\n",
    "\n",
    "        # compute the nearest-neighbor correlations\n",
    "        corr1=x*jnp.roll(x,-1,axis=-1)\n",
    "        corr2=x*jnp.roll(x,-2,axis=-1)\n",
    "\n",
    "        # sum the output\n",
    "        return jnp.sum(j1*corr1+j2*corr2,axis=-1)"
   ]
  },
  {
   "cell_type": "code",
   "execution_count": null,
   "id": "43fa68cf-cd54-496f-88d2-b85e841c9509",
   "metadata": {},
   "outputs": [],
   "source": [
    "# Create MC state from ansatz\n",
    "sampler = nk.sampler.MetropolisLocal(hilbert, n_chains=32)\n",
    "ansatz = JasShort()\n",
    "vstate = nk.vqs.MCState(sampler, ansatz,\n",
    "                        n_samples=16000,\n",
    "                        sampler_seed=rng.next(), seed=rng.next())"
   ]
  },
  {
   "cell_type": "markdown",
   "id": "7b13237e-6bd4-4bbf-bafe-ad8f1370e397",
   "metadata": {},
   "source": [
    "## 2. Time dependent variational Monte Carlo"
   ]
  },
  {
   "cell_type": "markdown",
   "id": "3a230131-2f65-4518-9d42-df38cda9d678",
   "metadata": {},
   "source": [
    "You have heard in the lecture this morning how to do time evolution on a variational ansatz.\n",
    "Otherwise, helpful references for the derivation of the TDVP equations of motion are, e.g, Yuan et al. (Quantum 3, 191, 2019), and Stokes et al. (arXiv:2203.14824).\n",
    "\n",
    "We assume to have complex parameters $\\theta$ with holomorphic mapping $\\theta \\mapsto \\psi_\\theta.$\n",
    "In order to evolve the variational ansatz $$(\\theta, s) \\mapsto \\psi_\\theta(s)$$, we can locally optimize the fidelity\n",
    "$$\n",
    "    \\max_{\\delta\\theta} |\\langle \\mathrm{e}^{-\\gamma \\hat H \\delta t} \\psi_{\\theta} | \\psi_{\\theta + \\delta\\theta} \\rangle|^2.\n",
    "$$\n",
    "Taylor expanding this condition to second order in $\\delta\\theta$ and $\\delta t$ yields after some steps the equation of motion\n",
    "$$\n",
    "G(\\theta) \\, \\dot\\theta = -\\gamma F(\\theta, t)\n",
    "$$\n",
    "with the quantum geometric tensor\n",
    "$$\n",
    "    G_{ij}(\\theta) = \\frac{\n",
    "       \\langle\\partial_i\\psi_\\theta | \\partial_j\\psi_\\theta\\rangle\n",
    "    }{\n",
    "       \\langle \\psi_\\theta | \\psi_\\theta \\rangle\n",
    "    } - \\frac{\n",
    "       \\langle\\partial_i\\psi_\\theta | \\psi_\\theta \\rangle\\langle \\psi_\\theta | \\partial_j\\psi_\\theta\\rangle\n",
    "    }{\n",
    "       \\langle \\psi_\\theta | \\psi_\\theta \\rangle^2\n",
    "    }\n",
    "$$and gradient $$ F_i(\\theta, t) = \\frac{\\partial\\langle \\hat H \\rangle}{\\partial\\theta_i^*}$$\n",
    "$\\gamma = 1$ results in imaginary time evolution, $\\gamma = \\mathrm i$ gives real time evolution instead."
   ]
  },
  {
   "cell_type": "markdown",
   "id": "c0d1c058-ce73-4ef3-b1ae-9935739fb633",
   "metadata": {},
   "source": [
    "$G$ and $F$ can be estimated using Monte Carlo sampling: Given $s \\sim |\\psi_\\theta(s)|^2$, we can estimate those quantities by\n",
    "$$\n",
    "    G_{ij} = \\operatorname{cov}(o_i, o_j)\n",
    "    \\qquad\n",
    "    F_i = \\operatorname{cov}(o_i, h)\n",
    "$$\n",
    "whith the local energy\n",
    "$$\n",
    "h(s) = \\frac{\\langle s | \\hat H | \\psi_\\theta \\rangle}{\\langle s | \\psi_\\theta \\rangle}\n",
    "    = \\sum_{s'} \\frac{\\psi_\\theta(s')}{\\psi_\\theta(s)} \\langle s | \\hat H | s' \\rangle\n",
    "$$\n",
    "and \"quantum score function\"\n",
    "$$\n",
    "    o_j(s) = \\frac{\\partial\\ln\\psi_\\theta(s)}{\\partial\\theta_j}.\n",
    "$$"
   ]
  },
  {
   "cell_type": "markdown",
   "id": "4e3b58c9-1c08-4b98-887c-90b99d32432a",
   "metadata": {},
   "source": [
    "In NetKet, the quantum geometric tensor $G(\\theta)$ is available from the variational state class:"
   ]
  },
  {
   "cell_type": "code",
   "execution_count": null,
   "id": "49870150-b720-4ba7-af74-403dc4b7481d",
   "metadata": {},
   "outputs": [],
   "source": [
    "vstate.quantum_geometric_tensor()"
   ]
  },
  {
   "cell_type": "code",
   "execution_count": null,
   "id": "836d1805-e7f7-4e27-8b69-c8f838e67bf7",
   "metadata": {},
   "outputs": [],
   "source": [
    "vstate.quantum_geometric_tensor().to_dense()"
   ]
  },
  {
   "cell_type": "markdown",
   "id": "9d59acac-9580-438c-b6fd-d22700267d40",
   "metadata": {},
   "source": [
    "### 2.1 DIY time stepping loop"
   ]
  },
  {
   "cell_type": "markdown",
   "id": "d54a3d4b-ac92-4bf2-b27f-072334dc920f",
   "metadata": {},
   "source": [
    "Let us build a very simple ODE solver based on the Euler method where, at each time step, we update our state as\n",
    "$$\n",
    "    \\theta(t + \\delta t) = \\theta(t) + \\dot\\theta \\delta t.\n",
    "$$\n",
    "As an interactive task, I will now give you 10-15 min of time to try and implement a solver loop that, given a Hamiltonian, vstate, initial time t0, (fixed) time step dt, end time t_end, and the factor gamma from above performs t-VMC time propagation.\n",
    "\n",
    "Some hints:\n",
    " * `vstate.expect_and_grad` gives you the expectation value and gradient of an operator.\n",
    " * We have seen `vstate.quantum_geomtric_tensor` above.\n",
    " * A standard method for solving a linear (least-squares) equation system is `jnp.linalg.lstsq`. (There are others, which you can also use.)\n",
    " * Remember to update `vstate.parameters` is a PyTree (and you need to update it in the end)."
   ]
  },
  {
   "cell_type": "code",
   "execution_count": null,
   "id": "08ddbcdc-9f68-415b-b813-b30884f160f2",
   "metadata": {},
   "outputs": [],
   "source": [
    "# version 1, using netket.optimizer.solver.svd\n",
    "def time_propagation(hamiltonian, vstate, t0, dt, t_end, gamma=1.0j):\n",
    "    t = t0\n",
    "    while t < t_end:\n",
    "        # get energy and gradient\n",
    "        E, F = vstate.expect_and_grad(hamiltonian)\n",
    "        # get the QGT object from the variational state\n",
    "        G = vstate.quantum_geometric_tensor()\n",
    "        # multiply F by the factor -gamma\n",
    "        F = jax.tree_map(lambda f: -gamma * f, F)\n",
    "        # use G.solve and the SVD solver nk.optimizer.solver.svd\n",
    "        dtheta, _ = G.solve(nk.optimizer.solver.svd, F)\n",
    "        # apply update theta += dt * dtheta\n",
    "        vstate.parameters = jax.tree_map(\n",
    "            lambda x, y: x + dt * y, vstate.parameters, dtheta\n",
    "        )\n",
    "        t = t + dt\n",
    "        yield t, vstate.expect(hamiltonian), vstate.expect(mag_x)\n",
    "        \n",
    "# version 2, using jnp.linalg.lstsq (which requires unpacking and repacking\n",
    "# the parameters into a pytree\n",
    "def time_propagation2(hamiltonian, vstate, t0, dt, t_end, gamma=1.0j):\n",
    "    t = t0\n",
    "    while t < t_end:\n",
    "        # get energy and gradient\n",
    "        E, F = vstate.expect_and_grad(hamiltonian)\n",
    "        \n",
    "        # convert G and F to arrays to pass to lstsq\n",
    "        G = vstate.quantum_geometric_tensor().to_dense()\n",
    "        # convert F to a vector; the second return value\n",
    "        # is a function that can convert vectors back to the\n",
    "        # pytree structure of F (which is the same structure as\n",
    "        # the params\n",
    "        F, unravel_params = nk.jax.tree_ravel(F)\n",
    "        F *= -gamma\n",
    "        \n",
    "        # lstsq returns dtheta and some other stuff, which we ignore by\n",
    "        # assigning them to `_*`\n",
    "        # rcond cuts off very small singular values of G when solving the equation\n",
    "        dtheta, *_ = jnp.linalg.lstsq(G, F, rcond=1e-14)\n",
    "        # convert back to a pytree\n",
    "        dtheta = unravel_params(dtheta)\n",
    "        \n",
    "        vstate.parameters = jax.tree_map(\n",
    "            lambda x, y: x + dt * y, vstate.parameters, dtheta)\n",
    "        t = t + dt\n",
    "        yield t, vstate.expect(hamiltonian), vstate.expect(mag_x)"
   ]
  },
  {
   "cell_type": "code",
   "execution_count": null,
   "id": "8e011be1-6df5-4797-9cfd-2d555c05e337",
   "metadata": {},
   "outputs": [],
   "source": []
  },
  {
   "cell_type": "code",
   "execution_count": null,
   "id": "ee02efc2-b9c4-441f-a199-1d52deb9da30",
   "metadata": {},
   "outputs": [],
   "source": []
  },
  {
   "cell_type": "code",
   "execution_count": null,
   "id": "e2058078-a0e4-4aaf-b335-15e56796cb7c",
   "metadata": {},
   "outputs": [],
   "source": [
    "# We want to test it on our example system like this (gamma=-1 gives us imaginary-time propagation):\n",
    "times = []\n",
    "energies = []\n",
    "mag = []\n",
    "with tqdm(time_propagation2(ham, vstate, t0=0, dt=0.01, t_end=4, gamma=1)) as progress:\n",
    "    # we make use of time, energy, and magnetization being returned from the solver loop\n",
    "    for t, E, mx in progress:\n",
    "        times.append(t)\n",
    "        energies.append(E)\n",
    "        mag.append(mx)\n",
    "        progress.set_postfix(t=t)"
   ]
  },
  {
   "cell_type": "code",
   "execution_count": null,
   "id": "9a718ef3-f49c-41bb-b96b-c8ca45d4387a",
   "metadata": {},
   "outputs": [],
   "source": [
    "# Plot the results"
   ]
  },
  {
   "cell_type": "code",
   "execution_count": null,
   "id": "30bd8fe7-1cfe-478b-b548-d026461a7680",
   "metadata": {},
   "outputs": [],
   "source": [
    "plt.plot(times, [e.mean.real for e in energies])"
   ]
  },
  {
   "cell_type": "code",
   "execution_count": null,
   "id": "2aa404ad-4148-4895-ace0-16b0083d6cb9",
   "metadata": {},
   "outputs": [],
   "source": [
    "plt.plot(times, [m.mean.real for m in mag])"
   ]
  },
  {
   "cell_type": "markdown",
   "id": "6d48daee-247f-4b0b-a45f-1df23311e1d8",
   "metadata": {},
   "source": [
    "Save the optimal parameters we have found:"
   ]
  },
  {
   "cell_type": "code",
   "execution_count": null,
   "id": "47b0c46d-3c35-40d3-b288-ac41b0bb7721",
   "metadata": {},
   "outputs": [],
   "source": [
    "params0 = jax.tree_map(np.copy, vstate.parameters)"
   ]
  },
  {
   "cell_type": "markdown",
   "id": "b0820097-86c6-45bb-90f4-faf8c36a143b",
   "metadata": {},
   "source": [
    "Let's try some real-time propagation, starting from the approximate state we found just now:"
   ]
  },
  {
   "cell_type": "code",
   "execution_count": null,
   "id": "574a88f7-af9b-4c7d-b0b3-df9e3eaa5688",
   "metadata": {},
   "outputs": [],
   "source": [
    "vstate.parameters = jax.tree_map(np.copy, params0)\n",
    "\n",
    "times = []\n",
    "energies = []\n",
    "mag = []\n",
    "with tqdm(time_propagation(ham1, vstate, t0=0, dt=0.001, t_end=1.0, gamma=1j)) as progress:\n",
    "    for t, E, mx in progress:\n",
    "        times.append(t)\n",
    "        energies.append(E)\n",
    "        mag.append(mx)\n",
    "        \n",
    "        progress.set_postfix(t=t, E=E)"
   ]
  },
  {
   "cell_type": "code",
   "execution_count": null,
   "id": "8ff135f6-d963-495c-a80d-827d5a3704d2",
   "metadata": {},
   "outputs": [],
   "source": [
    "plt.plot(times, [e.mean.real for e in energies])"
   ]
  },
  {
   "cell_type": "code",
   "execution_count": null,
   "id": "9d5cd270-1721-4deb-9e3b-88e40a23a8c7",
   "metadata": {},
   "outputs": [],
   "source": [
    "plt.plot(times, [m.mean.real for m in mag])"
   ]
  },
  {
   "cell_type": "markdown",
   "id": "aa776dd2-d313-40fe-8bb7-ef14a4381af6",
   "metadata": {},
   "source": [
    "### 2.2 NetKet TDVP driver"
   ]
  },
  {
   "cell_type": "markdown",
   "id": "70fcf415-35cb-455b-b4a1-8363f1186672",
   "metadata": {},
   "source": [
    "NetKet provides a `TDVP` driver that perform time propagation based on the same ideas we have used above, but includes a lot of feaures beyond that (in particular, Runge-Kutta adaptive and fixed step size integrators of various orders)."
   ]
  },
  {
   "cell_type": "code",
   "execution_count": null,
   "id": "5c2131bc-5c09-424a-9058-57a6d01c49d1",
   "metadata": {},
   "outputs": [],
   "source": [
    "import netket.experimental as nkx"
   ]
  },
  {
   "cell_type": "code",
   "execution_count": null,
   "id": "0a56a45e-e841-48b3-b4ae-df5bd70fd775",
   "metadata": {
    "tags": []
   },
   "outputs": [],
   "source": [
    "vstate.parameters = jax.tree_map(np.copy, params0)\n",
    "\n",
    "integrator = nkx.dynamics.Euler(dt=0.001)\n",
    "\n",
    "driver = nkx.TDVP(\n",
    "    ham1,\n",
    "    vstate,\n",
    "    integrator,\n",
    "    linear_solver=nk.optimizer.solver.svd,\n",
    "    qgt=nk.optimizer.qgt.QGTJacobianDense(holomorphic=True),\n",
    ")\n",
    "\n",
    "log = nk.logging.RuntimeLog()\n",
    "driver.run(T=1.0, obs={\"mx\": mag_x}, out=log)"
   ]
  },
  {
   "cell_type": "code",
   "execution_count": null,
   "id": "76e16888-ac39-40ec-9319-59c6a9174078",
   "metadata": {},
   "outputs": [],
   "source": [
    "plt.plot(log[\"Generator\"][\"iters\"], log[\"Generator\"][\"Mean\"].real)"
   ]
  },
  {
   "cell_type": "code",
   "execution_count": null,
   "id": "c41872ac-7370-4889-8f25-b623fd88f51f",
   "metadata": {},
   "outputs": [],
   "source": [
    "plt.plot(log[\"mx\"][\"iters\"], log[\"mx\"][\"Mean\"].real)"
   ]
  },
  {
   "cell_type": "markdown",
   "id": "0cacd99e-7a99-4a09-81e8-8cb2ed4bc4ea",
   "metadata": {},
   "source": [
    "### 2.3 Check result for small system"
   ]
  },
  {
   "cell_type": "code",
   "execution_count": null,
   "id": "8af55843-dd99-4cbe-91d8-47ca3867f3f8",
   "metadata": {
    "tags": []
   },
   "outputs": [],
   "source": [
    "%pip install qutip"
   ]
  },
  {
   "cell_type": "code",
   "execution_count": null,
   "id": "c3c70dbf-2290-411a-ac85-942122869b87",
   "metadata": {},
   "outputs": [],
   "source": [
    "import qutip"
   ]
  },
  {
   "cell_type": "code",
   "execution_count": null,
   "id": "abc282a7-3954-4d5c-845f-8b3aaa70a2f0",
   "metadata": {},
   "outputs": [],
   "source": [
    "hamQ = ham1.to_qobj()\n",
    "mag_xQ = mag_x.to_qobj()\n",
    "\n",
    "vstate.parameters = jax.tree_map(np.copy, params0)\n",
    "psiQ = vstate.to_qobj()"
   ]
  },
  {
   "cell_type": "code",
   "execution_count": null,
   "id": "1f614c4f-2b6f-46fb-b466-e9dad946cf8e",
   "metadata": {},
   "outputs": [],
   "source": [
    "result = qutip.sesolve(hamQ, psiQ, tlist=times, e_ops=[hamQ, mag_xQ])"
   ]
  },
  {
   "cell_type": "code",
   "execution_count": null,
   "id": "53617d33-011a-4bca-a6b4-1f7b292b3f77",
   "metadata": {},
   "outputs": [],
   "source": [
    "plt.plot(log[\"mx\"][\"iters\"], log[\"mx\"][\"Mean\"].real)\n",
    "plt.plot(result.times, result.expect[1], \"k--\")"
   ]
  },
  {
   "cell_type": "markdown",
   "id": "b4d11e2c-3b57-426d-b1e9-e30b4be18d17",
   "metadata": {
    "tags": []
   },
   "source": [
    "It seems clear that the two-parameter Jastrow ansatz we have used is not up to the task of representing the Ising quench dynamics.\n",
    "\n",
    "So, let's use an actual neural quantum state:"
   ]
  },
  {
   "cell_type": "code",
   "execution_count": null,
   "id": "77769830-fa33-4d0e-8f9b-10c068892778",
   "metadata": {},
   "outputs": [],
   "source": [
    "ansatz_nqs = nk.models.RBM(alpha=1, dtype=complex)\n",
    "sampler_nqs = nk.sampler.MetropolisLocal(hilbert, n_chains=32)\n",
    "vstate_nqs = nk.vqs.MCState(sampler_nqs, ansatz_nqs,\n",
    "                        n_samples=1024,\n",
    "                        sampler_seed=rng.next(), seed=rng.next())"
   ]
  },
  {
   "cell_type": "code",
   "execution_count": null,
   "id": "91b41981-d0b9-4c02-908c-55262b110df8",
   "metadata": {
    "tags": []
   },
   "outputs": [],
   "source": [
    "integrator = nkx.dynamics.Heun(dt=0.01)\n",
    "\n",
    "driver = nkx.TDVP(\n",
    "    ham,\n",
    "    vstate_nqs,\n",
    "    integrator,\n",
    "    linear_solver=nk.optimizer.solver.svd,\n",
    "    qgt=nk.optimizer.qgt.QGTJacobianDense(holomorphic=True),\n",
    "    propagation_type=\"imag\",\n",
    ")\n",
    "\n",
    "log = nk.logging.RuntimeLog()\n",
    "driver.run(T=5.0, obs={\"mx\": mag_x}, out=log)"
   ]
  },
  {
   "cell_type": "markdown",
   "id": "a935bb1e-57a9-49e5-b103-b41538df2404",
   "metadata": {},
   "source": [
    "(Since this takes a moment, I have saved the ground state locally to have the option to load it. You don't need to do this.)"
   ]
  },
  {
   "cell_type": "code",
   "execution_count": null,
   "id": "5f4be5e3-e5f5-445e-aa78-8cce10594fd4",
   "metadata": {},
   "outputs": [],
   "source": [
    "import flax"
   ]
  },
  {
   "cell_type": "code",
   "execution_count": null,
   "id": "31d34cbe-e3a1-42d4-a498-c9eba2820616",
   "metadata": {},
   "outputs": [],
   "source": [
    "# with open(\"NQS_Dyn_RBM1.mpack\", \"wb\") as fp:\n",
    "#     fp.write(flax.serialization.to_bytes(vstate_nqs.variables))"
   ]
  },
  {
   "cell_type": "code",
   "execution_count": null,
   "id": "67e6289a-b8a9-482c-a9e2-5faf08f77942",
   "metadata": {
    "tags": []
   },
   "outputs": [],
   "source": [
    "with open(\"NQS_Dyn_RBM1.mpack\", \"rb\") as fp:\n",
    "    vstate_nqs.variables = flax.serialization.from_bytes(vstate_nqs.variables, fp.read())"
   ]
  },
  {
   "cell_type": "code",
   "execution_count": null,
   "id": "61b4a64f-c025-422c-abc0-64871677ab83",
   "metadata": {
    "tags": []
   },
   "outputs": [],
   "source": [
    "hamQ = ham1.to_qobj()\n",
    "mag_xQ = mag_x.to_qobj()\n",
    "psiQ = vstate_nqs.to_qobj()\n",
    "result = qutip.sesolve(hamQ, psiQ, tlist=np.linspace(0, 1.0, 100), e_ops=[hamQ, mag_xQ])"
   ]
  },
  {
   "cell_type": "code",
   "execution_count": null,
   "id": "d0f80dbf-5aa7-4f20-8541-45b93ccfd9c1",
   "metadata": {
    "tags": []
   },
   "outputs": [],
   "source": [
    "integrator = nkx.dynamics.Heun(dt=0.005)\n",
    "vstate_nqs.n_samples=16000\n",
    "driver = nkx.TDVP(\n",
    "    ham1,\n",
    "    vstate_nqs,\n",
    "    integrator,\n",
    "    linear_solver=nk.optimizer.solver.svd,\n",
    "    qgt=nk.optimizer.qgt.QGTJacobianDense(holomorphic=True),\n",
    ")\n",
    "\n",
    "log = nk.logging.RuntimeLog()\n",
    "driver.run(T=1.0, obs={\"mx\": mag_x}, out=log)"
   ]
  },
  {
   "cell_type": "code",
   "execution_count": null,
   "id": "5e125177-3707-46e1-8f73-9dc74dd7ae26",
   "metadata": {},
   "outputs": [],
   "source": []
  },
  {
   "cell_type": "code",
   "execution_count": null,
   "id": "29c9f363-ad8c-4b1b-b7f6-8224b3374e13",
   "metadata": {},
   "outputs": [],
   "source": [
    "plt.plot(log[\"mx\"][\"iters\"], log[\"mx\"][\"Mean\"].real)\n",
    "plt.plot(result.times, result.expect[1], \"k--\")"
   ]
  },
  {
   "cell_type": "markdown",
   "id": "5994fadf-e078-41b7-979c-4d793f01eb9f",
   "metadata": {},
   "source": [
    "### 2.4 Quantum geometric tensor"
   ]
  },
  {
   "cell_type": "markdown",
   "id": "5cd0b0c1-05db-479d-860e-7b5cdfa072bb",
   "metadata": {
    "tags": []
   },
   "source": [
    "As its name suggests, the quantum geometric tensor $G(\\theta)$ has a geometric meaning: It imposes a curvature on space of variational parameters. This curvature accounts for the fact that different directions in parameter space affect the quantum state to different degrees."
   ]
  },
  {
   "cell_type": "markdown",
   "id": "9f108056-6e1c-4673-9944-5183f1d94136",
   "metadata": {},
   "source": [
    "The most extreme case is a parameter corresponding to a pure gauge freedom:"
   ]
  },
  {
   "cell_type": "code",
   "execution_count": null,
   "id": "a473cf00-5a41-4069-b44f-3a303e31dee5",
   "metadata": {},
   "outputs": [],
   "source": [
    "class JasShortExtra(nn.Module):\n",
    "    @nn.compact\n",
    "    def __call__(self, x):\n",
    "        j1 = self.param(\n",
    "            \"j1\", nn.initializers.normal(), (1,), complex\n",
    "        )\n",
    "        j2 = self.param(\n",
    "            \"j2\", nn.initializers.normal(), (1,), complex\n",
    "        )\n",
    "        extra = self.param(\n",
    "            \"extra\", nn.initializers.normal(), (1,), complex\n",
    "        )\n",
    "\n",
    "        # compute the nearest-neighbor correlations\n",
    "        corr1=x*jnp.roll(x,-1,axis=-1)\n",
    "        corr2=x*jnp.roll(x,-2,axis=-1)\n",
    "\n",
    "        # sum the output\n",
    "        return jnp.sum(j1*corr1+j2*corr2,axis=-1) + extra"
   ]
  },
  {
   "cell_type": "markdown",
   "id": "bd0495bc-e019-410d-9ecb-9d72b78a323f",
   "metadata": {},
   "source": [
    "Our wave function is now\n",
    "$$ \\langle \\sigma^{z}_1,\\dots \\sigma^{z}_N| \\Psi_{\\mathrm{jas}} \\rangle = \\mathtt{extra} \\cdot \\exp \\left( \\sum_i J_1 \\sigma^{z}_i\\sigma^{z}_{i+1} + J_2 \\sigma^{z}_i\\sigma^{z}_{i+2} \\right),$$ which only changes norm and global phase of the quantum state.\n",
    "\n",
    "Let's see how this affects the QGT:"
   ]
  },
  {
   "cell_type": "code",
   "execution_count": null,
   "id": "bd64180f-8903-446f-b94a-e0eaa84e56b0",
   "metadata": {},
   "outputs": [],
   "source": [
    "jastrow = JasShortExtra()\n",
    "vs = nk.vqs.MCState(sampler, jastrow)\n",
    "G = vs.quantum_geometric_tensor().to_dense()"
   ]
  },
  {
   "cell_type": "code",
   "execution_count": null,
   "id": "107d336d-429f-465b-a879-2b56eab31370",
   "metadata": {},
   "outputs": [],
   "source": [
    "G"
   ]
  },
  {
   "cell_type": "markdown",
   "id": "65d9d874-f597-4aef-b352-4020fe940f9a",
   "metadata": {},
   "source": [
    "The gauge freedom creates a subspace that is anihilated by the QGT. Since this gauge freedom is exactly along the direction of the parameter `extra`, it is immediately visible in the QGT matrix. Generally, such redundant directions can be seen in the QGT's spectrum:"
   ]
  },
  {
   "cell_type": "code",
   "execution_count": null,
   "id": "bf34692f-b818-4769-b9c6-e78b91929d63",
   "metadata": {},
   "outputs": [],
   "source": [
    "jnp.linalg.eigvalsh(G)"
   ]
  },
  {
   "cell_type": "markdown",
   "id": "6daafc13-1cc1-4424-b6a4-9847334cfa9b",
   "metadata": {},
   "source": [
    "For a neural quantum state, there is no single parameter that only changes gauge degrees of freedom. The QGT is fully dense:"
   ]
  },
  {
   "cell_type": "code",
   "execution_count": null,
   "id": "ce8538e2-66cd-4dd1-8991-a45c800d823d",
   "metadata": {},
   "outputs": [],
   "source": [
    "vstate_nqs.init_parameters()\n",
    "G = vstate_nqs.quantum_geometric_tensor().to_dense()"
   ]
  },
  {
   "cell_type": "code",
   "execution_count": null,
   "id": "3cbd2df1-79a3-4131-b15c-d35d24a85dc0",
   "metadata": {
    "tags": []
   },
   "outputs": [],
   "source": [
    "G"
   ]
  },
  {
   "cell_type": "code",
   "execution_count": null,
   "id": "b0cbe944-5357-4d98-9d97-a91f7a2642b5",
   "metadata": {},
   "outputs": [],
   "source": [
    "spectrum = jnp.linalg.eigvalsh(G + 0.01 * np.eye(G.shape[0]))"
   ]
  },
  {
   "cell_type": "code",
   "execution_count": null,
   "id": "acf63ad4-f843-49c5-8074-67c99955da18",
   "metadata": {},
   "outputs": [],
   "source": [
    "plt.plot(spectrum)\n",
    "plt.semilogy()"
   ]
  },
  {
   "cell_type": "markdown",
   "id": "88e7cf04-b0a0-49a1-bd85-31e8eab35c26",
   "metadata": {},
   "source": [
    "This is a typical example for an NQS (especially with one that has more hidden units than the shallow $\\alpha = 1$ RBM): Eigenvalues of the QGT span several orders of magnitude, making the solution of the t-VMC equation sensitive to noise.\n",
    "\n",
    "This can make it necessary to use regularization methods (diagonal shift, spectral cutoff for the QGT, or more advanced methods -- references have been given in Giuseppe's lecture.)"
   ]
  },
  {
   "cell_type": "code",
   "execution_count": null,
   "id": "6cb0e14b-1a9b-4f56-92fd-b58e72e937f1",
   "metadata": {},
   "outputs": [],
   "source": []
  }
 ],
 "metadata": {
  "colab": {
   "collapsed_sections": [],
   "name": "1-start.ipynb",
   "provenance": []
  },
  "kernelspec": {
   "display_name": "Python 3",
   "language": "python",
   "name": "python3"
  },
  "language_info": {
   "codemirror_mode": {
    "name": "ipython",
    "version": 3
   },
   "file_extension": ".py",
   "mimetype": "text/x-python",
   "name": "python",
   "nbconvert_exporter": "python",
   "pygments_lexer": "ipython3",
   "version": "3.8.10"
  }
 },
 "nbformat": 4,
 "nbformat_minor": 5
}
