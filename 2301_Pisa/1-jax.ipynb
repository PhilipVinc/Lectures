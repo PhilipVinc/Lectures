{
 "cells": [
  {
   "cell_type": "markdown",
   "id": "2cb283d3-2996-4cae-9253-22df9292c723",
   "metadata": {},
   "source": [
    "# Mathematics of Machine Learning\n",
    "\n",
    "### Hands-on 1: Introduction to Jax, Automatic Differentiation, Flax & co\n",
    "\n",
    "Filippo Vicentini and Giuseppe Carleo\n",
    "\n",
    "[![Open in Colab](https://colab.research.google.com/assets/colab-badge.svg)](https://colab.research.google.com/github/PhilipVinc/Lectures/blob/master/2301_Pisa/1-jax.ipynb) \n",
    "\n",
    "In this hands-on you will learn about Jax, a differentiable-programming framework for Python, and at the end we will be building a simple logistic-regression example.\n",
    "\n",
    "The program of this Hands-on is the following:\n",
    "\n",
    "0. Setup\n",
    "1. Introduction to Jax\n",
    "2. Automatic differentiation with Jax\n",
    "3. Linear regression with Jax and Flax"
   ]
  },
  {
   "cell_type": "markdown",
   "id": "176b97f1-2c29-4690-a238-6afc5bb40191",
   "metadata": {},
   "source": [
    "## 0 - Setup\n",
    "\n",
    "To run this notebook you will need:\n",
    " - Python >= 3.7\n",
    " - A notebook interface (Jupyter Notebook / Lab or Google Colab)\n",
    " - Jax >= 0.2.17\n",
    " - Flax >= 0.3\n",
    " - Optax >= 0.0.8\n",
    " \n",
    "Some of the next notebooks will also use `tensorflow_datasets` to automatically download and setup Machine-Learning datasets such as MNIST. It requires `tensorflow` to be installed.\n",
    " \n",
    "During the class we will be running this notebook with Google Colab, that gives you an easy to use environment in the Cloud with access to a GPU. Thankfully, Colab has tensorflow already installed.\n",
    "\n",
    "To install the packages in Colab you need to run the cell below.\n",
    "*If you are running in your own environment, you should not run the cell below!*"
   ]
  },
  {
   "cell_type": "code",
   "execution_count": null,
   "id": "9d8ac809-9148-4316-afb2-4bd884ae3f16",
   "metadata": {},
   "outputs": [],
   "source": [
    "!pip install --upgrade jax flax optax tqdm sklearn"
   ]
  },
  {
   "cell_type": "markdown",
   "id": "cb319b95-1c4a-4477-ad7e-7ca68a14f349",
   "metadata": {},
   "source": [
    "\n",
    "If you wish to run this notebook or experiment with an environment in your own machine I suggest the following:\n",
    "\n",
    " - Install Python with pyenv: https://realpython.com/intro-to-pyenv/ \n",
    " - Install the notebook interface with pip\n",
    " - Install the packages with pip"
   ]
  },
  {
   "cell_type": "markdown",
   "id": "7214ffe3-e1bc-4ff9-8bc6-2d0b67b37ef6",
   "metadata": {},
   "source": [
    "## 1 - Introduction to Jax\n",
    "\n",
    "In this Notebook I will assume familiarity with basic python constructs, such as defining functions, lists and tuples, printing and importing packages, loops and comprehension. \n",
    "If any of this is not clear, please do ask question."
   ]
  },
  {
   "cell_type": "code",
   "execution_count": 1,
   "id": "288bdeb8-305f-4181-8fad-d7d944845be4",
   "metadata": {},
   "outputs": [
    {
     "name": "stdout",
     "output_type": "stream",
     "text": [
      "0.4.1\n"
     ]
    }
   ],
   "source": [
    "# We start by importing jax\n",
    "import jax\n",
    "\n",
    "print(jax.__version__)"
   ]
  },
  {
   "cell_type": "markdown",
   "id": "b9216dfb-cf03-4653-82d9-1ca35225bf45",
   "metadata": {},
   "source": [
    "Do check the version! You should have a recent version (>= 0.2.18)"
   ]
  },
  {
   "cell_type": "markdown",
   "id": "31fbf73f-4d3e-4305-9e72-afca467e8a32",
   "metadata": {},
   "source": [
    "### 1.1 - Jax's NumPy API"
   ]
  },
  {
   "cell_type": "code",
   "execution_count": 4,
   "id": "cb4bf093-763f-4860-800f-d87abc21937e",
   "metadata": {},
   "outputs": [],
   "source": [
    "# import standard numpy\n",
    "import numpy as np\n",
    "\n",
    "# import jax.numpy as jnp\n",
    "import jax.numpy as jnp"
   ]
  },
  {
   "cell_type": "markdown",
   "id": "830ef105-b317-406e-bcda-24e3c86fe3b6",
   "metadata": {},
   "source": [
    "`jax.numpy` is the NumPy-like API that needs to be imported, and we will also use `jax.random` to generate some data to work on. \n",
    "\n",
    "Let's start by generating some matrices, and then try matrix multiplication."
   ]
  },
  {
   "cell_type": "code",
   "execution_count": 6,
   "id": "a4acf8a3-2b89-4a25-8012-0e5283f61d1f",
   "metadata": {},
   "outputs": [],
   "source": [
    "m = jnp.ones((4,4)) # We're generating one 4 by 4 matrix filled with ones.\n",
    "n = jnp.array([[1.0, 2.0, 3.0, 4.0],\n",
    "               [5.0, 6.0, 7.0, 8.0]]) # An explicit 2 by 4 array"
   ]
  },
  {
   "cell_type": "markdown",
   "id": "c2657d7f-e5c6-4f07-94bb-5f4a18f8ee25",
   "metadata": {},
   "source": [
    "Let's try to print one of those objects"
   ]
  },
  {
   "cell_type": "code",
   "execution_count": 7,
   "id": "58316c5a-0950-4e7d-a9a1-e9150426f8bd",
   "metadata": {},
   "outputs": [
    {
     "data": {
      "text/plain": [
       "DeviceArray([[1., 1., 1., 1.],\n",
       "             [1., 1., 1., 1.],\n",
       "             [1., 1., 1., 1.],\n",
       "             [1., 1., 1., 1.]], dtype=float32)"
      ]
     },
     "execution_count": 7,
     "metadata": {},
     "output_type": "execute_result"
    }
   ],
   "source": [
    "m"
   ]
  },
  {
   "cell_type": "code",
   "execution_count": 8,
   "id": "fac8665e-54a1-4a75-84ab-050d813aaedc",
   "metadata": {},
   "outputs": [
    {
     "name": "stdout",
     "output_type": "stream",
     "text": [
      "shape: (4, 4)\n",
      "size: 16\n",
      "dtype: float32\n"
     ]
    }
   ],
   "source": [
    "# we can also inspect it's shape, size and dtype\n",
    "print(f\"shape: {m.shape}\")\n",
    "print(f\"size: {m.size}\")\n",
    "print(f\"dtype: {m.dtype}\")"
   ]
  },
  {
   "cell_type": "markdown",
   "id": "6439bccd-ed43-480f-b6b3-e5ae3a763db1",
   "metadata": {},
   "source": [
    "Arrays in JAX are represented as DeviceArray instances and are agnostic to the place where the array lives (CPU, GPU, or TPU). This is why we're getting the warning that no GPU/TPU was found and JAX is falling back to a CPU (unless you're running it in an environment that has a GPU/TPU available).\n",
    "\n",
    "We can obviously multiply matrices like we would do in NumPy."
   ]
  },
  {
   "cell_type": "markdown",
   "id": "45e2df29-7aae-4782-a716-1cc02f36785e",
   "metadata": {},
   "source": [
    "JAX is fully compatible with NumPy, and can transparently process arrays from one library to the other."
   ]
  },
  {
   "cell_type": "code",
   "execution_count": 9,
   "id": "5209b98c-1afe-439d-a80e-c21ddddcc3c4",
   "metadata": {},
   "outputs": [
    {
     "data": {
      "text/plain": [
       "DeviceArray([[-0.67587173, -0.67587173, -0.67587173, -0.67587173],\n",
       "             [-1.8554293 , -1.8554293 , -1.8554293 , -1.8554293 ],\n",
       "             [-0.54560286, -0.54560286, -0.54560286, -0.54560286],\n",
       "             [-0.23635823, -0.23635823, -0.23635823, -0.23635823]],            dtype=float32)"
      ]
     },
     "execution_count": 9,
     "metadata": {},
     "output_type": "execute_result"
    }
   ],
   "source": [
    "x = np.random.normal(size=(4,4)) # Creating one standard NumPy array instance\n",
    "jnp.dot(x,m)"
   ]
  },
  {
   "cell_type": "markdown",
   "id": "9e4e1fa1-f542-47a2-9ecb-247b4a148f82",
   "metadata": {},
   "source": [
    "Using NumPy arrays directly will result in multiple transfers from CPU to GPU/TPU memory. In general, try to work with objects that are all jax's DeviceArrays by converting everything before-hand using `jnp.asarray`."
   ]
  },
  {
   "cell_type": "markdown",
   "id": "47b15398-6258-4b1a-aecc-c631d9950861",
   "metadata": {},
   "source": [
    "### 1.2 - (Im)mutability\n",
    "JAX is functional by essence, one practical consequence being that JAX arrays are immutable. This means no in-place ops and sliced assignments. More generally, functions should not take input or produce output using a global state."
   ]
  },
  {
   "cell_type": "code",
   "execution_count": 11,
   "id": "43d9bc99-f7c0-40ba-bdfb-bf530a55f515",
   "metadata": {},
   "outputs": [
    {
     "name": "stdout",
     "output_type": "stream",
     "text": [
      "x: \n",
      " [[1. 2. 3. 4.]\n",
      " [5. 6. 7. 8.]]\n"
     ]
    }
   ],
   "source": [
    "# we construct a matrix\n",
    "x = jnp.array([[1.0, 2.0, 3.0, 4.0],\n",
    "               [5.0, 6.0, 7.0, 8.0]])\n",
    "print(\"x: \\n\", x)"
   ]
  },
  {
   "cell_type": "code",
   "execution_count": 12,
   "id": "71a22962-e7e6-4424-8e44-c8444a880191",
   "metadata": {},
   "outputs": [],
   "source": [
    "# we update some indices\n",
    "updated = x.at[0,0].set(3.0) # whereas x[0,0] = 3.0 would fail"
   ]
  },
  {
   "cell_type": "code",
   "execution_count": 13,
   "id": "eb5dbb89-d039-4a66-a24d-4e5e481e35d0",
   "metadata": {},
   "outputs": [
    {
     "name": "stdout",
     "output_type": "stream",
     "text": [
      "x: \n",
      " [[1. 2. 3. 4.]\n",
      " [5. 6. 7. 8.]]\n",
      "updated: \n",
      " [[3. 2. 3. 4.]\n",
      " [5. 6. 7. 8.]]\n"
     ]
    }
   ],
   "source": [
    "print(\"x: \\n\", x) # Note that x didn't change, no in-place mutation.\n",
    "print(\"updated: \\n\", updated)"
   ]
  },
  {
   "cell_type": "markdown",
   "id": "2189988c-fe23-4aae-9923-f308d4fa119d",
   "metadata": {},
   "source": [
    "### 1.3 - Managing randomness\n",
    "In JAX, randomness is managed in a very specific way, and you can read more on JAX's docs [here](https://jax.readthedocs.io/en/latest/notebooks/Common_Gotchas_in_JAX.html#%F0%9F%94%AA-Random-Numbers) (we borrow content from there!). As the JAX team puts it:\n",
    "\n",
    "*JAX implements an explicit PRNG where entropy production and consumption are handled by explicitly passing and iterating a PRNG state. JAX uses a modern Threefry counter-based PRNG that’s splittable. That is, its design allows us to fork the PRNG state into new PRNGs for use with parallel stochastic generation.*\n",
    "\n",
    "In short, you need to explicitly manage the PRNGs (pseudo random number generators) and their states. In JAX's PRNGs, the state is represented as a pair of two unsigned-int32s that is called a key (there is no special meaning to the two unsigned int32s -- it's just a way of representing a uint64)."
   ]
  },
  {
   "cell_type": "code",
   "execution_count": 20,
   "id": "8ff8d447-a8d3-49ad-a332-97872238f16a",
   "metadata": {},
   "outputs": [],
   "source": [
    "# let's import jax.random\n",
    "from jax import random"
   ]
  },
  {
   "cell_type": "code",
   "execution_count": 21,
   "id": "926b980a-1269-4eda-9e53-dc3776c99c84",
   "metadata": {},
   "outputs": [
    {
     "data": {
      "text/plain": [
       "DeviceArray([ 0, 12], dtype=uint32)"
      ]
     },
     "execution_count": 21,
     "metadata": {},
     "output_type": "execute_result"
    }
   ],
   "source": [
    "key = random.PRNGKey(12)\n",
    "key"
   ]
  },
  {
   "cell_type": "markdown",
   "id": "c19b327e-fa65-440d-a384-336ce892dcf6",
   "metadata": {},
   "source": [
    "If you use this key multiple times, you'll get the same \"random\" output each time. To generate further entries in the sequence, you'll need to split the PRNG and thus generate a new pair of keys."
   ]
  },
  {
   "cell_type": "code",
   "execution_count": 22,
   "id": "98c1d48b-9e2a-4b80-90ea-e9c77aa01764",
   "metadata": {},
   "outputs": [
    {
     "name": "stdout",
     "output_type": "stream",
     "text": [
      "Printing the random number using key=[ 0 12] gives: [-0.5135872]\n",
      "Printing the random number using key=[ 0 12] gives: [-0.5135872]\n",
      "Printing the random number using key=[ 0 12] gives: [-0.5135872]\n"
     ]
    }
   ],
   "source": [
    "for i in range(3):\n",
    "    print(f\"Printing the random number using key={key} gives:\", \n",
    "          random.normal(key, shape=(1,)))"
   ]
  },
  {
   "cell_type": "code",
   "execution_count": 23,
   "id": "144e5ca4-efaa-4e1d-a744-2242046490da",
   "metadata": {},
   "outputs": [
    {
     "name": "stdout",
     "output_type": "stream",
     "text": [
      "old key [ 0 12] --> normal [-0.5135872]\n",
      "    \\---SPLIT --> new key    [ 407137227 1028236956] --> normal [-1.0230675]\n",
      "             \\--> new subkey [2469535296  588450469] --> normal [0.73592794]\n"
     ]
    }
   ],
   "source": [
    "print(\"old key\", key, \"--> normal\", random.normal(key, shape=(1,)))\n",
    "key, subkey = random.split(key)\n",
    "print(\"    \\---SPLIT --> new key   \", key, \"--> normal\", random.normal(key, shape=(1,)) )\n",
    "print(\"             \\--> new subkey\", subkey, \"--> normal\", random.normal(subkey, shape=(1,)) )"
   ]
  },
  {
   "cell_type": "code",
   "execution_count": 24,
   "id": "201df6a0-bd55-451d-9afe-439b8f705a90",
   "metadata": {},
   "outputs": [
    {
     "name": "stdout",
     "output_type": "stream",
     "text": [
      "Printing the random number using key=[2718843009 1272950319] gives: [-1.2515389]\n",
      "Printing the random number using key=[1278412471 2182328957] gives: [-0.58665055]\n",
      "Printing the random number using key=[4104543539 3483300570] gives: [0.48648307]\n"
     ]
    }
   ],
   "source": [
    "key = random.PRNGKey(0)\n",
    "for i in range(3):\n",
    "    key, key1 = random.split(key)\n",
    "    print(f\"Printing the random number using key={key1} gives:\", \n",
    "          random.normal(key1, shape=(1,)))"
   ]
  },
  {
   "cell_type": "markdown",
   "id": "beaf38c0-711e-4d3e-b45e-35b1fc4aa7a8",
   "metadata": {},
   "source": [
    "While this might seem an annoyance, it's extremely useful because if we simply store this 8 bytes we can always reproduce the state of the random number generator later on. \n",
    "This is extremely important when performing automatic differentiation."
   ]
  },
  {
   "cell_type": "markdown",
   "id": "8d102062-e626-4a0c-8e47-7fec17ea13c7",
   "metadata": {},
   "source": [
    "### 1.4 - Using jax.jit to speed-up your code\n",
    "\n",
    "JAX runs transparently on the GPU (or CPU, if you don't have one, and TPU coming soon!). However, in the above example, JAX is dispatching kernels from python to the CPU/GPU one operation at a time. \n",
    "\n",
    "Dispatching has a considerable overhead of several microseconds. Ideally we would like to pay this cost only once, at the beginning of a `kernel`, by leaving Python-land entirely.\n",
    "\n",
    "If we have a sequence of operations, we can use the `@jit` decorator to compile multiple operations together using [XLA](https://www.tensorflow.org/xla). \n",
    "\n",
    "Effectively, what this does is the following:\n",
    " - Your function is executed with a 'tape', where every operation is recorded\n",
    " - Calculations are not performed. Instead, on the tape it is simply written down multiply matrix A times matrix B, add vector C, etc... \n",
    "    - The tape only knows shapes and dtypes of your vectors.\n",
    " - Once the function returns, the 'tape' is converted to code, then optimized, compiled, and your function is replaced by this compiled code.\n"
   ]
  },
  {
   "cell_type": "code",
   "execution_count": 35,
   "id": "77efa372-488e-4959-bc82-0bb51eef4556",
   "metadata": {},
   "outputs": [],
   "source": [
    "# let's define a sample function\n",
    "def my_fun(x):\n",
    "    div = 1.0 + 1.0\n",
    "    return jnp.dot(x.T,x)/div"
   ]
  },
  {
   "cell_type": "code",
   "execution_count": 36,
   "id": "f486f5b2-794b-4cd5-bedc-d1c00fbaf996",
   "metadata": {},
   "outputs": [
    {
     "data": {
      "text/plain": [
       "DeviceArray([1., 1., 1., 1., 1., 1., 1., 1., 1., 1.], dtype=float32)"
      ]
     },
     "execution_count": 36,
     "metadata": {},
     "output_type": "execute_result"
    }
   ],
   "source": [
    "# let's define the inputs\n",
    "v = jnp.ones(10)\n",
    "v"
   ]
  },
  {
   "cell_type": "code",
   "execution_count": 37,
   "id": "64aeb4a3-3803-4752-b7c1-8379e9522ca4",
   "metadata": {},
   "outputs": [
    {
     "data": {
      "text/plain": [
       "DeviceArray(5., dtype=float32)"
      ]
     },
     "execution_count": 37,
     "metadata": {},
     "output_type": "execute_result"
    }
   ],
   "source": [
    "# let's try to execute it\n",
    "my_fun(v)"
   ]
  },
  {
   "cell_type": "code",
   "execution_count": 38,
   "id": "34dc811b-e270-4535-ba7d-58b937e3320f",
   "metadata": {},
   "outputs": [
    {
     "data": {
      "text/plain": [
       "<CompiledFunction of <function my_fun at 0x134c810d0>>"
      ]
     },
     "execution_count": 38,
     "metadata": {},
     "output_type": "execute_result"
    }
   ],
   "source": [
    "#Let's now try to jit it:\n",
    "my_jitted_fun = jax.jit(my_fun)\n",
    "my_jitted_fun"
   ]
  },
  {
   "cell_type": "code",
   "execution_count": 39,
   "id": "5c4d5387-ec37-4bd3-93a6-7b62f90f8818",
   "metadata": {},
   "outputs": [
    {
     "data": {
      "text/plain": [
       "DeviceArray([[13., 16., 19., 22.],\n",
       "             [16., 20., 24., 28.],\n",
       "             [19., 24., 29., 34.],\n",
       "             [22., 28., 34., 40.]], dtype=float32)"
      ]
     },
     "execution_count": 39,
     "metadata": {},
     "output_type": "execute_result"
    }
   ],
   "source": [
    "my_jitted_fun(x)"
   ]
  },
  {
   "cell_type": "code",
   "execution_count": 40,
   "id": "0bfe8d44-d65b-4421-8f82-c1a6f143412c",
   "metadata": {},
   "outputs": [
    {
     "data": {
      "text/plain": [
       "DeviceArray([[13., 16., 19., 22.],\n",
       "             [16., 20., 24., 28.],\n",
       "             [19., 24., 29., 34.],\n",
       "             [22., 28., 34., 40.]], dtype=float32)"
      ]
     },
     "execution_count": 40,
     "metadata": {},
     "output_type": "execute_result"
    }
   ],
   "source": [
    "my_jitted_fun(x)"
   ]
  },
  {
   "cell_type": "code",
   "execution_count": 41,
   "id": "c96e6bb7-5096-44af-8016-fcc821872b2e",
   "metadata": {},
   "outputs": [
    {
     "name": "stdout",
     "output_type": "stream",
     "text": [
      "3.66 µs ± 271 ns per loop (mean ± std. dev. of 7 runs, 100,000 loops each)\n"
     ]
    }
   ],
   "source": [
    "%%timeit \n",
    "my_jitted_fun(v)"
   ]
  },
  {
   "cell_type": "code",
   "execution_count": 42,
   "id": "a1d77c34-1827-49d4-9698-831c216ae86e",
   "metadata": {},
   "outputs": [
    {
     "name": "stdout",
     "output_type": "stream",
     "text": [
      "19.2 µs ± 343 ns per loop (mean ± std. dev. of 7 runs, 10,000 loops each)\n"
     ]
    }
   ],
   "source": [
    "%%timeit \n",
    "my_fun(v)"
   ]
  },
  {
   "cell_type": "markdown",
   "id": "f809788e-b297-4cc3-914a-3d9720648261",
   "metadata": {},
   "source": [
    "We can also inspect the tape:"
   ]
  },
  {
   "cell_type": "code",
   "execution_count": 43,
   "id": "a2d25ea9-ebc4-40fa-a745-0f2061c25d5d",
   "metadata": {},
   "outputs": [
    {
     "data": {
      "text/plain": [
       "{ \u001b[34m\u001b[22m\u001b[1mlambda \u001b[39m\u001b[22m\u001b[22m; a\u001b[35m:f32[10]\u001b[39m. \u001b[34m\u001b[22m\u001b[1mlet\n",
       "    \u001b[39m\u001b[22m\u001b[22mb\u001b[35m:f32[]\u001b[39m = dot_general[\n",
       "      dimension_numbers=(((0,), (0,)), ((), ()))\n",
       "      precision=None\n",
       "      preferred_element_type=None\n",
       "    ] a a\n",
       "    c\u001b[35m:f32[]\u001b[39m = div b 2.0\n",
       "  \u001b[34m\u001b[22m\u001b[1min \u001b[39m\u001b[22m\u001b[22m(c,) }"
      ]
     },
     "execution_count": 43,
     "metadata": {},
     "output_type": "execute_result"
    }
   ],
   "source": [
    "jax.make_jaxpr(my_fun)(v)"
   ]
  },
  {
   "cell_type": "markdown",
   "id": "4ccfab40-cc41-4095-9aaa-8795b075e9a3",
   "metadata": {},
   "source": [
    "Remember, the original code was\n",
    "```python\n",
    "def my_fun(x):\n",
    "    div = 1.0 + 1.0\n",
    "    return jnp.dot(x.T,x)/div\n",
    "```\n",
    "\n",
    "But in the Intermediate Representation (IR) or JaxPR (Jax Program Representation) we see no mention of `div = 1+1`.\n",
    "That is because Jax only detects operations on Jax types, and ignores the others."
   ]
  },
  {
   "cell_type": "markdown",
   "id": "85effda8-c2ed-4bae-87f9-e570c6fc98e2",
   "metadata": {},
   "source": [
    "## 1.4.1 How jit works internally\n",
    "\n",
    "Jit, and all other jax program transformations works internally by executing your code with some _mock_ objects: instead of doing operations with arrays containing data, they execute it using some `Tracers`, empty boxes that contain some static data like the array shape and type but don't contain any numerical data.\n",
    "\n",
    "This is used in order to generate a static representation of the program, which then gets executed very fast with the real data *after* the compilation is terminated."
   ]
  },
  {
   "cell_type": "code",
   "execution_count": 91,
   "id": "fd92550c-f7fc-4cc9-bbba-05dd9f660690",
   "metadata": {},
   "outputs": [],
   "source": [
    "def my_fun(x):\n",
    "    print(f\"input has shape: {x.shape} and dtype {x.dtype}\")\n",
    "    print(f\"{x    = }\")\n",
    "    print(f\"{x[1] = }\")\n",
    "    div = 1+1\n",
    "    print(f\"{div  = }\")\n",
    "    y = jnp.dot(x.T,x)/div\n",
    "    print(f\"{y    = }\")\n",
    "    return y"
   ]
  },
  {
   "cell_type": "markdown",
   "id": "2443c997-a21e-4560-a178-a1f693e1b7c5",
   "metadata": {},
   "source": [
    "If we execute the non-jitted function, you'll see those print statements printing the arrays:"
   ]
  },
  {
   "cell_type": "code",
   "execution_count": 92,
   "id": "fbef300e-0e65-4307-9602-dec78640bfec",
   "metadata": {},
   "outputs": [
    {
     "name": "stdout",
     "output_type": "stream",
     "text": [
      "v = DeviceArray([1., 1., 1., 1., 1., 1., 1., 1., 1., 1.], dtype=float32)\n",
      "-------------------\n",
      "input has shape: (10,) and dtype float32\n",
      "x    = DeviceArray([1., 1., 1., 1., 1., 1., 1., 1., 1., 1.], dtype=float32)\n",
      "x[1] = DeviceArray(1., dtype=float32)\n",
      "div  = 2\n",
      "y    = DeviceArray(5., dtype=float32)\n",
      "-------------------\n",
      "res = DeviceArray(5., dtype=float32)\n"
     ]
    }
   ],
   "source": [
    "v = jnp.ones(10)\n",
    "print(f\"{v = }\")\n",
    "print(\"-------------------\")\n",
    "res = my_fun(v)\n",
    "print(\"-------------------\")\n",
    "print(f\"{res = }\")"
   ]
  },
  {
   "cell_type": "markdown",
   "id": "f1ae148c-d3c8-494b-9a0d-81bcc6a15276",
   "metadata": {},
   "source": [
    "But if we execute a function under `jax.jit` or any other jax transformation, you will see that the arrays are replaced with those empty Tracer that behave like arrays, but they are not."
   ]
  },
  {
   "cell_type": "code",
   "execution_count": 93,
   "id": "df80e6ee-ebba-4cda-9e96-ef147237938b",
   "metadata": {},
   "outputs": [
    {
     "name": "stdout",
     "output_type": "stream",
     "text": [
      "v = DeviceArray([1., 1., 1., 1., 1., 1., 1., 1., 1., 1.], dtype=float32)\n",
      "--------- First Run ----------\n",
      "input has shape: (10,) and dtype float32\n",
      "x    = Traced<ShapedArray(float32[10])>with<DynamicJaxprTrace(level=0/1)>\n",
      "x[1] = Traced<ShapedArray(float32[])>with<DynamicJaxprTrace(level=0/1)>\n",
      "div  = 2\n",
      "y    = Traced<ShapedArray(float32[])>with<DynamicJaxprTrace(level=0/1)>\n",
      "----------End of First Run ---------\n",
      "res = DeviceArray(5., dtype=float32)\n"
     ]
    }
   ],
   "source": [
    "jfun = jax.jit(my_fun)\n",
    "\n",
    "v = jnp.ones(10)\n",
    "print(f\"{v = }\")\n",
    "print(\"--------- First Run ----------\")\n",
    "res = jfun(v)\n",
    "print(\"----------End of First Run ---------\")\n",
    "print(f\"{res = }\")"
   ]
  },
  {
   "cell_type": "code",
   "execution_count": 94,
   "id": "dbd1d704-02a8-4d89-b170-25bf43a36687",
   "metadata": {},
   "outputs": [
    {
     "name": "stdout",
     "output_type": "stream",
     "text": [
      "--------- Second Run ----------\n",
      "----------Second Run ---------\n",
      "res = DeviceArray(5., dtype=float32)\n"
     ]
    }
   ],
   "source": [
    "print(\"--------- Second Run ----------\")\n",
    "res = jfun(v)\n",
    "print(\"----------Second Run ---------\")\n",
    "print(f\"{res = }\")"
   ]
  },
  {
   "cell_type": "markdown",
   "id": "aed4df78-195e-4cc8-af16-ed02a2af4421",
   "metadata": {},
   "source": [
    "### 1.4.2 Control Flow\n",
    "\n",
    "This 'abstract evaluation' has consequences when we try to write functions with control flow: we can use in if/else statements quantities that are _statically known_ during the _abstract evaluation_ such as array sizes."
   ]
  },
  {
   "cell_type": "code",
   "execution_count": 97,
   "id": "22c73a14-2d02-44b4-a3e8-3792e5a5139b",
   "metadata": {},
   "outputs": [],
   "source": [
    "def my_fun_check(x):\n",
    "    print(f\"executing with {x.shape}\")\n",
    "    if x.size > 5:\n",
    "        return x**2\n",
    "    else:\n",
    "        return x**3"
   ]
  },
  {
   "cell_type": "code",
   "execution_count": 99,
   "id": "6d7fdd7b-627f-4f1b-b3f7-8485c61cdbd1",
   "metadata": {},
   "outputs": [
    {
     "name": "stdout",
     "output_type": "stream",
     "text": [
      "executing with (3,)\n"
     ]
    },
    {
     "data": {
      "text/plain": [
       "{ \u001b[34m\u001b[22m\u001b[1mlambda \u001b[39m\u001b[22m\u001b[22m; a\u001b[35m:f32[3]\u001b[39m. \u001b[34m\u001b[22m\u001b[1mlet\u001b[39m\u001b[22m\u001b[22m b\u001b[35m:f32[3]\u001b[39m = integer_pow[y=3] a \u001b[34m\u001b[22m\u001b[1min \u001b[39m\u001b[22m\u001b[22m(b,) }"
      ]
     },
     "execution_count": 99,
     "metadata": {},
     "output_type": "execute_result"
    }
   ],
   "source": [
    "jax.make_jaxpr(my_fun_check)(jnp.ones(3))"
   ]
  },
  {
   "cell_type": "code",
   "execution_count": null,
   "id": "8ca5d09f-0637-4f86-89c4-942903f8fe5d",
   "metadata": {},
   "outputs": [
    {
     "name": "stdout",
     "output_type": "stream",
     "text": [
      "executing with (6,)\n"
     ]
    },
    {
     "data": {
      "text/plain": [
       "{ \u001b[34m\u001b[22m\u001b[1mlambda \u001b[39m\u001b[22m\u001b[22m; a\u001b[35m:f32[6]\u001b[39m. \u001b[34m\u001b[22m\u001b[1mlet\u001b[39m\u001b[22m\u001b[22m b\u001b[35m:f32[6]\u001b[39m = integer_pow[y=2] a \u001b[34m\u001b[22m\u001b[1min \u001b[39m\u001b[22m\u001b[22m(b,) }"
      ]
     },
     "execution_count": 100,
     "metadata": {},
     "output_type": "execute_result"
    }
   ],
   "source": [
    "jax.make_jaxpr(my_fun_check)(jnp.ones(3))"
   ]
  },
  {
   "cell_type": "markdown",
   "id": "6fc2cb66-43e8-4ece-9a05-05e84c3e3e27",
   "metadata": {},
   "source": [
    "But we cannot do use in if/else checks any information that depends on the *content* of the arrays.\n",
    "Consider for example the function `relu`"
   ]
  },
  {
   "cell_type": "code",
   "execution_count": 104,
   "id": "f29169c2-00aa-4d58-87c5-f844408ce73d",
   "metadata": {},
   "outputs": [],
   "source": [
    "def my_relu(x):\n",
    "    cond = x>0\n",
    "    print(f\"{x    = }\")\n",
    "    print(f\"{cond = }\")\n",
    "    if cond:\n",
    "        return x\n",
    "    else:\n",
    "        return 0.0"
   ]
  },
  {
   "cell_type": "markdown",
   "id": "40f1d0c3-c61e-4b74-a092-49ce66a8139b",
   "metadata": {},
   "source": [
    "If we execute it normally with Python everything is a standard *concrete* type:"
   ]
  },
  {
   "cell_type": "code",
   "execution_count": 106,
   "id": "0c410525-d3bf-4ea5-a9fa-5a0524376d86",
   "metadata": {},
   "outputs": [
    {
     "name": "stdout",
     "output_type": "stream",
     "text": [
      "x    = 3.0\n",
      "cond = True\n"
     ]
    },
    {
     "data": {
      "text/plain": [
       "3.0"
      ]
     },
     "execution_count": 106,
     "metadata": {},
     "output_type": "execute_result"
    }
   ],
   "source": [
    "my_relu(3.0)"
   ]
  },
  {
   "cell_type": "markdown",
   "id": "c41b13dd-67a9-4dc1-a046-80c01b8a86c5",
   "metadata": {},
   "source": [
    "But if we execute it under a Jax.jit, x will be an empty cotainer so it's impossible to know if $x>0$ or not until the program is actually executed with some data."
   ]
  },
  {
   "cell_type": "code",
   "execution_count": 107,
   "id": "951ac462-fa12-4f6b-93ac-1f752ba574c0",
   "metadata": {},
   "outputs": [
    {
     "name": "stdout",
     "output_type": "stream",
     "text": [
      "x    = Traced<ShapedArray(int32[], weak_type=True)>with<DynamicJaxprTrace(level=1/0)>\n",
      "cond = Traced<ShapedArray(bool[], weak_type=True)>with<DynamicJaxprTrace(level=1/0)>\n"
     ]
    },
    {
     "ename": "ConcretizationTypeError",
     "evalue": "Abstract tracer value encountered where concrete value is expected: Traced<ShapedArray(bool[], weak_type=True)>with<DynamicJaxprTrace(level=1/0)>\nThe problem arose with the `bool` function. \n\nSee https://jax.readthedocs.io/en/latest/errors.html#jax.errors.ConcretizationTypeError",
     "output_type": "error",
     "traceback": [
      "\u001b[0;31m---------------------------------------------------------------------------\u001b[0m",
      "\u001b[0;31mConcretizationTypeError\u001b[0m                   Traceback (most recent call last)",
      "Input \u001b[0;32mIn [107]\u001b[0m, in \u001b[0;36m<module>\u001b[0;34m\u001b[0m\n\u001b[0;32m----> 1\u001b[0m \u001b[43mjax\u001b[49m\u001b[38;5;241;43m.\u001b[39;49m\u001b[43mmake_jaxpr\u001b[49m\u001b[43m(\u001b[49m\u001b[43mmy_relu\u001b[49m\u001b[43m)\u001b[49m\u001b[43m(\u001b[49m\u001b[38;5;241;43m3\u001b[39;49m\u001b[43m)\u001b[49m\n",
      "    \u001b[0;31m[... skipping hidden 6 frame]\u001b[0m\n",
      "Input \u001b[0;32mIn [104]\u001b[0m, in \u001b[0;36mmy_relu\u001b[0;34m(x)\u001b[0m\n\u001b[1;32m      3\u001b[0m \u001b[38;5;28mprint\u001b[39m(\u001b[38;5;124mf\u001b[39m\u001b[38;5;124m\"\u001b[39m\u001b[38;5;132;01m{\u001b[39;00mx    \u001b[38;5;132;01m= }\u001b[39;00m\u001b[38;5;124m\"\u001b[39m)\n\u001b[1;32m      4\u001b[0m \u001b[38;5;28mprint\u001b[39m(\u001b[38;5;124mf\u001b[39m\u001b[38;5;124m\"\u001b[39m\u001b[38;5;132;01m{\u001b[39;00mcond \u001b[38;5;132;01m= }\u001b[39;00m\u001b[38;5;124m\"\u001b[39m)\n\u001b[0;32m----> 5\u001b[0m \u001b[38;5;28;01mif\u001b[39;00m cond:\n\u001b[1;32m      6\u001b[0m     \u001b[38;5;28;01mreturn\u001b[39;00m x\n\u001b[1;32m      7\u001b[0m \u001b[38;5;28;01melse\u001b[39;00m:\n",
      "    \u001b[0;31m[... skipping hidden 1 frame]\u001b[0m\n",
      "File \u001b[0;32m~/Documents/pythonenvs/netket_env/lib/python3.9/site-packages/jax/core.py:1065\u001b[0m, in \u001b[0;36mconcretization_function_error.<locals>.error\u001b[0;34m(self, arg)\u001b[0m\n\u001b[1;32m   1064\u001b[0m \u001b[38;5;28;01mdef\u001b[39;00m \u001b[38;5;21merror\u001b[39m(\u001b[38;5;28mself\u001b[39m, arg):\n\u001b[0;32m-> 1065\u001b[0m   \u001b[38;5;28;01mraise\u001b[39;00m ConcretizationTypeError(arg, fname_context)\n",
      "\u001b[0;31mConcretizationTypeError\u001b[0m: Abstract tracer value encountered where concrete value is expected: Traced<ShapedArray(bool[], weak_type=True)>with<DynamicJaxprTrace(level=1/0)>\nThe problem arose with the `bool` function. \n\nSee https://jax.readthedocs.io/en/latest/errors.html#jax.errors.ConcretizationTypeError"
     ]
    }
   ],
   "source": [
    "jax.make_jaxpr(my_relu)(3)"
   ]
  },
  {
   "cell_type": "markdown",
   "id": "70f376f8-2186-409f-9cdb-c4f090e3c402",
   "metadata": {},
   "source": [
    "In this case we have to use some jax-built-in functions that record into the tap the `if/else` without actually executing it:"
   ]
  },
  {
   "cell_type": "code",
   "execution_count": 112,
   "id": "6b9d41cf-6068-44b1-bf1b-9508f3108c28",
   "metadata": {},
   "outputs": [],
   "source": [
    "def my_good_relu(x):\n",
    "    print(f\"{x    = }\")\n",
    "    cond = x>0\n",
    "    print(f\"{cond = }\")\n",
    "    res = jnp.where(x>0, x, 0)\n",
    "    print(f\"{res  = }\")\n",
    "    return res"
   ]
  },
  {
   "cell_type": "code",
   "execution_count": 113,
   "id": "62060280-7ab7-4859-853e-77ee1c96c4b8",
   "metadata": {},
   "outputs": [
    {
     "name": "stdout",
     "output_type": "stream",
     "text": [
      "x    = Traced<ShapedArray(int32[], weak_type=True)>with<DynamicJaxprTrace(level=1/0)>\n",
      "cond = Traced<ShapedArray(bool[], weak_type=True)>with<DynamicJaxprTrace(level=1/0)>\n",
      "res  = Traced<ShapedArray(int32[], weak_type=True)>with<DynamicJaxprTrace(level=1/0)>\n"
     ]
    },
    {
     "data": {
      "text/plain": [
       "{ \u001b[34m\u001b[22m\u001b[1mlambda \u001b[39m\u001b[22m\u001b[22m; a\u001b[35m:i32[]\u001b[39m. \u001b[34m\u001b[22m\u001b[1mlet\n",
       "    \u001b[39m\u001b[22m\u001b[22m_\u001b[35m:bool[]\u001b[39m = gt a 0\n",
       "    b\u001b[35m:bool[]\u001b[39m = gt a 0\n",
       "    c\u001b[35m:i32[]\u001b[39m = xla_call[\n",
       "      call_jaxpr={ \u001b[34m\u001b[22m\u001b[1mlambda \u001b[39m\u001b[22m\u001b[22m; d\u001b[35m:bool[]\u001b[39m e\u001b[35m:i32[]\u001b[39m f\u001b[35m:i32[]\u001b[39m. \u001b[34m\u001b[22m\u001b[1mlet\n",
       "          \u001b[39m\u001b[22m\u001b[22mg\u001b[35m:i32[]\u001b[39m = select_n d f e\n",
       "        \u001b[34m\u001b[22m\u001b[1min \u001b[39m\u001b[22m\u001b[22m(g,) }\n",
       "      name=_where\n",
       "    ] b a 0\n",
       "  \u001b[34m\u001b[22m\u001b[1min \u001b[39m\u001b[22m\u001b[22m(c,) }"
      ]
     },
     "execution_count": 113,
     "metadata": {},
     "output_type": "execute_result"
    }
   ],
   "source": [
    "jax.make_jaxpr(my_good_relu)(3)"
   ]
  },
  {
   "cell_type": "markdown",
   "id": "59bcb14b-842c-4293-b1a6-f341e0944bb2",
   "metadata": {},
   "source": [
    "### 1.4.3 Loops\n",
    "\n",
    "Loops have the same problem... we can't loop if we don't have the concrete value:"
   ]
  },
  {
   "cell_type": "code",
   "execution_count": 116,
   "id": "93cedaa4-0e85-4c47-9a63-1fe299cb3df9",
   "metadata": {},
   "outputs": [],
   "source": [
    "def my_pow(x, n):\n",
    "    i = 0\n",
    "    res = 1.0\n",
    "    while i < n:\n",
    "        res = res*x\n",
    "        i = i+1\n",
    "    return res"
   ]
  },
  {
   "cell_type": "code",
   "execution_count": 117,
   "id": "5ba2e5a6-7a89-4d11-9d9b-79982ba4316a",
   "metadata": {},
   "outputs": [
    {
     "data": {
      "text/plain": [
       "8.0"
      ]
     },
     "execution_count": 117,
     "metadata": {},
     "output_type": "execute_result"
    }
   ],
   "source": [
    "my_pow(2.0, 3)"
   ]
  },
  {
   "cell_type": "code",
   "execution_count": 192,
   "id": "a8709ce5-8ebf-42a8-b239-e2cce5d4ade5",
   "metadata": {},
   "outputs": [
    {
     "ename": "ConcretizationTypeError",
     "evalue": "Abstract tracer value encountered where concrete value is expected: Traced<ShapedArray(bool[], weak_type=True)>with<DynamicJaxprTrace(level=0/1)>\nThe problem arose with the `bool` function. \nWhile tracing the function my_pow at /var/folders/b2/0d8k0mb93wz6x66qz2c5b3f00000gn/T/ipykernel_6219/499193949.py:1 for jit, this concrete value was not available in Python because it depends on the value of the argument 'n'.\n\nSee https://jax.readthedocs.io/en/latest/errors.html#jax.errors.ConcretizationTypeError",
     "output_type": "error",
     "traceback": [
      "\u001b[0;31m---------------------------------------------------------------------------\u001b[0m",
      "\u001b[0;31mConcretizationTypeError\u001b[0m                   Traceback (most recent call last)",
      "Input \u001b[0;32mIn [192]\u001b[0m, in \u001b[0;36m<module>\u001b[0;34m\u001b[0m\n\u001b[0;32m----> 1\u001b[0m \u001b[43mjax\u001b[49m\u001b[38;5;241;43m.\u001b[39;49m\u001b[43mjit\u001b[49m\u001b[43m(\u001b[49m\u001b[43mmy_pow\u001b[49m\u001b[43m)\u001b[49m\u001b[43m(\u001b[49m\u001b[38;5;241;43m2.0\u001b[39;49m\u001b[43m,\u001b[49m\u001b[43m \u001b[49m\u001b[38;5;241;43m3\u001b[39;49m\u001b[43m)\u001b[49m\n",
      "    \u001b[0;31m[... skipping hidden 14 frame]\u001b[0m\n",
      "Input \u001b[0;32mIn [116]\u001b[0m, in \u001b[0;36mmy_pow\u001b[0;34m(x, n)\u001b[0m\n\u001b[1;32m      2\u001b[0m i \u001b[38;5;241m=\u001b[39m \u001b[38;5;241m0\u001b[39m\n\u001b[1;32m      3\u001b[0m res \u001b[38;5;241m=\u001b[39m \u001b[38;5;241m1.0\u001b[39m\n\u001b[0;32m----> 4\u001b[0m \u001b[38;5;28;01mwhile\u001b[39;00m i \u001b[38;5;241m<\u001b[39m n:\n\u001b[1;32m      5\u001b[0m     res \u001b[38;5;241m=\u001b[39m res\u001b[38;5;241m*\u001b[39mx\n\u001b[1;32m      6\u001b[0m     i \u001b[38;5;241m=\u001b[39m i\u001b[38;5;241m+\u001b[39m\u001b[38;5;241m1\u001b[39m\n",
      "    \u001b[0;31m[... skipping hidden 1 frame]\u001b[0m\n",
      "File \u001b[0;32m~/Documents/pythonenvs/netket_env/lib/python3.9/site-packages/jax/core.py:1065\u001b[0m, in \u001b[0;36mconcretization_function_error.<locals>.error\u001b[0;34m(self, arg)\u001b[0m\n\u001b[1;32m   1064\u001b[0m \u001b[38;5;28;01mdef\u001b[39;00m \u001b[38;5;21merror\u001b[39m(\u001b[38;5;28mself\u001b[39m, arg):\n\u001b[0;32m-> 1065\u001b[0m   \u001b[38;5;28;01mraise\u001b[39;00m ConcretizationTypeError(arg, fname_context)\n",
      "\u001b[0;31mConcretizationTypeError\u001b[0m: Abstract tracer value encountered where concrete value is expected: Traced<ShapedArray(bool[], weak_type=True)>with<DynamicJaxprTrace(level=0/1)>\nThe problem arose with the `bool` function. \nWhile tracing the function my_pow at /var/folders/b2/0d8k0mb93wz6x66qz2c5b3f00000gn/T/ipykernel_6219/499193949.py:1 for jit, this concrete value was not available in Python because it depends on the value of the argument 'n'.\n\nSee https://jax.readthedocs.io/en/latest/errors.html#jax.errors.ConcretizationTypeError"
     ]
    }
   ],
   "source": [
    "jax.jit(my_pow)(2.0, 3)"
   ]
  },
  {
   "cell_type": "code",
   "execution_count": 123,
   "id": "a6770d58-5447-44ac-9c90-d79d600bd6c3",
   "metadata": {},
   "outputs": [],
   "source": [
    "jpow = jax.jit(my_pow, static_argnames=['n'])"
   ]
  },
  {
   "cell_type": "code",
   "execution_count": 134,
   "id": "1bb46675-37a4-4d76-bc27-f7d584416d6e",
   "metadata": {},
   "outputs": [
    {
     "data": {
      "text/plain": [
       "DeviceArray(8., dtype=float32, weak_type=True)"
      ]
     },
     "execution_count": 134,
     "metadata": {},
     "output_type": "execute_result"
    }
   ],
   "source": [
    "jpow(2.0, 3)"
   ]
  },
  {
   "cell_type": "code",
   "execution_count": 139,
   "id": "8fad83c0-02c3-4af9-9fc3-9910185fb46a",
   "metadata": {},
   "outputs": [
    {
     "data": {
      "text/plain": [
       "{ \u001b[34m\u001b[22m\u001b[1mlambda \u001b[39m\u001b[22m\u001b[22m; a\u001b[35m:f32[]\u001b[39m. \u001b[34m\u001b[22m\u001b[1mlet\n",
       "    \u001b[39m\u001b[22m\u001b[22mb\u001b[35m:f32[]\u001b[39m = mul a 1.0\n",
       "    c\u001b[35m:f32[]\u001b[39m = mul b a\n",
       "    d\u001b[35m:f32[]\u001b[39m = mul c a\n",
       "  \u001b[34m\u001b[22m\u001b[1min \u001b[39m\u001b[22m\u001b[22m(d,) }"
      ]
     },
     "execution_count": 139,
     "metadata": {},
     "output_type": "execute_result"
    }
   ],
   "source": [
    "from functools import partial\n",
    "\n",
    "jax.make_jaxpr(partial(my_pow, n=3))(2.0)"
   ]
  },
  {
   "cell_type": "markdown",
   "id": "7d556310-ae48-4280-9921-d0128cdffafb",
   "metadata": {},
   "source": [
    "### 1.5 Automatic Vectorization (vmap)\n",
    "\n",
    "Consider the following simple code that computes the convolution of two one-dimensional vectors:"
   ]
  },
  {
   "cell_type": "code",
   "execution_count": 195,
   "id": "1d661efd-2bf4-4645-ac59-8b66b931d6d6",
   "metadata": {},
   "outputs": [],
   "source": [
    "def convolve(x, w):\n",
    "  output = []\n",
    "  for i in range(1, len(x)-1):\n",
    "    output.append(jnp.dot(x[i-1:i+2], w))\n",
    "  return jnp.array(output)"
   ]
  },
  {
   "cell_type": "code",
   "execution_count": 196,
   "id": "0e6a8904-bc02-41ba-aa9b-88ca630b87a3",
   "metadata": {},
   "outputs": [
    {
     "data": {
      "text/plain": [
       "DeviceArray([11., 20., 29.], dtype=float32)"
      ]
     },
     "execution_count": 196,
     "metadata": {},
     "output_type": "execute_result"
    }
   ],
   "source": [
    "x = jnp.arange(5)\n",
    "w = jnp.array([2., 3., 4.])\n",
    "\n",
    "convolve(x, w)"
   ]
  },
  {
   "cell_type": "markdown",
   "id": "8b2ebd7d-63bb-4aa9-8351-6915a7a8fad7",
   "metadata": {},
   "source": [
    "Suppose we would like to apply this function to a batch of weights $w$ to a batch of vectors $x$"
   ]
  },
  {
   "cell_type": "code",
   "execution_count": 200,
   "id": "71ac13df-d3f1-4576-9381-f5ce33dfe15c",
   "metadata": {},
   "outputs": [],
   "source": [
    "xs = jnp.stack([x, 2*x])\n",
    "ws = jnp.stack([w, 2*w])"
   ]
  },
  {
   "cell_type": "markdown",
   "id": "1315eb89-4c39-46a0-8d30-ccdbc87f707e",
   "metadata": {},
   "source": [
    "The most naive option would be to simply loop over the batch in Python:\n",
    "\n"
   ]
  },
  {
   "cell_type": "code",
   "execution_count": 201,
   "id": "b227a1e0-6deb-47eb-a331-6f239db0b4a0",
   "metadata": {},
   "outputs": [
    {
     "data": {
      "text/plain": [
       "DeviceArray([[ 11.,  20.,  29.],\n",
       "             [ 44.,  80., 116.]], dtype=float32)"
      ]
     },
     "execution_count": 201,
     "metadata": {},
     "output_type": "execute_result"
    }
   ],
   "source": [
    "def manually_batched_convolve(xs, ws):\n",
    "  output = []\n",
    "  for i in range(xs.shape[0]):\n",
    "    output.append(convolve(xs[i], ws[i]))\n",
    "  return jnp.stack(output)\n",
    "\n",
    "manually_batched_convolve(xs, ws)"
   ]
  },
  {
   "cell_type": "markdown",
   "id": "2cfc390b-838d-4016-8a85-14025e18ffca",
   "metadata": {},
   "source": [
    "This produces the correct result, however it is not very efficient.\n",
    "\n",
    "In order to batch the computation efficiently, you would normally have to rewrite the function manually to ensure it is done in vectorized form. This is not particularly difficult to implement, but does involve changing how the function treats indices, axes, and other parts of the input.\n",
    "\n",
    "For example, we could manually rewrite convolve() to support vectorized computation across the batch dimension as follows"
   ]
  },
  {
   "cell_type": "code",
   "execution_count": 202,
   "id": "a1107da1-1a50-4854-b209-595bab7c15f7",
   "metadata": {},
   "outputs": [
    {
     "data": {
      "text/plain": [
       "DeviceArray([[ 11.,  20.,  29.],\n",
       "             [ 44.,  80., 116.]], dtype=float32)"
      ]
     },
     "execution_count": 202,
     "metadata": {},
     "output_type": "execute_result"
    }
   ],
   "source": [
    "auto_batch_convolve = jax.vmap(convolve)\n",
    "\n",
    "auto_batch_convolve(xs, ws)"
   ]
  },
  {
   "cell_type": "code",
   "execution_count": 203,
   "id": "5215886e-00aa-469a-93b7-682491b90bde",
   "metadata": {},
   "outputs": [
    {
     "data": {
      "text/plain": [
       "DeviceArray([[ 11.,  20.,  29.],\n",
       "             [ 44.,  80., 116.]], dtype=float32)"
      ]
     },
     "execution_count": 203,
     "metadata": {},
     "output_type": "execute_result"
    }
   ],
   "source": [
    "jitted_batch_convolve = jax.jit(auto_batch_convolve)\n",
    "\n",
    "jitted_batch_convolve(xs, ws)\n",
    "\n"
   ]
  },
  {
   "cell_type": "markdown",
   "id": "a101d5f4-fda8-4efc-9196-30d09413b3e9",
   "metadata": {},
   "source": [
    "## 2 - Gradients and autodiff\n",
    "\n",
    "For a full overview of JAX's automatic differentiation system, you can check the [Autodiff Cookbook](https://jax.readthedocs.io/en/latest/notebooks/autodiff_cookbook.html).\n",
    "\n",
    "Even though, theoretically, a VJP (Vector-Jacobian product - reverse autodiff) and a JVP (Jacobian-Vector product - forward-mode autodiff) are similar—they compute a product of a Jacobian and a vector—they differ by the computational complexity of the operation. In short, when you have a large number of parameters (hence a wide matrix), a JVP is less efficient computationally than a VJP, and, conversely, a JVP is more efficient when the Jacobian matrix is a tall matrix. You can read more in the JAX [cookbook](https://jax.readthedocs.io/en/latest/notebooks/autodiff_cookbook.html#jacobian-vector-products-jvps-aka-forward-mode-autodiff) [notebook](https://jax.readthedocs.io/en/latest/notebooks/autodiff_cookbook.html#vector-jacobian-products-vjps-aka-reverse-mode-autodiff) mentioned above.\n",
    "\n",
    "### 2.1 - Gradients\n",
    "\n",
    "JAX provides first-class support for gradients and automatic differentiation in functions. This is also where the functional paradigm shines, since gradients on functions are essentially stateless operations. If we consider a simple function $f:\\mathbb{R}^n\\rightarrow\\mathbb{R}$\n",
    "\n",
    "$$f(x) = \\frac{1}{2} x^T x$$\n",
    "\n",
    "with the (known) gradient:\n",
    "$$\\nabla f(x) = x$$"
   ]
  },
  {
   "cell_type": "code",
   "execution_count": 286,
   "id": "7b2d737c-0d66-4664-a3dd-ab848b15d284",
   "metadata": {},
   "outputs": [
    {
     "name": "stdout",
     "output_type": "stream",
     "text": [
      "[1. 1. 1. 1.]\n"
     ]
    },
    {
     "data": {
      "text/plain": [
       "DeviceArray(2., dtype=float32)"
      ]
     },
     "execution_count": 286,
     "metadata": {},
     "output_type": "execute_result"
    }
   ],
   "source": [
    "def f(x):\n",
    "    return jnp.dot(x.T,x)/2.0\n",
    "\n",
    "print(v)\n",
    "v = jnp.ones((4,))\n",
    "f(v)"
   ]
  },
  {
   "cell_type": "markdown",
   "id": "c4b2822b-01c4-48ae-9eff-2297dcff908b",
   "metadata": {},
   "source": [
    "JAX computes the gradient as an operator acting on functions with `jax.grad`. Note that this only works for scalar valued functions.\n",
    "\n",
    "Let's take the gradient of f and make sure it matches the identity map."
   ]
  },
  {
   "cell_type": "code",
   "execution_count": 289,
   "id": "39147a68-0567-461d-9045-911e2a915db9",
   "metadata": {},
   "outputs": [],
   "source": [
    "grad_f = jax.grad(f)"
   ]
  },
  {
   "cell_type": "code",
   "execution_count": 290,
   "id": "eeb43519-b228-4b27-873d-9f3d6e5bcb6c",
   "metadata": {},
   "outputs": [
    {
     "name": "stdout",
     "output_type": "stream",
     "text": [
      "Gradient of f taken at point v\n",
      "[1. 1. 1. 1.]\n"
     ]
    }
   ],
   "source": [
    "print(\"Gradient of f taken at point v\")\n",
    "print(grad_f(v)) # should be equal to v !"
   ]
  },
  {
   "cell_type": "markdown",
   "id": "98d00b7f-de4a-4552-b768-ca99498b3273",
   "metadata": {},
   "source": [
    "We can inspect the tape by using `jax.make_jaxpr(my_function)(input)`.\n",
    "This substitutes to the inputs equivalent tapes, records every operation, and then\n",
    "prints it.\n",
    "\n",
    "In this intermediate representation (IR), every 'variable' is assigned only once and there is only one operation per 'line'.\n",
    "\n",
    " - The first line lists the inputs (in this case we have only one input, 'a', which we know is a vector.\n",
    " - The second line says that 'b' is obtained by doing `dot_general(a,a)`, which is the generic operation corresponding to dot product\n",
    " - The third line says that `c` is obtained by dividing `b` by `2.0`\n",
    " - The last line says that `c` should be returned."
   ]
  },
  {
   "cell_type": "code",
   "execution_count": 291,
   "id": "b68ceb09-c335-42fe-adc8-682e6a947f60",
   "metadata": {},
   "outputs": [
    {
     "data": {
      "text/plain": [
       "{ lambda  ; a.\n",
       "  let b = dot_general[ dimension_numbers=(((0,), (0,)), ((), ()))\n",
       "                       precision=None\n",
       "                       preferred_element_type=None ] a a\n",
       "      c = div b 2.0\n",
       "  in (c,) }"
      ]
     },
     "execution_count": 291,
     "metadata": {},
     "output_type": "execute_result"
    }
   ],
   "source": [
    "jax.make_jaxpr(f)(v)"
   ]
  },
  {
   "cell_type": "markdown",
   "id": "d56b37b0-34e4-4476-abfe-ac1fdd407afc",
   "metadata": {},
   "source": [
    "We can also inspect the IR of the gradient of f, in much the same way.\n",
    "Grad does backward differentiation, so it first executes the `forward pass` or the function itself, and then _pulls back_ a value of `1.0` with the jacobian of the function.\n",
    "\n",
    "The first 3 lines are equivalent to the previous function, however, the following lines are interesting.\n",
    "\n",
    "*They can be thought of as executing the tape backwards by replacing every operation with its adjoint/pullback.*\n",
    "\n",
    " - Line 4: (adjoint of c=b/2) take the sensitivity input `1.0` (adjoint of the output) and multiply it by 2. `c=1.0*2`\n",
    " - Line 5: `d = c * a`\n",
    " - Line 6: `e = c * a`\n",
    " - Line 7 : return `d+e`"
   ]
  },
  {
   "cell_type": "code",
   "execution_count": 292,
   "id": "1a3fbff2-78a9-437d-becb-d120e499d9d5",
   "metadata": {},
   "outputs": [
    {
     "data": {
      "text/plain": [
       "{ lambda  ; a.\n",
       "  let b = dot_general[ dimension_numbers=(((0,), (0,)), ((), ()))\n",
       "                       precision=None\n",
       "                       preferred_element_type=None ] a a\n",
       "      _ = div b 2.0\n",
       "      c = div 1.0 2.0\n",
       "      d = dot_general[ dimension_numbers=(((), ()), ((), ()))\n",
       "                       precision=None\n",
       "                       preferred_element_type=None ] c a\n",
       "      e = dot_general[ dimension_numbers=(((), ()), ((), ()))\n",
       "                       precision=None\n",
       "                       preferred_element_type=None ] c a\n",
       "      f = add_any d e\n",
       "  in (f,) }"
      ]
     },
     "execution_count": 292,
     "metadata": {},
     "output_type": "execute_result"
    }
   ],
   "source": [
    "jax.make_jaxpr(jax.grad(f))(v)"
   ]
  },
  {
   "cell_type": "code",
   "execution_count": 293,
   "id": "f46e785d-3f97-4f6e-8100-7de855cc4388",
   "metadata": {},
   "outputs": [
    {
     "data": {
      "text/plain": [
       "DeviceArray(2., dtype=float32)"
      ]
     },
     "execution_count": 293,
     "metadata": {},
     "output_type": "execute_result"
    }
   ],
   "source": [
    "jax.grad(f)(2.0)"
   ]
  },
  {
   "cell_type": "code",
   "execution_count": 305,
   "id": "7b8acbec-6067-4b57-8761-424e2ef1f2b3",
   "metadata": {},
   "outputs": [],
   "source": [
    "z = 1.0\n",
    "\n",
    "@jax.jit\n",
    "def f(x):\n",
    "    y = x*x\n",
    "    return y*z "
   ]
  },
  {
   "cell_type": "code",
   "execution_count": 307,
   "id": "389474bc-cea2-4dec-85e0-259f4a3b274b",
   "metadata": {},
   "outputs": [
    {
     "data": {
      "text/plain": [
       "DeviceArray(1., dtype=float32, weak_type=True)"
      ]
     },
     "execution_count": 307,
     "metadata": {},
     "output_type": "execute_result"
    }
   ],
   "source": [
    "z = 2.0\n",
    "f(1)"
   ]
  },
  {
   "cell_type": "markdown",
   "id": "edc8b058-cf64-44bc-ae61-92d488eca41a",
   "metadata": {},
   "source": [
    "## Going deeper\n",
    " \n",
    "Let's assume a more complicated example: consider a variational function $f : \\mathbb{R}^M -> \\mathbb{R}^N$, which takes as input a set of parameters $W$ and gives out a vector $\\vec{v}=\\vec{f}(W)$.\n",
    "\n",
    "Now, given the matrix $A\\in \\mathbb{R}^N\\times\\mathbb{R}^N$, assume we want to minimise the loss\n",
    "\n",
    "$$\n",
    "\\mathcal{L}(W) = \\vec{v}^T A \\vec{v} = \\vec{f}^T(W) A \\vec{f}(W)\n",
    "$$\n",
    "\n",
    "We can define the Jacobian $\\mathbb{R}^M \\times \\mathbb{R}^N \\ni J_{f}|_W = df(W)/dW$ \n",
    "The gradient of this function will be \n",
    "\n",
    "$$\\nabla_W \\mathcal{L}(W) = 2 J_f|_W A$$"
   ]
  },
  {
   "cell_type": "markdown",
   "id": "864bdb5e-d3fb-4ef6-ba8e-78ba0c15e048",
   "metadata": {},
   "source": [
    "## 3 - Linear Regression in Jax\n",
    "\n",
    "Let's implement one of the simplest models using everything we have seen so far: a linear regression. From a set of data points $\\{(x_i,y_i), i\\in \\{1,\\ldots, k\\}, x_i\\in\\mathbb{R}^n,y_i\\in\\mathbb{R}^m\\}$, we try to find a set of parameters $W\\in \\mathcal{M}_{m,n}(\\mathbb{R}), b\\in\\mathbb{R}^m$ such that the function $f_{W,b}(x)=Wx+b$ minimizes the mean squared error:\n",
    "$$\\mathcal{L}(W,b)\\rightarrow\\frac{1}{k}\\sum_{i=1}^{k} \\frac{1}{2}\\|y_i-f_{W,b}(x_i)\\|^2_2$$\n",
    "\n",
    "(Note: depending on how you cast the regression problem you might end up with different setups. Theoretically we should be minimizing the expectation of the loss wrt to the data distribution, however for the sake of simplicity here we consider only the sampled loss)."
   ]
  },
  {
   "cell_type": "code",
   "execution_count": 143,
   "id": "695d6d71-914d-4865-8af0-d82d7b2623b0",
   "metadata": {},
   "outputs": [],
   "source": [
    "from matplotlib import pyplot as plt \n",
    "\n",
    "from sklearn.datasets import make_regression\n",
    "from sklearn.model_selection import train_test_split"
   ]
  },
  {
   "cell_type": "code",
   "execution_count": 144,
   "id": "eaf8a1a9-a843-40cb-8b04-44b6ced35f6a",
   "metadata": {},
   "outputs": [
    {
     "name": "stdout",
     "output_type": "stream",
     "text": [
      "x shape is: (100, 1)\n",
      "y shape is: (100, 1)\n"
     ]
    }
   ],
   "source": [
    "in_dimension = 1\n",
    "out_dimension = 1\n",
    "\n",
    "x, y = make_regression(n_samples=100, \n",
    "                       n_features=in_dimension, \n",
    "                       n_targets=out_dimension, \n",
    "                       noise=10)\n",
    "y = y / jnp.sqrt(jnp.mean(jnp.square(y)))\n",
    "print(f\"x shape is: {x.shape}\")\n",
    "print(f\"y shape is: {x.shape}\")"
   ]
  },
  {
   "cell_type": "code",
   "execution_count": 145,
   "id": "6074c084-8e70-44d8-970d-c87b86c1cc14",
   "metadata": {},
   "outputs": [
    {
     "data": {
      "text/plain": [
       "[<matplotlib.lines.Line2D at 0x13855a9d0>]"
      ]
     },
     "execution_count": 145,
     "metadata": {},
     "output_type": "execute_result"
    },
    {
     "data": {
      "image/png": "[encoded data removed]",
      "text/plain": [
       "<Figure size 432x288 with 1 Axes>"
      ]
     },
     "metadata": {
      "needs_background": "light"
     },
     "output_type": "display_data"
    }
   ],
   "source": [
    "plt.plot(x,y, '*')"
   ]
  },
  {
   "cell_type": "code",
   "execution_count": 176,
   "id": "aadfe041-a420-4c14-837f-aa020e960a77",
   "metadata": {},
   "outputs": [
    {
     "name": "stdout",
     "output_type": "stream",
     "text": [
      "{'z': DeviceArray([0.], dtype=float32), 'w': DeviceArray([0.], dtype=float32), 'b': DeviceArray(0., dtype=float32, weak_type=True)}\n"
     ]
    }
   ],
   "source": [
    "# let's try to fit this with a line\n",
    "params = {\n",
    "    'z': jnp.zeros(x.shape[1:]),\n",
    "    'w': jnp.zeros(x.shape[1:]),\n",
    "    'b': jnp.array(0.)\n",
    "}\n",
    "\n",
    "print(params)\n",
    "\n",
    "def approxfun(params, x):\n",
    "    return jnp.dot(x, params['w']) + params['b'] + jnp.dot(x**2, params['z'])\n"
   ]
  },
  {
   "cell_type": "code",
   "execution_count": 177,
   "id": "1f31247a-d9de-42fb-b171-bf99878e0cdc",
   "metadata": {},
   "outputs": [
    {
     "data": {
      "text/plain": [
       "[<matplotlib.lines.Line2D at 0x1415aeb80>]"
      ]
     },
     "execution_count": 177,
     "metadata": {},
     "output_type": "execute_result"
    },
    {
     "data": {
      "image/png": "[encoded data removed]",
      "text/plain": [
       "<Figure size 432x288 with 1 Axes>"
      ]
     },
     "metadata": {
      "needs_background": "light"
     },
     "output_type": "display_data"
    }
   ],
   "source": [
    "# generate all points in an interval\n",
    "_xpts = jnp.linspace(-2,2,10)\n",
    "plt.plot(_xpts, jax.vmap(approxfun, in_axes=(None, 0))(params, _xpts))\n",
    "plt.plot(x,y, '*')"
   ]
  },
  {
   "cell_type": "markdown",
   "id": "b7555184-5cb8-47d5-ba5c-ae85d360c8d4",
   "metadata": {},
   "source": [
    "Let's try to define the function we want to optimise\n",
    "\n",
    "$$\\mathcal{L}(W,b)\\rightarrow\\frac{1}{k}\\sum_{i=1}^{k} \\frac{1}{2}\\|y_i-f_{W,b}(x_i)\\|^2_2$$"
   ]
  },
  {
   "cell_type": "code",
   "execution_count": 178,
   "id": "a124d6cc-aad3-47ea-88a1-74a80ebdb8d4",
   "metadata": {},
   "outputs": [],
   "source": [
    "def loss_fn(params, xs, ys):\n",
    "    \n",
    "    # function returning squared error of a single datapoint\n",
    "    def squared_error(x,y):\n",
    "          y_pred = approxfun(params, x)\n",
    "          return jnp.square(y-y_pred)/2.0\n",
    "    \n",
    "    squared_error_vmap = jax.vmap(squared_error)\n",
    "    return jnp.mean(squared_error_vmap(xs, ys), axis=0)"
   ]
  },
  {
   "cell_type": "code",
   "execution_count": 179,
   "id": "2f02163e-2b4c-4dd2-8a92-eaea7dd3609b",
   "metadata": {},
   "outputs": [],
   "source": [
    "grad_fn = jax.jit(jax.grad(loss_fn, argnums=0))"
   ]
  },
  {
   "cell_type": "code",
   "execution_count": 180,
   "id": "dc0bca1b-0366-4f43-9438-9f0403ff2d3a",
   "metadata": {},
   "outputs": [],
   "source": [
    "# we pick a gradient-descent step size\n",
    "learning_rate = 0.01\n",
    "\n",
    "# A list to hold our loss value as a function of iteration\n",
    "loss_history = []\n",
    "\n",
    "for _ in range(200):\n",
    "    loss = loss_fn(params, x, y)\n",
    "    loss_history.append(loss)\n",
    "\n",
    "    grads = grad_fn(params, x, y)\n",
    "    params['w'] = params['w'] - learning_rate * grads['w']\n",
    "    params['b'] = params['b'] - learning_rate * grads['b']\n",
    "    params['z'] = params['z'] - learning_rate * grads['z']\n",
    "\n"
   ]
  },
  {
   "cell_type": "code",
   "execution_count": 181,
   "id": "958b4d9c-7ad9-49b8-82fc-0830ed18bc44",
   "metadata": {},
   "outputs": [
    {
     "data": {
      "text/plain": [
       "Text(0, 0.5, 'Loss value')"
      ]
     },
     "execution_count": 181,
     "metadata": {},
     "output_type": "execute_result"
    },
    {
     "data": {
      "image/png": "[encoded data removed]",
      "text/plain": [
       "<Figure size 432x288 with 1 Axes>"
      ]
     },
     "metadata": {
      "needs_background": "light"
     },
     "output_type": "display_data"
    }
   ],
   "source": [
    "plt.plot(loss_history)\n",
    "plt.xlabel(\"Iteration\")\n",
    "plt.ylabel(\"Loss value\")"
   ]
  },
  {
   "cell_type": "code",
   "execution_count": 182,
   "id": "5a334255-55a1-4bd2-86d9-0c0d5cdc3555",
   "metadata": {},
   "outputs": [
    {
     "data": {
      "text/plain": [
       "[<matplotlib.lines.Line2D at 0x14160e460>]"
      ]
     },
     "execution_count": 182,
     "metadata": {},
     "output_type": "execute_result"
    },
    {
     "data": {
      "image/png": "[encoded data removed]",
      "text/plain": [
       "<Figure size 432x288 with 1 Axes>"
      ]
     },
     "metadata": {
      "needs_background": "light"
     },
     "output_type": "display_data"
    }
   ],
   "source": [
    "# generate all points in an interval\n",
    "_xpts = jnp.linspace(-2,2,10)\n",
    "plt.plot(_xpts, jax.vmap(approxfun, in_axes=(None, 0))(params, _xpts))\n",
    "plt.plot(x,y, '*')"
   ]
  },
  {
   "cell_type": "markdown",
   "id": "26c0ac38-5f78-4000-8160-2b33d8f830c6",
   "metadata": {},
   "source": [
    "## 3.1 Interlude: Working with PyTrees\n",
    "\n",
    "You've seen that we have stored the parameters of our NN into a dictionary with many elements inside"
   ]
  },
  {
   "cell_type": "code",
   "execution_count": 183,
   "id": "203d6a3e-3a46-45e0-b1f8-eb99d86e5315",
   "metadata": {},
   "outputs": [
    {
     "name": "stdout",
     "output_type": "stream",
     "text": [
      "{'z': DeviceArray([-0.04163698], dtype=float32), 'w': DeviceArray([0.24668004], dtype=float32), 'b': DeviceArray(0.05511921, dtype=float32, weak_type=True)}\n"
     ]
    }
   ],
   "source": [
    "print(params)"
   ]
  },
  {
   "cell_type": "markdown",
   "id": "940608e7-9fbb-43e8-9f61-0e36322ba40a",
   "metadata": {},
   "source": [
    "Now, imagine I want to create a copy of those parameters where all are initialized at 0. How do I do that?"
   ]
  },
  {
   "cell_type": "code",
   "execution_count": 184,
   "id": "d8076862-1da8-425c-9754-431c8b947d06",
   "metadata": {},
   "outputs": [
    {
     "name": "stdout",
     "output_type": "stream",
     "text": [
      "{'z': DeviceArray([0.], dtype=float32), 'w': DeviceArray([0.], dtype=float32), 'b': DeviceArray(0., dtype=float32, weak_type=True)}\n"
     ]
    }
   ],
   "source": [
    "params_zero = {'z': jnp.zeros_like(params['z']), \n",
    "               'w': jnp.zeros_like(params['w']), \n",
    "               'b': jnp.zeros_like(params['b'])}\n",
    "\n",
    "print(params_zero)"
   ]
  },
  {
   "cell_type": "markdown",
   "id": "e6bac889-52ec-4b56-9762-57453615144a",
   "metadata": {},
   "source": [
    "But If I now change the structure of my parameters I have to change all my code...\n",
    "Is there a better way? \n",
    "\n",
    "Yes. With a loop?"
   ]
  },
  {
   "cell_type": "code",
   "execution_count": 185,
   "id": "186ac32b-f2b1-4871-9a8b-c6d1a2c358b5",
   "metadata": {},
   "outputs": [
    {
     "name": "stdout",
     "output_type": "stream",
     "text": [
      "{'z': DeviceArray([0.], dtype=float32), 'w': DeviceArray([0.], dtype=float32), 'b': DeviceArray(0., dtype=float32, weak_type=True)}\n"
     ]
    }
   ],
   "source": [
    "params_zero = {}\n",
    "for par_name in params.keys():\n",
    "    params_zero[par_name] = jnp.zeros_like(params[par_name])\n",
    "    \n",
    "print(params_zero)"
   ]
  },
  {
   "cell_type": "markdown",
   "id": "95be12d8-ffa2-4dd1-b834-04440193e5aa",
   "metadata": {},
   "source": [
    "But this changes if we now nest those dictionaries!\n",
    "Try to run the code above with"
   ]
  },
  {
   "cell_type": "code",
   "execution_count": 186,
   "id": "75370165-f1b9-490f-bbcd-36c4db54088e",
   "metadata": {},
   "outputs": [],
   "source": [
    "params_new = {'layer_0':params}"
   ]
  },
  {
   "cell_type": "markdown",
   "id": "d0d8aee9-5d7b-4bae-a062-790285548882",
   "metadata": {},
   "source": [
    "it will crash.\n",
    "Jax calls those objects \"PyTrees\", which are nested dictionaries containing, eventually, arrays.\n",
    "You can write a code equivalent to the above but that works for all input pytrees."
   ]
  },
  {
   "cell_type": "code",
   "execution_count": 187,
   "id": "880d5ea1-908d-4ceb-aa80-a4f6b52ffd64",
   "metadata": {},
   "outputs": [
    {
     "data": {
      "text/plain": [
       "{'b': DeviceArray(0., dtype=float32, weak_type=True),\n",
       " 'w': DeviceArray([0.], dtype=float32),\n",
       " 'z': DeviceArray([0.], dtype=float32)}"
      ]
     },
     "execution_count": 187,
     "metadata": {},
     "output_type": "execute_result"
    }
   ],
   "source": [
    "jax.tree_map(jnp.zeros_like, params)"
   ]
  },
  {
   "cell_type": "markdown",
   "id": "3b8637d8-9ca8-45b4-9648-dc22bdec530f",
   "metadata": {},
   "source": [
    "And what If I want to sum two sets of parameters? Let's say we have `pars_1` and `pars_2`"
   ]
  },
  {
   "cell_type": "code",
   "execution_count": 188,
   "id": "39f461d8-21a6-4e71-93d7-fba6cd97d511",
   "metadata": {},
   "outputs": [],
   "source": [
    "pars_1 = jax.tree_map(jnp.zeros_like, params)\n",
    "pars_2 = jax.tree_map(jnp.ones_like, params)"
   ]
  },
  {
   "cell_type": "code",
   "execution_count": 190,
   "id": "f465546e-9115-4079-8921-6d55e1c2eacb",
   "metadata": {},
   "outputs": [
    {
     "name": "stdout",
     "output_type": "stream",
     "text": [
      "{'z': DeviceArray([1.], dtype=float32), 'w': DeviceArray([1.], dtype=float32), 'b': DeviceArray(1., dtype=float32, weak_type=True)}\n"
     ]
    }
   ],
   "source": [
    "def oneplustwo(a1,a2):\n",
    "    return a1+a2\n",
    "\n",
    "params_1p2 = {}\n",
    "for par_name in params.keys():\n",
    "    params_1p2[par_name] = oneplustwo(pars_1[par_name], pars_2[par_name])\n",
    "    \n",
    "print(params_1p2)"
   ]
  },
  {
   "cell_type": "markdown",
   "id": "b017552a-2c83-4f01-9823-cb1c2d04704e",
   "metadata": {},
   "source": [
    "This can be condensed into a much more 'terse' language with the following:"
   ]
  },
  {
   "cell_type": "code",
   "execution_count": 191,
   "id": "06b2d9ef-e48c-4758-9237-a0a433d22442",
   "metadata": {},
   "outputs": [
    {
     "data": {
      "text/plain": [
       "{'b': DeviceArray(1., dtype=float32, weak_type=True),\n",
       " 'w': DeviceArray([1.], dtype=float32),\n",
       " 'z': DeviceArray([1.], dtype=float32)}"
      ]
     },
     "execution_count": 191,
     "metadata": {},
     "output_type": "execute_result"
    }
   ],
   "source": [
    "jax.tree_map(oneplustwo, pars_1, pars_2)"
   ]
  },
  {
   "cell_type": "markdown",
   "id": "045c38e9-1949-41c3-9f35-4d57ac58f447",
   "metadata": {},
   "source": [
    "## 3.1 - Linear Regression in Jax with Flax!\n",
    "\n",
    "In the previous example we had to define by hand the parameters and our _model_.\n",
    "Once we start using complicated models such as neural networks we don't want to do this by hand, but we want a library to do it for us.\n",
    "\n",
    "We will be using [Flax](https://github.com/google/flax), which is a Jax-compatible library for doing so.\n",
    "I chose this one because it is functional and immutable, so it is easier to reason about, however if you prefer object-oriented way-of thinking (😭) you're free to use [Haiku](https://github.com/deepmind/dm-haiku), [objax](https://objax.readthedocs.io) or many others.\n"
   ]
  },
  {
   "cell_type": "code",
   "execution_count": 371,
   "id": "fb882956-09ed-43ee-ad20-4159c5719256",
   "metadata": {},
   "outputs": [],
   "source": [
    "import flax.linen as nn"
   ]
  },
  {
   "cell_type": "markdown",
   "id": "ef2e3efe-b415-4d14-af1e-6c644a6b2f0e",
   "metadata": {},
   "source": [
    "A model in flax is defined as follows.\n",
    "Take the following as *boilerplate*, there's not much to understand. \n",
    "If you want to understand it better and see more advanced features, check out [flax documentation](https://flax.readthedocs.io/en/latest/howtos/model_surgery.html)."
   ]
  },
  {
   "cell_type": "markdown",
   "id": "91c5df9c-c229-4d40-83c7-5e3cb4cb09ef",
   "metadata": {},
   "source": [
    "$$ D : \\mathbb{R}^N \\rightarrow \\mathbb{R}^M $$\n",
    "\n",
    "$$ D(x) = W x + b $$"
   ]
  },
  {
   "cell_type": "code",
   "execution_count": 213,
   "id": "6aa9bc73-0aee-4117-914b-418ed77d0abc",
   "metadata": {},
   "outputs": [],
   "source": [
    "# A Flax model must be a class sub-classing nn.Module\n",
    "class linear_model(nn.Module):\n",
    "    \n",
    "    # The body of the model must be defined using the `@nn.compact` decorator.\n",
    "    # Just think of it as boilerplate, and if you are curious, check out\n",
    "    # Flax documentation\n",
    "    @nn.compact\n",
    "    def __call__(self, x):\n",
    "        \"\"\"\n",
    "        This function should evaluate the result of the model for an input x and output the prediction.\n",
    "        \"\"\"\n",
    "        x = x.reshape(-1, in_dimension)\n",
    "        dense_layer = nn.Dense(features=out_dimension)\n",
    "        return dense_layer(x)"
   ]
  },
  {
   "cell_type": "markdown",
   "id": "c580b7ec-e0cd-4558-8af5-db32bc45022e",
   "metadata": {},
   "source": [
    "Let's initialize the model:\n",
    " \n",
    " - We need a seed for the RNG that generates the initial weights\n",
    " - We need a sample input"
   ]
  },
  {
   "cell_type": "code",
   "execution_count": 378,
   "id": "72da4310-55b9-4483-88ba-59914d65e216",
   "metadata": {},
   "outputs": [],
   "source": [
    "seed = 123\n",
    "\n",
    "model = linear_model()\n",
    "\n",
    "key = jax.random.PRNGKey(seed)\n",
    "sample_input = jnp.ones([1])\n",
    "\n",
    "pars = model.init(key, sample_input)"
   ]
  },
  {
   "cell_type": "markdown",
   "id": "ab0f12a2-d818-4395-9b34-0a6dfa4b563b",
   "metadata": {},
   "source": [
    "We can inspect the parameters.\n",
    "Flax stores them in a `PyTree`, a tree-structure of nested containers (dictionaries, lists and tuples) where the only leaf-nodes are jax.numpy tensors."
   ]
  },
  {
   "cell_type": "code",
   "execution_count": 379,
   "id": "851548b7-2bf5-4e33-8ca0-dde4be591922",
   "metadata": {},
   "outputs": [
    {
     "data": {
      "text/plain": [
       "FrozenDict({\n",
       "    params: {\n",
       "        Dense_0: {\n",
       "            kernel: DeviceArray([[-0.34714592]], dtype=float32),\n",
       "            bias: DeviceArray([0.], dtype=float32),\n",
       "        },\n",
       "    },\n",
       "})"
      ]
     },
     "execution_count": 379,
     "metadata": {},
     "output_type": "execute_result"
    }
   ],
   "source": [
    "import flax\n",
    "\n",
    "pars"
   ]
  },
  {
   "cell_type": "markdown",
   "id": "e2fd29f9-15c0-431b-b0ed-3cd5988d8fe0",
   "metadata": {},
   "source": [
    "To evaluate the Flax model, we need to use the `model.apply` syntax:"
   ]
  },
  {
   "cell_type": "code",
   "execution_count": 380,
   "id": "48e93869-cb2b-4e0c-b981-fb63c11b820c",
   "metadata": {},
   "outputs": [
    {
     "data": {
      "text/plain": [
       "(100, 1)"
      ]
     },
     "execution_count": 380,
     "metadata": {},
     "output_type": "execute_result"
    }
   ],
   "source": [
    "model.apply(pars, x).shape"
   ]
  },
  {
   "cell_type": "markdown",
   "id": "5444b0e4-c183-4b5d-9953-f314a2e7ba6a",
   "metadata": {},
   "source": [
    "So we can rewrite our loss function and training algorithm:"
   ]
  },
  {
   "cell_type": "code",
   "execution_count": 381,
   "id": "dfe6d1e1-a12c-41fd-9b16-f6a47b2a4921",
   "metadata": {},
   "outputs": [],
   "source": [
    "def loss_fn_flax(params, xs, ys):\n",
    "    \n",
    "    # function returning squared error of a single datapoint\n",
    "    def squared_error(x,y):\n",
    "          y_pred = model.apply(params, x)\n",
    "          return jnp.square(y-y_pred)/2.0\n",
    "    \n",
    "    squared_error_vmap = jax.vmap(squared_error)\n",
    "    return jnp.mean(squared_error_vmap(xs, ys))"
   ]
  },
  {
   "cell_type": "code",
   "execution_count": 382,
   "id": "866814e2-8335-4a73-b06b-a00847fcd959",
   "metadata": {},
   "outputs": [],
   "source": [
    "# initialize the network and get initial parameters\n",
    "pars = model.init(random.PRNGKey(0), x)[\"params\"]\n",
    "\n",
    "# we pick a gradient-descent step size\n",
    "learning_rate = 0.5\n",
    "\n",
    "# A list to hold our loss value as a function of iteration\n",
    "loss_history = []\n",
    "\n",
    "# the gradient function\n",
    "grad_fn = jax.jit(jax.grad(loss_fn_flax))\n",
    "\n",
    "for _ in range(20):\n",
    "    loss = loss_fn_flax({\"params\": pars}, x, y)\n",
    "    loss_history.append(loss)\n",
    "\n",
    "    grads = grad_fn({\"params\": pars}, x, y)[\"params\"]\n",
    "    pars = jax.tree_multimap(lambda p, g: p - learning_rate * g, pars, grads)"
   ]
  },
  {
   "cell_type": "code",
   "execution_count": 383,
   "id": "5a6cfdaf-83b9-42c1-9aa0-c08e6ff7bfa2",
   "metadata": {},
   "outputs": [
    {
     "data": {
      "text/plain": [
       "[<matplotlib.lines.Line2D at 0x163885a60>]"
      ]
     },
     "execution_count": 383,
     "metadata": {},
     "output_type": "execute_result"
    },
    {
     "data": {
      "image/png": "[encoded data removed]",
      "text/plain": [
       "<Figure size 432x288 with 1 Axes>"
      ]
     },
     "metadata": {
      "needs_background": "light"
     },
     "output_type": "display_data"
    }
   ],
   "source": [
    "plt.plot(loss_history)"
   ]
  },
  {
   "cell_type": "code",
   "execution_count": 221,
   "id": "f2c69a7d-1463-45c6-b5ca-9c83e9ebfd52",
   "metadata": {},
   "outputs": [
    {
     "data": {
      "text/plain": [
       "DeviceArray([[-1.8653626 ],\n",
       "             [-1.4593016 ],\n",
       "             [-1.0532407 ],\n",
       "             [-0.64717937],\n",
       "             [-0.24111849],\n",
       "             [ 0.16494268],\n",
       "             [ 0.57100374],\n",
       "             [ 0.9770648 ],\n",
       "             [ 1.3831257 ],\n",
       "             [ 1.7891867 ]], dtype=float32)"
      ]
     },
     "execution_count": 221,
     "metadata": {},
     "output_type": "execute_result"
    }
   ],
   "source": [
    " model.apply({\"params\": pars}, _xpts)"
   ]
  },
  {
   "cell_type": "code",
   "execution_count": 384,
   "id": "02ee6b96-336a-47db-8e80-b03960f9e8e7",
   "metadata": {},
   "outputs": [
    {
     "data": {
      "text/plain": [
       "[<matplotlib.lines.Line2D at 0x163918dc0>]"
      ]
     },
     "execution_count": 384,
     "metadata": {},
     "output_type": "execute_result"
    },
    {
     "data": {
      "image/png": "[encoded data removed]",
      "text/plain": [
       "<Figure size 432x288 with 1 Axes>"
      ]
     },
     "metadata": {
      "needs_background": "light"
     },
     "output_type": "display_data"
    }
   ],
   "source": [
    "# generate all points in an interval\n",
    "_xpts = jnp.linspace(-2,2,10)\n",
    "plt.plot(x,y, '*')\n",
    "plt.plot(_xpts, model.apply({\"params\": pars}, _xpts))"
   ]
  },
  {
   "cell_type": "code",
   "execution_count": null,
   "id": "d05cc62a-6cc4-43f9-b9d5-b7dbb65a5c8f",
   "metadata": {},
   "outputs": [],
   "source": []
  }
 ],
 "metadata": {
  "kernelspec": {
   "display_name": "Python (Netket development",
   "language": "python",
   "name": "dev-netket"
  },
  "language_info": {
   "codemirror_mode": {
    "name": "ipython",
    "version": 3
   },
   "file_extension": ".py",
   "mimetype": "text/x-python",
   "name": "python",
   "nbconvert_exporter": "python",
   "pygments_lexer": "ipython3",
   "version": "3.10.6"
  }
 },
 "nbformat": 4,
 "nbformat_minor": 5
}
